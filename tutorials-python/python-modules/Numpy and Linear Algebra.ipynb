{
 "cells": [
  {
   "cell_type": "markdown",
   "id": "e6c4f742-cddd-4904-9991-fc982a738d53",
   "metadata": {},
   "source": [
    "# Introduction to Numpy\n",
    "\n",
    "A library for arrays and scientific computations in Python. [Also Check Sympy Here.](https://www.sympy.org/en/index.html)\n",
    "\n",
    "### Disclaimer\n",
    "\n",
    "1. We don't need to import the modules everytime. This is just for demonstration purposes.\n",
    "2. This notebook contains just enough features of numpy and linear algebra to get started with machine learning fundamentals.\n",
    "3. cos-1 means cos inverse, sin-1 means sin inverse, and so on.\n",
    "4. x^2 means x squared.\n",
    "5. If a vector is denoted like [[a], [b]] and not [a, b] it means it is 2 x 1 vector (a column) and not a row.\n",
    "6. \"==\" should be read as \"must be equal to\" in notes.\n",
    "7. These notes do not serve as an alternative to a full course in university, school, or college. These notes only work as refresher guide for those who want to learn machine learning.\n",
    "8. Expand each section to see more.\n",
    "\n",
    "Special Thanks to: [YouTube Channel 3Blue1Brown](https://www.youtube.com/watch?v=fNk_zzaMoSs&list=PLZHQObOWTQDPD3MizzM2xVFitgF8hE_ab)\n"
   ]
  },
  {
   "cell_type": "markdown",
   "id": "02ea68da",
   "metadata": {},
   "source": [
    "## Importing the modules and some basic info\n"
   ]
  },
  {
   "cell_type": "code",
   "execution_count": 13,
   "id": "fec609b8-3405-47df-a8ba-363388fd2ac5",
   "metadata": {},
   "outputs": [],
   "source": [
    "# Importing the module as np (generally accepted abbreviation)\n",
    "import numpy as np\n",
    "\n",
    "np.set_printoptions(suppress=True)  # sets the print options to real numbers instead of using 'e' scientific notations."
   ]
  },
  {
   "cell_type": "code",
   "execution_count": 14,
   "id": "1f4c33f7-df77-4f5c-bb11-6113ce3127c0",
   "metadata": {},
   "outputs": [
    {
     "name": "stdout",
     "output_type": "stream",
     "text": [
      "Numpy Version: 1.26.2\n"
     ]
    }
   ],
   "source": [
    "# Print Numpy Version\n",
    "import numpy as np\n",
    "\n",
    "print(\"Numpy Version:\", np.__version__)"
   ]
  },
  {
   "cell_type": "code",
   "execution_count": 15,
   "id": "984cc921-ba00-45a5-bbb2-8ed71f997068",
   "metadata": {},
   "outputs": [
    {
     "name": "stdout",
     "output_type": "stream",
     "text": [
      "====================== Numpy Config ======================\n",
      "Build Dependencies:\n",
      "  blas:\n",
      "    detection method: pkgconfig\n",
      "    found: true\n",
      "    include directory: /opt/arm64-builds/include\n",
      "    lib directory: /opt/arm64-builds/lib\n",
      "    name: openblas64\n",
      "    openblas configuration: USE_64BITINT=1 DYNAMIC_ARCH=1 DYNAMIC_OLDER= NO_CBLAS=\n",
      "      NO_LAPACK= NO_LAPACKE= NO_AFFINITY=1 USE_OPENMP= SANDYBRIDGE MAX_THREADS=3\n",
      "    pc file directory: /usr/local/lib/pkgconfig\n",
      "    version: 0.3.23.dev\n",
      "  lapack:\n",
      "    detection method: internal\n",
      "    found: true\n",
      "    include directory: unknown\n",
      "    lib directory: unknown\n",
      "    name: dep4413533856\n",
      "    openblas configuration: unknown\n",
      "    pc file directory: unknown\n",
      "    version: 1.26.2\n",
      "Compilers:\n",
      "  c:\n",
      "    commands: cc\n",
      "    linker: ld64\n",
      "    name: clang\n",
      "    version: 14.0.0\n",
      "  c++:\n",
      "    commands: c++\n",
      "    linker: ld64\n",
      "    name: clang\n",
      "    version: 14.0.0\n",
      "  cython:\n",
      "    commands: cython\n",
      "    linker: cython\n",
      "    name: cython\n",
      "    version: 3.0.5\n",
      "Machine Information:\n",
      "  build:\n",
      "    cpu: aarch64\n",
      "    endian: little\n",
      "    family: aarch64\n",
      "    system: darwin\n",
      "  host:\n",
      "    cpu: aarch64\n",
      "    endian: little\n",
      "    family: aarch64\n",
      "    system: darwin\n",
      "Python Information:\n",
      "  path: /private/var/folders/76/zy5ktkns50v6gt5g8r0sf6sc0000gn/T/cibw-run-gluapr2g/cp312-macosx_arm64/build/venv/bin/python\n",
      "  version: '3.12'\n",
      "SIMD Extensions:\n",
      "  baseline:\n",
      "  - NEON\n",
      "  - NEON_FP16\n",
      "  - NEON_VFPV4\n",
      "  - ASIMD\n",
      "  found:\n",
      "  - ASIMDHP\n",
      "  not found:\n",
      "  - ASIMDFHM\n",
      "\n",
      "None\n"
     ]
    }
   ],
   "source": [
    "# Print Numpy configuration info\n",
    "import numpy as np\n",
    "\n",
    "print(\"====================== Numpy Config ======================\")\n",
    "print(np.show_config())"
   ]
  },
  {
   "cell_type": "code",
   "execution_count": 16,
   "id": "836ceeb6-e0f1-4e12-b1c0-4e6bbbec633c",
   "metadata": {},
   "outputs": [
    {
     "name": "stdout",
     "output_type": "stream",
     "text": [
      "add(x1, x2, /, out=None, *, where=True, casting='same_kind', order='K', dtype=None, subok=True[, signature, extobj])\n",
      "\n",
      "Add arguments element-wise.\n",
      "\n",
      "Parameters\n",
      "----------\n",
      "x1, x2 : array_like\n",
      "    The arrays to be added.\n",
      "    If ``x1.shape != x2.shape``, they must be broadcastable to a common\n",
      "    shape (which becomes the shape of the output).\n",
      "out : ndarray, None, or tuple of ndarray and None, optional\n",
      "    A location into which the result is stored. If provided, it must have\n",
      "    a shape that the inputs broadcast to. If not provided or None,\n",
      "    a freshly-allocated array is returned. A tuple (possible only as a\n",
      "    keyword argument) must have length equal to the number of outputs.\n",
      "where : array_like, optional\n",
      "    This condition is broadcast over the input. At locations where the\n",
      "    condition is True, the `out` array will be set to the ufunc result.\n",
      "    Elsewhere, the `out` array will retain its original value.\n",
      "    Note that if an uninitialized `out` array is created via the default\n",
      "    ``out=None``, locations within it where the condition is False will\n",
      "    remain uninitialized.\n",
      "**kwargs\n",
      "    For other keyword-only arguments, see the\n",
      "    :ref:`ufunc docs <ufuncs.kwargs>`.\n",
      "\n",
      "Returns\n",
      "-------\n",
      "add : ndarray or scalar\n",
      "    The sum of `x1` and `x2`, element-wise.\n",
      "    This is a scalar if both `x1` and `x2` are scalars.\n",
      "\n",
      "Notes\n",
      "-----\n",
      "Equivalent to `x1` + `x2` in terms of array broadcasting.\n",
      "\n",
      "Examples\n",
      "--------\n",
      ">>> np.add(1.0, 4.0)\n",
      "5.0\n",
      ">>> x1 = np.arange(9.0).reshape((3, 3))\n",
      ">>> x2 = np.arange(3.0)\n",
      ">>> np.add(x1, x2)\n",
      "array([[  0.,   2.,   4.],\n",
      "       [  3.,   5.,   7.],\n",
      "       [  6.,   8.,  10.]])\n",
      "\n",
      "The ``+`` operator can be used as a shorthand for ``np.add`` on ndarrays.\n",
      "\n",
      ">>> x1 = np.arange(9.0).reshape((3, 3))\n",
      ">>> x2 = np.arange(3.0)\n",
      ">>> x1 + x2\n",
      "array([[ 0.,  2.,  4.],\n",
      "       [ 3.,  5.,  7.],\n",
      "       [ 6.,  8., 10.]])\n"
     ]
    }
   ],
   "source": [
    "# Getting Help and Info\n",
    "import numpy as np\n",
    "\n",
    "np.info(np.add) # ---> Get information about add function of numpy."
   ]
  },
  {
   "cell_type": "markdown",
   "id": "b8357821-85cf-4103-90c4-fe2ff176dd76",
   "metadata": {},
   "source": [
    "## Creating Arrays\n",
    "\n",
    "There are three ways of creating arrays from numpy.\n",
    "\n",
    "1. Use Python sequential objects to create numpy arrays.\n",
    "2. Use Numpy's intrinsic functions to create arrays.\n",
    "3. Copy an existing array.\n"
   ]
  },
  {
   "cell_type": "markdown",
   "id": "c3d7e538-b14a-4ddf-9919-9d9b9d652292",
   "metadata": {},
   "source": [
    "### Creating Arrays from Python Objects\n"
   ]
  },
  {
   "cell_type": "code",
   "execution_count": 21,
   "id": "6ab6ec39-2cac-4aa8-875b-39a735d4e4d8",
   "metadata": {},
   "outputs": [
    {
     "name": "stdout",
     "output_type": "stream",
     "text": [
      "List Array: [1 5 7 9 4]\n",
      "Length of list array:  5\n"
     ]
    }
   ],
   "source": [
    "# Create array with python lists\n",
    "import numpy as np\n",
    "\n",
    "arr_list = np.array([1, 5, 7, 9, 4])\n",
    "print(f'List Array: {arr_list}')\n",
    "\n",
    "# Print length of an array\n",
    "print(\"Length of list array: \", len(arr_list))"
   ]
  },
  {
   "cell_type": "code",
   "execution_count": 22,
   "id": "8468cfe5",
   "metadata": {},
   "outputs": [
    {
     "name": "stdout",
     "output_type": "stream",
     "text": [
      "Tuple Array: [1 2 8 6]\n"
     ]
    }
   ],
   "source": [
    "# Create array with python tuples\n",
    "import numpy as np\n",
    "\n",
    "arr_tupl = np.array((1, 2, 8, 6))\n",
    "print(f'Tuple Array: {arr_tupl}')"
   ]
  },
  {
   "cell_type": "code",
   "execution_count": 23,
   "id": "6de7d8ad",
   "metadata": {},
   "outputs": [
    {
     "name": "stdout",
     "output_type": "stream",
     "text": [
      "2D array:\n",
      "[[1 2]\n",
      " [3 4]]\n",
      "2D array dimension: 2\n",
      "Length of 2D array:  2\n"
     ]
    }
   ],
   "source": [
    "# Create 2d array with python list\n",
    "import numpy as np\n",
    "\n",
    "arr_2d  = np.array([[1, 2], [3, 4]])\n",
    "print(\"2D array:\")\n",
    "print(arr_2d)\n",
    "\n",
    "# Check array dimensions\n",
    "print(f'2D array dimension: {arr_2d.ndim}')\n",
    "\n",
    "print(\"Length of 2D array: \", len(arr_2d))"
   ]
  },
  {
   "cell_type": "code",
   "execution_count": 25,
   "id": "60d09645",
   "metadata": {},
   "outputs": [
    {
     "name": "stdout",
     "output_type": "stream",
     "text": [
      "5D Array: [[[[[1 2 3 4 5]]]]] and Dimension: 5\n"
     ]
    }
   ],
   "source": [
    "# Creating ndim array\n",
    "import numpy as np\n",
    "\n",
    "arr_ndim = np.array([1, 2, 3, 4, 5], ndmin=5)   # create a 5th dimensional array\n",
    "print(f'5D Array: {arr_ndim} and Dimension: {arr_ndim.ndim}')"
   ]
  },
  {
   "cell_type": "markdown",
   "id": "3104c77b",
   "metadata": {},
   "source": [
    "#### Create Array and Define Type for Memory Optimization\n",
    "\n",
    "Specifying data type explicitly allows numpy to save memory and make calculations more faster.\n",
    "\n",
    "[Check all datatypes here](https://numpy.org/doc/stable/user/basics.types.html)\n"
   ]
  },
  {
   "cell_type": "code",
   "execution_count": 27,
   "id": "850e8c06",
   "metadata": {},
   "outputs": [
    {
     "name": "stdout",
     "output_type": "stream",
     "text": [
      "[ 0 11 22 33 44 55]\n"
     ]
    }
   ],
   "source": [
    "# Creating array and defining the type for optimizations\n",
    "import numpy as np\n",
    "\n",
    "ls = np.array([0, 11, 22, 33, 44, 55], dtype=np.uint16)\n",
    "print(ls)"
   ]
  },
  {
   "cell_type": "markdown",
   "id": "69059e87-3f66-4451-8cf2-25a97b1ae1ee",
   "metadata": {},
   "source": [
    "### Numpy Methods to Create Arrays\n"
   ]
  },
  {
   "cell_type": "markdown",
   "id": "5f5f6745",
   "metadata": {},
   "source": [
    "#### Arange method np.arange()\n",
    "\n",
    "Syntax: np.arange(start, end, step, dtype=np.int8)</br>\n",
    "</br>\n",
    "The end is not inclued, mathematically something like this - [start, end)\n"
   ]
  },
  {
   "cell_type": "code",
   "execution_count": 28,
   "id": "2340c5b2",
   "metadata": {},
   "outputs": [
    {
     "name": "stdout",
     "output_type": "stream",
     "text": [
      "Arange array: [1 2 3 4 5 6 7 8 9]\n",
      "Arange array [1 2 3 4 5 6 7 8 9] with datatype int8\n",
      "Arange array [1. 2. 3. 4. 5. 6. 7. 8. 9.] with datatype float64\n",
      "Arange array starting at 1, stopping at 1.9 with step 0.1 = [1.  1.1 1.2 1.3 1.4 1.5 1.6 1.7 1.8 1.9]\n"
     ]
    }
   ],
   "source": [
    "# Create different types of numpy array with np.arange()\n",
    "import numpy as np\n",
    "\n",
    "arr = np.arange(1, 10) # start, end (not included)\n",
    "print(f'Arange array: {arr}')\n",
    "\n",
    "arr = np.arange(1, 10, dtype=np.int8)\n",
    "print(f'Arange array {arr} with datatype {arr.dtype}')\n",
    "\n",
    "arr = np.arange(1, 10, dtype=float)\n",
    "print(f'Arange array {arr} with datatype {arr.dtype}')\n",
    "\n",
    "arr = np.arange(1, 2, 0.1)\n",
    "print(f'Arange array starting at 1, stopping at 1.9 with step 0.1 = {arr}')"
   ]
  },
  {
   "cell_type": "markdown",
   "id": "5a863096",
   "metadata": {},
   "source": [
    "#### Identity Matrix\n",
    "\n",
    "Syntax: np.eye(rows, cols)\n",
    "\n",
    "If the rows != cols then other elements are set to 0\n"
   ]
  },
  {
   "cell_type": "code",
   "execution_count": 106,
   "id": "83099f52",
   "metadata": {},
   "outputs": [
    {
     "name": "stdout",
     "output_type": "stream",
     "text": [
      "3 x 3 Identity Matrix\n",
      "[[1. 0. 0.]\n",
      " [0. 1. 0.]\n",
      " [0. 0. 1.]]\n",
      "\n",
      "\n",
      "3 x 3 Identity Matrix\n",
      "[[1. 0. 0.]\n",
      " [0. 1. 0.]\n",
      " [0. 0. 1.]]\n",
      "\n",
      "\n",
      "3 x 6 Identity Matrix with extra elements set to 0\n",
      "[[1. 0. 0. 0. 0. 0.]\n",
      " [0. 1. 0. 0. 0. 0.]\n",
      " [0. 0. 1. 0. 0. 0.]]\n"
     ]
    }
   ],
   "source": [
    "# Create Identity Matrix with numpy\n",
    "import numpy as np\n",
    "\n",
    "idmat = np.eye(3)\n",
    "print(\"3 x 3 Identity Matrix\")\n",
    "print(idmat)\n",
    "print(\"\\n\")\n",
    "\n",
    "print(\"3 x 3 Identity Matrix\")\n",
    "idmat = np.eye(3, 3)\n",
    "print(idmat)\n",
    "print(\"\\n\")\n",
    "\n",
    "print(\"3 x 6 Identity Matrix with extra elements set to 0\")\n",
    "idmat = np.eye(3, 6)\n",
    "print(idmat)"
   ]
  },
  {
   "cell_type": "markdown",
   "id": "fe58cd1c",
   "metadata": {},
   "source": [
    "#### Creating nD arrays\n",
    "\n",
    "No direct method available. Use the reshape() function to reshape a 1D Array.\n",
    "\n",
    "Syntax: arr.reshape(rows, cols, z, ...) ---> n arguments will shape the array in n dimensions.</br>\n",
    "</br>\n",
    "<strong>Note: </strong>rows _ cols _ z \\* ... all dimensions product must be euqal to number of items in the array.\n"
   ]
  },
  {
   "cell_type": "code",
   "execution_count": 33,
   "id": "dac33aeb",
   "metadata": {},
   "outputs": [
    {
     "name": "stdout",
     "output_type": "stream",
     "text": [
      "A 2D 3x3 matrix:\n",
      "[[1 2 3]\n",
      " [4 5 6]\n",
      " [7 8 9]]\n",
      "\n",
      "\n",
      "A 4D 2x2x2x2 matrix:\n",
      "[[[[ 0  1]\n",
      "   [ 2  3]]\n",
      "\n",
      "  [[ 4  5]\n",
      "   [ 6  7]]]\n",
      "\n",
      "\n",
      " [[[ 8  9]\n",
      "   [10 11]]\n",
      "\n",
      "  [[12 13]\n",
      "   [14 15]]]]\n",
      "\n",
      "\n"
     ]
    }
   ],
   "source": [
    "# Reshaping array\n",
    "import numpy as np\n",
    "\n",
    "mat = np.arange(1, 10).reshape(3, 3) # provide more int args to the reshape function to create more dimensions\n",
    "print(\"A 2D 3x3 matrix:\")\n",
    "print(mat)\n",
    "print(\"\\n\")\n",
    "\n",
    "mat = np.arange(0, 16).reshape(2, 2, 2, 2)  # creates a 4d array\n",
    "print(\"A 4D 2x2x2x2 matrix:\")\n",
    "print(mat)\n",
    "print(\"\\n\")"
   ]
  },
  {
   "cell_type": "markdown",
   "id": "9c199a5e",
   "metadata": {},
   "source": [
    "#### Diagonal Matrix\n",
    "\n",
    "Syntax: np.diag([a, b, c])\n",
    "\n",
    "Creates a diagonal matrix\n"
   ]
  },
  {
   "cell_type": "code",
   "execution_count": 37,
   "id": "1593adb8",
   "metadata": {},
   "outputs": [
    {
     "name": "stdout",
     "output_type": "stream",
     "text": [
      "Simple diagonal matrix:\n",
      "[[1 0 0]\n",
      " [0 2 0]\n",
      " [0 0 3]]\n",
      "\n",
      "\n",
      "A (3 + 2) * (3 + 2) diagonal matrix with all other values as 0:\n",
      "[[0 0 1 0 0]\n",
      " [0 0 0 2 0]\n",
      " [0 0 0 0 3]\n",
      " [0 0 0 0 0]\n",
      " [0 0 0 0 0]]\n",
      "\n",
      "\n",
      "Original matrix:\n",
      "[[1 2]\n",
      " [3 4]]\n",
      "Extracting the diagonal elements from a matrix:\n",
      "[1 4]\n",
      "\n",
      "\n"
     ]
    }
   ],
   "source": [
    "# Creating a diagonal matrix\n",
    "import numpy as np\n",
    "\n",
    "diag = np.diag([1, 2, 3])\n",
    "print(\"Simple diagonal matrix:\")\n",
    "print(diag)\n",
    "print(\"\\n\")\n",
    "\n",
    "diag = np.diag([1, 2, 3], 2)\n",
    "print(\"A (3 + 2) * (3 + 2) diagonal matrix with all other values as 0:\")\n",
    "print(diag)\n",
    "print(\"\\n\")\n",
    "\n",
    "arr = np.array([[1, 2], [3, 4]])\n",
    "print(\"Original matrix:\")\n",
    "print(arr)\n",
    "diag = np.diag(arr)\n",
    "print(\"Extracting the diagonal elements from a matrix:\")\n",
    "print(diag)\n",
    "print(\"\\n\")"
   ]
  },
  {
   "cell_type": "markdown",
   "id": "3de0ab08",
   "metadata": {},
   "source": [
    "#### Filling Arrays\n",
    "\n",
    "Creates an array and fills it with 0, 1, or random numbers.\n"
   ]
  },
  {
   "cell_type": "code",
   "execution_count": 38,
   "id": "10e70cec",
   "metadata": {},
   "outputs": [
    {
     "name": "stdout",
     "output_type": "stream",
     "text": [
      "[0. 0. 0.]\n"
     ]
    }
   ],
   "source": [
    "# Zero filled arrays\n",
    "import numpy as np\n",
    "\n",
    "zeroes = np.zeros((3))  # Creates an 1D array\n",
    "print(zeroes)"
   ]
  },
  {
   "cell_type": "code",
   "execution_count": 39,
   "id": "03aa9f2c",
   "metadata": {},
   "outputs": [
    {
     "name": "stdout",
     "output_type": "stream",
     "text": [
      "[[1. 1. 1.]\n",
      " [1. 1. 1.]\n",
      " [1. 1. 1.]]\n"
     ]
    }
   ],
   "source": [
    "# One filled arrays\n",
    "import numpy as np\n",
    "\n",
    "ones = np.ones((3, 3)) # Creates a 2D matrix\n",
    "print(ones)"
   ]
  },
  {
   "cell_type": "code",
   "execution_count": 42,
   "id": "0436e567",
   "metadata": {},
   "outputs": [
    {
     "name": "stdout",
     "output_type": "stream",
     "text": [
      "[[0.08564917 0.23681051 0.80127447]\n",
      " [0.58216204 0.09412864 0.43312694]]\n"
     ]
    }
   ],
   "source": [
    "# Random values filled arrays\n",
    "from numpy.random import default_rng\n",
    "\n",
    "mat = default_rng(3).random((2,3)) # Creates a 2x3 2D matrix\n",
    "print(mat)"
   ]
  },
  {
   "cell_type": "markdown",
   "id": "824f1aef",
   "metadata": {},
   "source": [
    "### Copying Arrays\n",
    "\n",
    "There are two types of copying of arrays in Numpy\n",
    "\n",
    "1. Shallow copy (also called views) - these lets you see a view of the original array. Uses slice to create views.\n",
    "2. Deep copy, creates a new array. Uses copy() to create a copy\n"
   ]
  },
  {
   "cell_type": "code",
   "execution_count": 45,
   "id": "855b0e28",
   "metadata": {},
   "outputs": [
    {
     "name": "stdout",
     "output_type": "stream",
     "text": [
      "Original array:  [1 2 3 4 5 6] \n",
      "\n",
      "View of a:  [3 4 5 6]\n",
      "Adding one two each element of b using array broadcasting\n",
      "\n",
      "View of a:  [4 5 6 7]\n",
      "Original array a:  [1 2 4 5 6 7] \n",
      "\n",
      "Chaging b[0], i.e., a[2] to 55\n",
      "View of a:  [55  5  6  7]\n",
      "Original array a:  [ 1  2 55  5  6  7]\n"
     ]
    }
   ],
   "source": [
    "# Shallow Copy or Views Demonstration\n",
    "import numpy as np\n",
    "\n",
    "a = np.array([1, 2, 3, 4, 5, 6])\n",
    "print(\"Original array: \", a, \"\\n\")\n",
    "\n",
    "b = a[2:]\n",
    "print(\"View of a: \", b)\n",
    "\n",
    "print(\"Adding one two each element of b using array broadcasting\\n\")\n",
    "b += 1  # adds one to each element in the array\n",
    "\n",
    "print(\"View of a: \", b)\n",
    "print(\"Original array a: \", a, \"\\n\")\n",
    "\n",
    "print(\"Chaging b[0], i.e., a[2] to 55\")\n",
    "b[0] = 55  # adds one to each element in the array\n",
    "\n",
    "print(\"View of a: \", b)\n",
    "print(\"Original array a: \", a)"
   ]
  },
  {
   "cell_type": "code",
   "execution_count": 50,
   "id": "3655329d",
   "metadata": {},
   "outputs": [
    {
     "name": "stdout",
     "output_type": "stream",
     "text": [
      "Original array:  [1 2 3 4 5 6]\n",
      "b:  [3 4 5 6] \n",
      "\n",
      "Adding one two each element of b using array broadcasting\n",
      "\n",
      "b:  [4 5 6 7]\n",
      "Original array a is still:  [1 2 3 4 5 6]\n"
     ]
    }
   ],
   "source": [
    "# Deep Copy or Views Demonstration\n",
    "import numpy as np\n",
    "\n",
    "a = np.array([1, 2, 3, 4, 5, 6])\n",
    "print(\"Original array: \", a)\n",
    "\n",
    "b = a[2:].copy() # deep copy\n",
    "print(\"b: \", b, \"\\n\")\n",
    "\n",
    "print(\"Adding one two each element of b using array broadcasting\\n\")\n",
    "b += 1  # adds one to each element in the array\n",
    "\n",
    "print(\"b: \", b)\n",
    "print(\"Original array a is still: \", a)"
   ]
  },
  {
   "cell_type": "markdown",
   "id": "6efc8206",
   "metadata": {},
   "source": [
    "## Array Indexing, Slicing and Printing\n",
    "\n",
    "Array can be sliced and assigned to other variables just like lists. However the syntax is a bit different.</br>\n",
    "</br>\n",
    "Syntax: arr[start: stop: step, start: stop: step, ..., n] ---> for n dimension array\n"
   ]
  },
  {
   "cell_type": "code",
   "execution_count": 52,
   "id": "a3b7b417",
   "metadata": {},
   "outputs": [
    {
     "name": "stdout",
     "output_type": "stream",
     "text": [
      "Array:  [0 1 2 3 4 5 6 7 8 9]\n",
      "Slice [0: 7: 2]:  [0 2 4 6]\n"
     ]
    }
   ],
   "source": [
    "# Slicing a 1D array\n",
    "import numpy as np\n",
    "\n",
    "arr = np.arange(0, 10, 1, dtype=np.uint8)\n",
    "print(\"Array: \", arr)\n",
    "print(\"Slice [0: 7: 2]: \", arr[0: 7: 2])\n"
   ]
  },
  {
   "cell_type": "code",
   "execution_count": 54,
   "id": "89bfed01",
   "metadata": {},
   "outputs": [
    {
     "name": "stdout",
     "output_type": "stream",
     "text": [
      "Matrix: \n",
      "[[ 1  2  3  4]\n",
      " [ 5  6  7  8]\n",
      " [ 9 10 11 12]\n",
      " [13 14 15 16]]\n",
      "\n",
      "\n",
      "Slice [0: 4: 2, 0: 2]: \n",
      "[[ 1  2]\n",
      " [ 9 10]]\n"
     ]
    }
   ],
   "source": [
    "# Slicing a 2D matrix\n",
    "import numpy as np\n",
    "\n",
    "mat = np.arange(1, 17, 1, dtype=np.uint8).reshape(4, 4)\n",
    "print(\"Matrix: \")\n",
    "print(mat)\n",
    "print(\"\\n\")\n",
    "\n",
    "print(\"Slice [0: 4: 2, 0: 2]: \")\n",
    "print(mat[0: 4: 2, 0: 2])"
   ]
  },
  {
   "cell_type": "markdown",
   "id": "8a4114d4",
   "metadata": {},
   "source": [
    "## Array Operations\n",
    "\n",
    "[Check all array manipulation methods here](https://numpy.org/doc/stable/reference/routines.array-manipulation.html)\n"
   ]
  },
  {
   "cell_type": "markdown",
   "id": "ac45d230",
   "metadata": {},
   "source": [
    "### Stacking Arrays\n",
    "\n",
    "Two types of stacking\n",
    "\n",
    "1. Horizontal Stack or HStack - use the hstack() function\n",
    "2. Vertical Stack or VStack - use the vstack() function\n"
   ]
  },
  {
   "cell_type": "code",
   "execution_count": 58,
   "id": "97a86db7",
   "metadata": {},
   "outputs": [
    {
     "name": "stdout",
     "output_type": "stream",
     "text": [
      "Horizontal stack\n",
      "[[0. 0. 0. 1. 1. 1.]\n",
      " [0. 0. 0. 1. 1. 1.]\n",
      " [0. 0. 0. 1. 1. 1.]]\n"
     ]
    }
   ],
   "source": [
    "# Stacking arrays Horizontally\n",
    "import numpy as np\n",
    "\n",
    "a = np.zeros((3, 3))\n",
    "b = np.ones((3, 3))\n",
    "\n",
    "hs = np.hstack((a, b))\n",
    "\n",
    "print(\"Horizontal stack\")\n",
    "print(hs)"
   ]
  },
  {
   "cell_type": "code",
   "execution_count": 59,
   "id": "781b26b9",
   "metadata": {},
   "outputs": [
    {
     "name": "stdout",
     "output_type": "stream",
     "text": [
      "[[0. 0. 0.]\n",
      " [0. 0. 0.]\n",
      " [0. 0. 0.]]\n",
      "[[1. 1. 1.]\n",
      " [1. 1. 1.]\n",
      " [1. 1. 1.]]\n",
      "Vertical stack: \n",
      "[[0. 0. 0.]\n",
      " [0. 0. 0.]\n",
      " [0. 0. 0.]\n",
      " [1. 1. 1.]\n",
      " [1. 1. 1.]\n",
      " [1. 1. 1.]]\n"
     ]
    }
   ],
   "source": [
    "# Stacking arrays Vertically\n",
    "import numpy as np\n",
    "\n",
    "a = np.zeros((3, 3))\n",
    "b = np.ones((3, 3))\n",
    "\n",
    "print(a)\n",
    "print(b)\n",
    "\n",
    "vs = np.vstack((a, b))\n",
    "\n",
    "print(\"Vertical stack: \")\n",
    "print(vs)"
   ]
  },
  {
   "cell_type": "markdown",
   "id": "88992e1b",
   "metadata": {},
   "source": [
    "### Splitting Arrays\n",
    "\n",
    "Two types of splitting\n",
    "\n",
    "1. Horizontal Split or HSplit - use the hsplit() function\n",
    "2. Vertical Split or VSplit - use the vsplit() function\n"
   ]
  },
  {
   "cell_type": "code",
   "execution_count": 61,
   "id": "aecc1c53",
   "metadata": {},
   "outputs": [
    {
     "name": "stdout",
     "output_type": "stream",
     "text": [
      "Original matrix:\n",
      "[[ 0  1  2  3]\n",
      " [ 4  5  6  7]\n",
      " [ 8  9 10 11]\n",
      " [12 13 14 15]] \n",
      "\n",
      "Upper half:\n",
      "[[0 1 2 3]\n",
      " [4 5 6 7]]\n",
      "Lower half\n",
      "[[ 8  9 10 11]\n",
      " [12 13 14 15]]\n"
     ]
    }
   ],
   "source": [
    "# Vertical Split\n",
    "import numpy as np\n",
    "\n",
    "mat = np.arange(16).reshape(4, 4)\n",
    "print(\"Original matrix:\")\n",
    "print(mat, \"\\n\")\n",
    "\n",
    "x, y = np.vsplit(mat, 2)    # the split number should be a divisor of row numbers\n",
    "\n",
    "print(\"Upper half:\")\n",
    "print(x)\n",
    "\n",
    "print(\"Lower half\")\n",
    "print(y)"
   ]
  },
  {
   "cell_type": "code",
   "execution_count": 63,
   "id": "3dbad405",
   "metadata": {},
   "outputs": [
    {
     "name": "stdout",
     "output_type": "stream",
     "text": [
      "Original matrix:\n",
      "[[ 0  1  2  3]\n",
      " [ 4  5  6  7]\n",
      " [ 8  9 10 11]] \n",
      "\n",
      "Left half:\n",
      "[[0 1]\n",
      " [4 5]\n",
      " [8 9]]\n",
      "Right half\n",
      "[[ 2  3]\n",
      " [ 6  7]\n",
      " [10 11]]\n"
     ]
    }
   ],
   "source": [
    "# Horizontal Split\n",
    "import numpy as np\n",
    "\n",
    "mat = np.arange(12).reshape(3, 4)\n",
    "print(\"Original matrix:\")\n",
    "print(mat, \"\\n\")\n",
    "\n",
    "x, y = np.hsplit(mat, 2)    # the split number should be a divisor of col numbers\n",
    "\n",
    "print(\"Left half:\")\n",
    "print(x)\n",
    "\n",
    "print(\"Right half\")\n",
    "print(y)"
   ]
  },
  {
   "cell_type": "markdown",
   "id": "272b515c",
   "metadata": {},
   "source": [
    "### Concatenate\n",
    "\n",
    "By default the axis = 0 means concatenate rows or vstack. </br>\n",
    "The axis = 1 means concatenate cols or hstack.</br>\n",
    "</br>\n",
    "Length should be same on the chosen axis for a successful concatenation.\n"
   ]
  },
  {
   "cell_type": "code",
   "execution_count": 68,
   "id": "a11e01ae",
   "metadata": {},
   "outputs": [
    {
     "name": "stdout",
     "output_type": "stream",
     "text": [
      "a: \n",
      "[[0 1]\n",
      " [2 3]] \n",
      "\n",
      "b: \n",
      "[[4 5]\n",
      " [6 7]] \n",
      "\n",
      "Vertiacally Concatenated:\n",
      "[[0 1]\n",
      " [2 3]\n",
      " [4 5]\n",
      " [6 7]] \n",
      "\n",
      "Horizontally Concatenated:\n",
      "[[0 1 4 5]\n",
      " [2 3 6 7]]\n"
     ]
    }
   ],
   "source": [
    "# Concatenating arrays or matrices\n",
    "\n",
    "a = np.arange(4).reshape(2, 2)\n",
    "b = np.arange(4, 8).reshape(2, 2)\n",
    "\n",
    "print(\"a: \")\n",
    "print(a, \"\\n\")\n",
    "\n",
    "print(\"b: \")\n",
    "print(b, \"\\n\")\n",
    "\n",
    "print(\"Vertiacally Concatenated:\")\n",
    "print(np.concatenate((a, b), axis=0), \"\\n\")\n",
    "\n",
    "print(\"Horizontally Concatenated:\")\n",
    "print(np.concatenate((a, b), axis=1))"
   ]
  },
  {
   "cell_type": "markdown",
   "id": "152aab35",
   "metadata": {},
   "source": [
    "## Array Broadcasting\n",
    "\n",
    "Automatically expand or stretch the smaller arrays to perform arithmetic operations.\n"
   ]
  },
  {
   "cell_type": "code",
   "execution_count": 78,
   "id": "18ca0350",
   "metadata": {},
   "outputs": [
    {
     "name": "stdout",
     "output_type": "stream",
     "text": [
      "Original matrix:\n",
      "[[ 0  1  2  3]\n",
      " [ 4  5  6  7]\n",
      " [ 8  9 10 11]\n",
      " [12 13 14 15]] \n",
      "\n",
      "Adding two to each element in the matrix: \n",
      "[[ 2  3  4  5]\n",
      " [ 6  7  8  9]\n",
      " [10 11 12 13]\n",
      " [14 15 16 17]] \n",
      "\n",
      "Adding [1, 2, 3, 4] row array to every row of the original matrix:\n",
      "[[ 1  3  5  7]\n",
      " [ 5  7  9 11]\n",
      " [ 9 11 13 15]\n",
      " [13 15 17 19]] \n",
      "\n",
      "Adding [1, 2, 3, 4] col array to every col of the original matrix\n",
      "[[ 1  2  3  4]\n",
      " [ 6  7  8  9]\n",
      " [11 12 13 14]\n",
      " [16 17 18 19]]\n"
     ]
    }
   ],
   "source": [
    "# Broadcast addition (or subtraction)\n",
    "import numpy as np\n",
    "\n",
    "mat = np.arange(16).reshape(4, 4)\n",
    "print(\"Original matrix:\")\n",
    "print(mat, \"\\n\")\n",
    "\n",
    "print(\"Adding two to each element in the matrix: \")\n",
    "print(mat + 2, \"\\n\")\n",
    "\n",
    "print(\"Adding [1, 2, 3, 4] row array to every row of the original matrix:\")\n",
    "print(mat + np.array([1, 2, 3, 4]), \"\\n\")\n",
    "\n",
    "print(\"Adding [1, 2, 3, 4] col array to every col of the original matrix\")\n",
    "print(mat + np.array([1, 2, 3, 4]).reshape(4, 1))"
   ]
  },
  {
   "cell_type": "code",
   "execution_count": 80,
   "id": "b5afb376",
   "metadata": {},
   "outputs": [
    {
     "name": "stdout",
     "output_type": "stream",
     "text": [
      "Original matrix:\n",
      "[[ 0  1  2  3]\n",
      " [ 4  5  6  7]\n",
      " [ 8  9 10 11]\n",
      " [12 13 14 15]] \n",
      "\n",
      "Multiplying two to each element in the matrix: \n",
      "[[ 0  2  4  6]\n",
      " [ 8 10 12 14]\n",
      " [16 18 20 22]\n",
      " [24 26 28 30]] \n",
      "\n"
     ]
    }
   ],
   "source": [
    "# Broadcast multiplication\n",
    "import numpy as np\n",
    "\n",
    "mat = np.arange(16).reshape(4, 4)\n",
    "print(\"Original matrix:\")\n",
    "print(mat, \"\\n\")\n",
    "\n",
    "print(\"Multiplying two to each element in the matrix: \")\n",
    "print(mat * 2, \"\\n\")"
   ]
  },
  {
   "cell_type": "markdown",
   "id": "2e26232f",
   "metadata": {},
   "source": [
    "# Vectors with Numpy\n",
    "\n",
    "## Introduction to Vectors\n",
    "\n",
    "### Computer Science\n",
    "\n",
    "In computer science, vectors are ordered lists of numbers to represent different values of the same entity (usually). Example, a house can be represented by values of it's different metrics such as no. of rooms, total area, no. of floors, price, etc.\n",
    "\n",
    "It can be represented vertically or horizontally.</br>\n",
    "[3, 1400, 2, 150000] where 3 is the no. of rooms, 1400 is the area in sq. ft, 2 is the number of floors and 150000 is the cost.</br>\n",
    "The order of this sequence matters in calculations.\n",
    "</br>\n",
    "\n",
    "<strong>Note: </strong>Vectors in computer science always start from the origin (0, 0), unless otherwise stated.\n",
    "\n",
    "### Mathematics\n",
    "\n",
    "In Mathematics, vectors are lines on 2D, 3D, or nD space with a magnitude and a direction. <strong>In a 2D plane [x, y] represents a vector where tan-1(y / x) gives us the direction of the vector and sqrt(x^2 + y^2) gives the magnitude of the vector.</strong>\n"
   ]
  },
  {
   "cell_type": "markdown",
   "id": "f0ce09a5",
   "metadata": {},
   "source": [
    "## Vector Arithmetic\n",
    "\n",
    "Vectors can be added, subtracted, multiplied (dot and cross), etc just like real numbers.\n"
   ]
  },
  {
   "cell_type": "markdown",
   "id": "a6f58185",
   "metadata": {},
   "source": [
    "### Addition of Vectors\n",
    "\n",
    "Let's say a vector p(x, y) goes from point A to point B and a vector q(i, j) goes from point B to point C in a 2D space. The vector r(x+i, y+j) = p + q means going from point A to point C directly.</br>\n",
    "</br>\n",
    "In numpy a vector is an n x 1 entity. An easy way to create this vector out of python list is to use the reshape(n, 1).</br>\n",
    "The vector will always be represented as an n x 1 entity except in some special cases.\n"
   ]
  },
  {
   "cell_type": "code",
   "execution_count": 79,
   "id": "4bb01eec",
   "metadata": {},
   "outputs": [
    {
     "name": "stdout",
     "output_type": "stream",
     "text": [
      "p:\n",
      "[[1]\n",
      " [2]]\n",
      "q:\n",
      "[[ 4]\n",
      " [-7]]\n",
      "\n",
      "\n",
      "p + q:\n",
      "[[ 5]\n",
      " [-5]]\n"
     ]
    }
   ],
   "source": [
    "# Addition of Vectors\n",
    "import numpy as np\n",
    "\n",
    "# Create two vectors\n",
    "p = np.array([1, 2]).reshape(2, 1)\n",
    "q = np.array([4, -7]).reshape(2, 1)\n",
    "\n",
    "# Add those vectors\n",
    "r = p + q\n",
    "\n",
    "print(\"p:\")\n",
    "print(p)\n",
    "print(\"q:\")\n",
    "print(q)\n",
    "print(\"\\n\")\n",
    "print(\"p + q:\")\n",
    "print(r)"
   ]
  },
  {
   "cell_type": "markdown",
   "id": "b0e778e8",
   "metadata": {},
   "source": [
    "### Distance between two Vectors\n",
    "\n",
    "The distance r between a vector u(2, 1) and a vector v(8, 9) can be calculated in following ways:\n",
    "\n",
    "1. L1 Method v - u = r(6, 8)\n",
    "2. L2 Method r = sqrt((8-2)^2 + (9-1)^2) = 10\n",
    "3. Angle between them: cos-1(u.v / (|u| . |v|)) where |u| and |v| denotes the magnitude of the vectors u and v respectively.\n",
    "\n",
    "<strong>Note: </strong>For all notes, most of the time L2 methods will be used, unless stated otherwise.\n"
   ]
  },
  {
   "cell_type": "code",
   "execution_count": 80,
   "id": "4c1d66b3",
   "metadata": {},
   "outputs": [
    {
     "name": "stdout",
     "output_type": "stream",
     "text": [
      "u:\n",
      "[[2]\n",
      " [1]]\n",
      "v:\n",
      "[[8]\n",
      " [9]]\n",
      "\n",
      "\n",
      "L1 Distance:\n",
      "[[6]\n",
      " [8]]\n"
     ]
    }
   ],
   "source": [
    "# L1 Method\n",
    "import numpy as np\n",
    "\n",
    "# Create two vectors\n",
    "u = np.array([2, 1]).reshape(2, 1)\n",
    "v = np.array([8, 9]).reshape(2, 1)\n",
    "\n",
    "# Find the distance between them using L1 method\n",
    "dist = v - u\n",
    "\n",
    "print(\"u:\")\n",
    "print(u)\n",
    "print(\"v:\")\n",
    "print(v)\n",
    "print(\"\\n\")\n",
    "print(\"L1 Distance:\")\n",
    "print(dist)"
   ]
  },
  {
   "cell_type": "code",
   "execution_count": 77,
   "id": "47f26bd9",
   "metadata": {},
   "outputs": [
    {
     "name": "stdout",
     "output_type": "stream",
     "text": [
      "u:\n",
      "[[2]\n",
      " [1]]\n",
      "v:\n",
      "[[8]\n",
      " [9]]\n",
      "\n",
      "\n",
      "L2 Distance: 10.0\n"
     ]
    }
   ],
   "source": [
    "# L2 Method\n",
    "import numpy as np\n",
    "\n",
    "u = np.array([2, 1]).reshape(2, 1)\n",
    "v = np.array([8, 9]).reshape(2, 1)\n",
    "\n",
    "# Calculate the v - u and then normalise it to find the magnitude\n",
    "dist = np.linalg.norm(v - u)   \n",
    "\n",
    "print(\"u:\")\n",
    "print(u)\n",
    "print(\"v:\")\n",
    "print(v)\n",
    "print(\"\\n\")\n",
    "print(\"L2 Distance:\", dist)"
   ]
  },
  {
   "cell_type": "code",
   "execution_count": 81,
   "id": "f3b97f9b",
   "metadata": {},
   "outputs": [
    {
     "name": "stdout",
     "output_type": "stream",
     "text": [
      "vector u:\n",
      "[3 4]\n",
      "vector v:\n",
      "[ 1 -1]\n",
      "Angle between the vectors (in radians): 1.7126933813990606\n",
      "Angle between the vectors (in degrees): 98.13010235415598\n"
     ]
    }
   ],
   "source": [
    "# Angle between two vectors\n",
    "import numpy as np\n",
    "\n",
    "# Create two vectors - without reshaping to match the dimensions.\n",
    "vector_u = np.array([3, 4])\n",
    "vector_v = np.array([1, -1])\n",
    "\n",
    "# Calculate the dot product\n",
    "dot_product = np.dot(vector_u, vector_v)\n",
    "\n",
    "# Calculate the magnitudes of the vectors\n",
    "magnitude_u = np.linalg.norm(vector_u)\n",
    "magnitude_v = np.linalg.norm(vector_v)\n",
    "\n",
    "# Calculate the cosine of the angle\n",
    "cosine_theta = dot_product / (magnitude_u * magnitude_v)\n",
    "\n",
    "# Calculate the angle in radians\n",
    "angle_radians = np.arccos(cosine_theta)\n",
    "\n",
    "# Convert the angle to degrees\n",
    "angle_degrees = np.degrees(angle_radians)\n",
    "\n",
    "# Print the result\n",
    "print(\"vector u:\")\n",
    "print(vector_u)\n",
    "print(\"vector v:\")\n",
    "print(vector_v)\n",
    "print(\"Angle between the vectors (in radians):\", angle_radians)\n",
    "print(\"Angle between the vectors (in degrees):\", angle_degrees)"
   ]
  },
  {
   "cell_type": "markdown",
   "id": "b175c345",
   "metadata": {},
   "source": [
    "### Product of two Vectors\n",
    "\n",
    "There are two types of products of Vectors\n",
    "\n",
    "1. Scaling: Scale a vector by a scalar quantity c.\n",
    "2. Dot Product or Scalar Product: denoted by '.'\n",
    "3. Cross Product or Vector Product: denoted by 'x'\n"
   ]
  },
  {
   "cell_type": "markdown",
   "id": "dc865481",
   "metadata": {},
   "source": [
    "#### Scaling a Vector\n",
    "\n",
    "When a Vector v is multiplied by a scalar quantity c, the vector is scaled.\n"
   ]
  },
  {
   "cell_type": "code",
   "execution_count": 116,
   "id": "bf8191e8",
   "metadata": {},
   "outputs": [
    {
     "name": "stdout",
     "output_type": "stream",
     "text": [
      "Original vector:\t [1 2 3]\n",
      "Vector scaled by 3:\t [3 6 9]\n"
     ]
    }
   ],
   "source": [
    "# Scaling a vector\n",
    "import numpy as np\n",
    "\n",
    "vector_v = np.array([1, 2, 3])\n",
    "scaled_v = 3 * vector_v\n",
    "\n",
    "print(\"Original vector:\\t\", vector_v)\n",
    "print(\"Vector scaled by 3:\\t\", scaled_v)"
   ]
  },
  {
   "cell_type": "markdown",
   "id": "76c0603d",
   "metadata": {},
   "source": [
    "#### Dot Product or Scalar Product\n",
    "\n",
    "Let's assume two vectors: u(1, 2, 3) and v(4, 5, 6)</br>\n",
    "The dot product of two vectors u . v is (1 _ 2) + (2 _ 5) + (3 \\* 6) = 30</br>\n",
    "The Dot product of two vectors has following properties:\n",
    "\n",
    "- The dot product of two vectors always gives a real number.\n",
    "- If the two vectors are orthogonal, i.e., the angle between them is 90deg the dot product is always 0.\n",
    "- It is because cos(90) = 0. Remember we found the angle between them using cos-1 and cos-1(90deg) = 0.\n",
    "- The dot product is symmetrical i.e., u . v == v. u\n",
    "- The dot product is distributive over vector addition i.e., r . (u + v) = r . u + r . v\n",
    "- The dot product of a vector to itself i.e., u . u is |u|^2 (square of it's magnitude).\n"
   ]
  },
  {
   "cell_type": "code",
   "execution_count": 85,
   "id": "145a7410",
   "metadata": {},
   "outputs": [
    {
     "name": "stdout",
     "output_type": "stream",
     "text": [
      "Vector u: [3 4]\n",
      "Vector v: [ 1 -1]\n",
      "Dot product: -1\n"
     ]
    }
   ],
   "source": [
    "# Dot product of two vectors\n",
    "import numpy as np\n",
    "\n",
    "# Create two vectors - without reshaping to match the dimensions.\n",
    "vector_u = np.array([3, 4])\n",
    "vector_v = np.array([1, -1])\n",
    "\n",
    "# Calculate the dot product\n",
    "result = np.dot(vector_u, vector_v)\n",
    "\n",
    "# Display the result\n",
    "print(\"Vector u:\", vector_u)\n",
    "print(\"Vector v:\", vector_v)\n",
    "print(\"Dot product:\", result)"
   ]
  },
  {
   "cell_type": "markdown",
   "id": "f8e427c3",
   "metadata": {},
   "source": [
    "#### Cross Product or Vector Product\n",
    "\n",
    "Let's assume two vectors u(a, b, c) and v(x, y, z)</br>\n",
    "The cross product of two vectors u x v can be denoted by:</br>\n",
    "</br>\n",
    "| i&nbsp; j &nbsp;k |</br>\n",
    "| a b c |</br>\n",
    "| x y z |</br>\n",
    "</br>\n",
    "Which is: (bz – cy)i – (az – cx)j + (ay – bx)k = (bz – cy)i + (cx – az)j + (ay – bx)k</br>\n",
    "The cross product of two vectors has following properties:\n",
    "\n",
    "- The cross product is perpendicular to both the original vectors. And hence, u . (u x v) == v . (u x v) == 0\n",
    "- The cross product of two parallel vectors is 0\n",
    "- Non cumulative i.e., u x v != v x u but u x v == -(v x u)\n",
    "- Distributive over vector addition i.e., r x (u + v) = r x u + r x v\n",
    "- The angle relations is |u x v| = |u| . |v| . sin(theta)\n"
   ]
  },
  {
   "cell_type": "code",
   "execution_count": 86,
   "id": "d3a4e4e6",
   "metadata": {},
   "outputs": [
    {
     "name": "stdout",
     "output_type": "stream",
     "text": [
      "Vector u: [3 4 0]\n",
      "Vector v: [ 1 -1  2]\n",
      "Cross product: [ 8 -6 -7]\n"
     ]
    }
   ],
   "source": [
    "import numpy as np\n",
    "\n",
    "def calculate_cross_product(vector_u, vector_v):\n",
    "    cross_product = np.cross(vector_u, vector_v)\n",
    "    return cross_product\n",
    "\n",
    "# Example vectors (3D vectors for the cross product)\n",
    "vector_u = np.array([3, 4, 0])\n",
    "vector_v = np.array([1, -1, 2])\n",
    "\n",
    "# Calculate the cross product\n",
    "result = calculate_cross_product(vector_u, vector_v)\n",
    "\n",
    "# Display the result\n",
    "print(\"Vector u:\", vector_u)\n",
    "print(\"Vector v:\", vector_v)\n",
    "print(\"Cross product:\", result)"
   ]
  },
  {
   "cell_type": "markdown",
   "id": "62b9e2bb",
   "metadata": {},
   "source": [
    "# Matrices with Numpy (and Sympy)\n",
    "\n",
    "Matrices are rectangular arrays of numbers, symbols, or expressions arranged in rows and columns. They are fundamental mathematical objects that find applications in various fields, including linear algebra, physics, computer science, and engineering.\n",
    "\n",
    "A matrix is typically denoted by a capital letter, and its entries are referred to as elements. <strong>The size or order</strong> of a matrix is specified by its number of rows and columns. For example, an \"m x n\" matrix has m rows and n columns.</br>\n",
    "</br>\n",
    "A matrix can have N dimensions and it is obvious when the order of the matrix is written. m x n x ... (N-1)th dimension length x Nth dimension length is an N dimensional matrix.</br>\n",
    "</br>\n",
    "We denote a matrix as a square or rectangle entity but here we will denote them like this: A = [[1, 2], [4, 5], [7, 8]] is a 3 x 3 matrix. It can be easily observed that outer list has 3 elements but inner list has two elements. <strong>The outer list represents rows, and the inner list represents cols. This analogy can be generalised to N dimensions</strong> </br>\n",
    "\n",
    "- A matrix with only one row R = [[1, 2, 3]] called a row vector.\n",
    "- A matrix with only one column C = [[1], [2], [3]] called col vector.\n",
    "- A(i, j) denotes element of the matrix A at ith row and jth column.\n",
    "\n",
    "<strong>Note 1: </strong>We will use sympy rarely for some computations.</br>\n",
    "<strong>Note 1: </strong>We will use asmatrix() function of numpy to differentiate between matrix and an array. It is not necessary but it gives additional matrix functions to work with.\n"
   ]
  },
  {
   "cell_type": "code",
   "execution_count": 92,
   "id": "19d836ef",
   "metadata": {},
   "outputs": [
    {
     "name": "stdout",
     "output_type": "stream",
     "text": [
      "Matrix A:\n",
      "[[1 2 3 0]\n",
      " [4 5 6 1]\n",
      " [7 8 9 2]]\n",
      "Order of matrix A: (3, 4)\n"
     ]
    }
   ],
   "source": [
    "# Making a matrix\n",
    "import numpy as np\n",
    "\n",
    "matAsArray = np.array([[1, 2, 3, 0], [4, 5, 6, 1], [7, 8, 9, 2]])\n",
    "mat = np.asmatrix(matAsArray)\n",
    "\n",
    "print(\"Matrix A:\")\n",
    "print(mat)\n",
    "\n",
    "print(\"Order of matrix A:\", mat.shape)"
   ]
  },
  {
   "cell_type": "markdown",
   "id": "f447ad2c",
   "metadata": {},
   "source": [
    "## Special Types of Matrices\n",
    "\n",
    "There can be different types of Matrices. Some of them are:\n",
    "\n",
    "1. <strong>Square Matrix: </strong>If the order of a matrix A is m x n where m == n, the matrix is said to be square. Simply, no. of rows == no. cols in the matrix.\n",
    "2. <strong>Identity Matrix: </strong>A matrix is said to be identity matrix I if for a matrix A, A x I = A. I(i, j) = 1 when i == j and 0 when i != j.\n",
    "3. <strong>Diagonal Matrix: </strong>A matrix is said to be a diagonal matrix D if D(i, j) = x when i == j and 0 when i != j where x is any real number.\n",
    "4. <strong>Triangular Matrix: </strong>A matrix whose only upper or lower triangle is filled with a number and rest is 0. It is usually the upper right half.\n",
    "\n",
    "<strong>Note: </strong>There are other types of special matrices which we will cover later, while learning relevant concepts.\n"
   ]
  },
  {
   "cell_type": "code",
   "execution_count": 118,
   "id": "ebb06473",
   "metadata": {},
   "outputs": [
    {
     "name": "stdout",
     "output_type": "stream",
     "text": [
      "Matrix A:\n",
      "[[1 2 3]\n",
      " [4 5 6]\n",
      " [7 8 9]]\n",
      "Order of matrix A: (3, 3)\n"
     ]
    }
   ],
   "source": [
    "# Square Matrix\n",
    "import numpy as np\n",
    "\n",
    "matAsArray = np.array([[1, 2, 3], [4, 5, 6], [7, 8, 9]])\n",
    "mat = np.asmatrix(matAsArray)\n",
    "\n",
    "print(\"Matrix A:\")\n",
    "print(mat)\n",
    "\n",
    "print(\"Order of matrix A:\", mat.shape) # see that m == n"
   ]
  },
  {
   "cell_type": "code",
   "execution_count": 119,
   "id": "240f1fac",
   "metadata": {},
   "outputs": [
    {
     "name": "stdout",
     "output_type": "stream",
     "text": [
      "Identity matrix:\n",
      "[[1. 0. 0.]\n",
      " [0. 1. 0.]\n",
      " [0. 0. 1.]]\n"
     ]
    }
   ],
   "source": [
    "# Identity Matrix\n",
    "import numpy as np\n",
    "\n",
    "i = np.asmatrix(np.eye(3, 3))\n",
    "\n",
    "print(\"Identity matrix:\")\n",
    "print(i)"
   ]
  },
  {
   "cell_type": "code",
   "execution_count": 120,
   "id": "47d144a6",
   "metadata": {},
   "outputs": [
    {
     "name": "stdout",
     "output_type": "stream",
     "text": [
      "Diagonal Matrix:\n",
      "[[1 0 0]\n",
      " [0 2 0]\n",
      " [0 0 3]]\n"
     ]
    }
   ],
   "source": [
    "# Diagonal Matrix\n",
    "import numpy as np\n",
    "\n",
    "diag = np.asmatrix(np.diag([1, 2, 3]))\n",
    "\n",
    "print(\"Diagonal Matrix:\")\n",
    "print(diag)"
   ]
  },
  {
   "cell_type": "code",
   "execution_count": 121,
   "id": "f55ffe49",
   "metadata": {},
   "outputs": [
    {
     "name": "stdout",
     "output_type": "stream",
     "text": [
      "Upper Right Triangular Matrix:\n",
      "[[3 3 3]\n",
      " [0 3 3]\n",
      " [0 0 3]]\n"
     ]
    }
   ],
   "source": [
    "# Triangular Matrix\n",
    "import numpy as np\n",
    "\n",
    "trilist = [[3 if i <= j else 0 for j in range(3) ] for i in range(3)] # list comprehension for an upper right triangular matrix.\n",
    "mat = np.asmatrix(np.array(trilist))\n",
    "\n",
    "print(\"Upper Right Triangular Matrix:\")\n",
    "print(mat)\n"
   ]
  },
  {
   "cell_type": "markdown",
   "id": "d48768b1",
   "metadata": {},
   "source": [
    "## Matrix Arithmetic\n",
    "\n",
    "Matrices can be added, subtracted, multiplied just like real numbers.\n"
   ]
  },
  {
   "cell_type": "markdown",
   "id": "7e0ac08e",
   "metadata": {},
   "source": [
    "### Addition of Matrices\n",
    "\n",
    "Matrices can be added, subtracted just like real numbers. However, there is a catch. The order must be same.\n"
   ]
  },
  {
   "cell_type": "code",
   "execution_count": 117,
   "id": "06b750fd",
   "metadata": {},
   "outputs": [
    {
     "name": "stdout",
     "output_type": "stream",
     "text": [
      "Matrix A:\n",
      "[[1 2 3]\n",
      " [4 5 6]\n",
      " [7 8 9]]\n",
      "\n",
      "\n",
      "Matrix B:\n",
      "[[1 0 0]\n",
      " [0 2 0]\n",
      " [0 0 3]]\n",
      "\n",
      "\n",
      "Sum of the matrices:\n",
      "[[ 2  2  3]\n",
      " [ 4  7  6]\n",
      " [ 7  8 12]]\n"
     ]
    }
   ],
   "source": [
    "# Addition of two matrices\n",
    "import numpy as np\n",
    "\n",
    "# Create two matrices A and B\n",
    "matA = np.asmatrix(np.array([\n",
    "    [1, 2, 3],\n",
    "    [4, 5, 6],\n",
    "    [7, 8, 9]\n",
    "]))\n",
    "matB = np.asmatrix(np.diag([1, 2, 3]))    # creates an diagonal matrix of order 3 x 3\n",
    "\n",
    "print(\"Matrix A:\")\n",
    "print(matA)\n",
    "print(\"\\n\")\n",
    "\n",
    "print(\"Matrix B:\")\n",
    "print(matB)\n",
    "print(\"\\n\")\n",
    "\n",
    "print(\"Sum of the matrices:\")\n",
    "print(matA + matB)"
   ]
  },
  {
   "cell_type": "markdown",
   "id": "fe0d46b7",
   "metadata": {},
   "source": [
    "### Product of the Matrices\n",
    "\n",
    "Marices can be multiplied just like real numbers. However, there is a catch:\n",
    "If a matrix A of order m1 x n1 has to be multiplied with a matrix B of order m2 x n2, n1 == m2 i.e., number of columns of A must be equal to number of rows of B. The order of the resultant matrix would be m1 x n2</br>\n",
    "</br>\n",
    "There are 3 types of product of matrices:\n",
    "\n",
    "1. Scaling\n",
    "2. Vector Multiplication\n",
    "3. Matrix Multiplication: Matrix A can be multiplied with a matrix B.\n"
   ]
  },
  {
   "cell_type": "markdown",
   "id": "b9a80558",
   "metadata": {},
   "source": [
    "#### Scalar Multiplication or Scalaing\n",
    "\n",
    "When a real number c is multiplied to a matrix A, A gets scaled. Meaning: c _ A == c _ A(i, j) for all values of i and j.\n"
   ]
  },
  {
   "cell_type": "code",
   "execution_count": 138,
   "id": "da20a345",
   "metadata": {},
   "outputs": [
    {
     "name": "stdout",
     "output_type": "stream",
     "text": [
      "Original matrix A:\n",
      "[[1 2 3]\n",
      " [4 5 6]\n",
      " [7 8 9]]\n",
      "\n",
      "\n",
      "Matrix after scaling by 5:\n",
      "[[ 5 10 15]\n",
      " [20 25 30]\n",
      " [35 40 45]]\n"
     ]
    }
   ],
   "source": [
    "# Scaling a matrix\n",
    "import numpy as np\n",
    "\n",
    "A = np.asmatrix(np.array([\n",
    "    [1, 2, 3],\n",
    "    [4, 5, 6],\n",
    "    [7, 8, 9]\n",
    "]))\n",
    "c = 5\n",
    "\n",
    "print(\"Original matrix A:\")\n",
    "print(A)\n",
    "print(\"\\n\")\n",
    "\n",
    "print(\"Matrix after scaling by 5:\")\n",
    "print(c * A)"
   ]
  },
  {
   "cell_type": "markdown",
   "id": "d994190a",
   "metadata": {},
   "source": [
    "#### Vector Multiplication\n",
    "\n",
    "Matrix A can be multiplied with a vector v. However, the vector is treated like a matrix and the order constraint must be followed.\n",
    "<strong>Note: </strong>A x v != v x A\n"
   ]
  },
  {
   "cell_type": "code",
   "execution_count": 137,
   "id": "72759d5c",
   "metadata": {},
   "outputs": [
    {
     "name": "stdout",
     "output_type": "stream",
     "text": [
      "Original matrix A:\n",
      "[[4 5 6]\n",
      " [7 8 9]]\n",
      "Order of A:  (2, 3)\n",
      "\n",
      "\n",
      "Vector r:  [1 2]\n",
      "Order of r:  (2,)\n",
      "\n",
      "\n",
      "Multiplied matrix result:\n",
      "[[18 21 24]]\n",
      "Order of multiplied matrix:  (1, 3)\n"
     ]
    }
   ],
   "source": [
    "# Multiplication with a row vector\n",
    "import numpy as np\n",
    "\n",
    "r = np.array([1, 2])   # row vector 1 x 2\n",
    "A = np.asmatrix(np.array([ # matrix of 2 x 3\n",
    "    [4, 5, 6],\n",
    "    [7, 8, 9]\n",
    "]))\n",
    "res = np.matmul(r, A) # matrix multiplication\n",
    "\n",
    "print(\"Original matrix A:\")\n",
    "print(A)\n",
    "print(\"Order of A: \", A.shape)\n",
    "print(\"\\n\")\n",
    "\n",
    "print(\"Vector r: \", r)\n",
    "print(\"Order of r: \", r.shape)\n",
    "print(\"\\n\")\n",
    "\n",
    "print(\"Multiplied matrix result:\")\n",
    "print(res)\n",
    "print(\"Order of multiplied matrix: \", res.shape)"
   ]
  },
  {
   "cell_type": "code",
   "execution_count": 127,
   "id": "c874f355",
   "metadata": {},
   "outputs": [
    {
     "name": "stdout",
     "output_type": "stream",
     "text": [
      "Original matrix A:\n",
      "[[1 2 3]\n",
      " [4 5 3]]\n",
      "Order of A:  (2, 3)\n",
      "\n",
      "\n",
      "Vector r:  [[4]\n",
      " [5]\n",
      " [6]]\n",
      "Order of r:  (3, 1)\n",
      "\n",
      "\n",
      "Multiplied matrix result:\n",
      "[[32]\n",
      " [59]]\n",
      "Order of multiplied matrix:  (2, 1)\n"
     ]
    }
   ],
   "source": [
    "# Multiplication with a column vector\n",
    "import numpy as np\n",
    "\n",
    "A = np.asmatrix(np.array([ # 2 x 3 matrix\n",
    "    [1, 2, 3],\n",
    "    [4, 5, 3]\n",
    "]))\n",
    "r = np.array([[4], [5], [6]])   # col vector 3 x 1\n",
    "res = np.matmul(A, r) # matrix multiplication\n",
    "\n",
    "print(\"Original matrix A:\")\n",
    "print(A)\n",
    "print(\"Order of A: \", A.shape)\n",
    "print(\"\\n\")\n",
    "\n",
    "print(\"Vector r: \", r)\n",
    "print(\"Order of r: \", r.shape)\n",
    "print(\"\\n\")\n",
    "\n",
    "print(\"Multiplied matrix result:\")\n",
    "print(res)\n",
    "print(\"Order of multiplied matrix: \", res.shape)"
   ]
  },
  {
   "cell_type": "markdown",
   "id": "a8fe5b7f",
   "metadata": {},
   "source": [
    "### Matrix Multiplication\n",
    "\n",
    "A matrix A can be multiplied by a matrix B. Some properties of matrix multiplications are:\n",
    "\n",
    "1. (A . B) . C == A . (B . C)\n",
    "2. A . (B + C) == (A . B) + (A . C)\n",
    "3. A . B != B . A\n"
   ]
  },
  {
   "cell_type": "code",
   "execution_count": 140,
   "id": "accf338a",
   "metadata": {},
   "outputs": [
    {
     "name": "stdout",
     "output_type": "stream",
     "text": [
      "Matrix A:\n",
      "[[1 2 3]\n",
      " [4 5 3]]\n",
      "Order of A:  (2, 3)\n",
      "\n",
      "\n",
      "Matrix B:\n",
      "[[4 5]\n",
      " [5 3]\n",
      " [6 1]]\n",
      "Order of B: (3, 2)\n",
      "\n",
      "\n",
      "Multiplied matrix result:\n",
      "[[32 14]\n",
      " [59 38]]\n",
      "Order of multiplied matrix:  (2, 2)\n"
     ]
    }
   ],
   "source": [
    "# Multiplication of two matrices\n",
    "import numpy as np\n",
    "\n",
    "A = np.asmatrix(np.array([ # 2 x 3 matrix\n",
    "    [1, 2, 3],\n",
    "    [4, 5, 3]\n",
    "]))\n",
    "B = np.asmatrix(np.array([ # 3 x 2 matrix\n",
    "    [4, 5],\n",
    "    [5, 3],\n",
    "    [6, 1],\n",
    "])) \n",
    "\n",
    "res = np.matmul(A, B) # matrix multiplication\n",
    "\n",
    "print(\"Matrix A:\")\n",
    "print(A)\n",
    "print(\"Order of A: \", A.shape)\n",
    "print(\"\\n\")\n",
    "\n",
    "print(\"Matrix B:\")\n",
    "print(B)\n",
    "print(\"Order of B:\", B.shape)\n",
    "print(\"\\n\")\n",
    "\n",
    "print(\"Multiplied matrix result:\")\n",
    "print(res)\n",
    "print(\"Order of multiplied matrix: \", res.shape)"
   ]
  },
  {
   "cell_type": "markdown",
   "id": "5473be5e",
   "metadata": {},
   "source": [
    "## Transposition of Matrices\n",
    "\n",
    "A matrix of order m x n can be transposed to a matrix At of order n x m where At(i, j) = A(j, i)\n",
    "Some properties regarding Transposition of matrices:\n",
    "\n",
    "1. Att == A, where Att is tranposition of At. Double transposition of A\n",
    "2. (A + B)t == At + Bt\n",
    "3. (cA)t == c(At), where c is a scalar quantity\n",
    "4. (A . B)t == Bt . At ---> product of transposed matrices\n",
    "5. Tr(A) == Tr(At), where Tr(A) is the <strong>Trace</strong> of a matrix A, i.e., sum of all the diagonal elements.\n",
    "6. inv(At) == (inv(A))t, where inv(A) is the inverse of matrix A.\n"
   ]
  },
  {
   "cell_type": "markdown",
   "id": "3d8c4a2d",
   "metadata": {},
   "source": [
    "The transposition of matrices brings us two more special types of matrices:\n",
    "\n",
    "1. <strong>Symmetrical Matrix: </strong>When At == A, the matrix is said to be symmetrical.\n",
    "2. <strong>Skew-Symmetrical Matrix: </strong>When At == -A, the matrix is said to be skew-symmetrical.\n"
   ]
  },
  {
   "cell_type": "code",
   "execution_count": 111,
   "id": "9015dab8",
   "metadata": {},
   "outputs": [
    {
     "name": "stdout",
     "output_type": "stream",
     "text": [
      "Original Matrix:\n",
      "[[1 2 3]\n",
      " [2 4 5]\n",
      " [3 5 6]]\n",
      "\n",
      "\n",
      "Transposed Matrix:\n",
      "[[1 2 3]\n",
      " [2 4 5]\n",
      " [3 5 6]]\n"
     ]
    }
   ],
   "source": [
    "# Symmetrical Matrix\n",
    "import numpy as np\n",
    "\n",
    "# Create a symmetric matrix\n",
    "A = np.asmatrix(np.array([\n",
    "    [1, 2, 3],\n",
    "    [2, 4, 5],\n",
    "    [3, 5, 6]\n",
    "]))\n",
    "At = np.transpose(A)\n",
    "\n",
    "# Print the original matrix\n",
    "print(\"Original Matrix:\")\n",
    "print(mat)\n",
    "print(\"\\n\")\n",
    "\n",
    "# Print the transposed matrix\n",
    "print(\"Transposed Matrix:\")\n",
    "print(At) # observe that At == A"
   ]
  },
  {
   "cell_type": "code",
   "execution_count": 114,
   "id": "b05ae585",
   "metadata": {},
   "outputs": [
    {
     "name": "stdout",
     "output_type": "stream",
     "text": [
      "Original Matrix:\n",
      "[[ 0  2 -3]\n",
      " [-2  0  4]\n",
      " [ 3 -4  0]]\n",
      "\n",
      "\n",
      "Transposed Matrix:\n",
      "[[ 0 -2  3]\n",
      " [ 2  0 -4]\n",
      " [-3  4  0]]\n"
     ]
    }
   ],
   "source": [
    "# Skew Symmetrical Matrix\n",
    "import numpy as np\n",
    "\n",
    "# Create a symmetric matrix\n",
    "A = np.asmatrix(np.array([\n",
    "    [0, 2, -3],\n",
    "    [-2, 0, 4],\n",
    "    [3, -4, 0]\n",
    "]))\n",
    "At = np.transpose(A)\n",
    "\n",
    "# Print the original matrix\n",
    "print(\"Original Matrix:\")\n",
    "print(A)\n",
    "print(\"\\n\")\n",
    "\n",
    "# Print the transposed matrix\n",
    "print(\"Transposed Matrix:\")\n",
    "print(At) # observe that At == -A"
   ]
  },
  {
   "cell_type": "markdown",
   "id": "d52cff28",
   "metadata": {},
   "source": [
    "## Determinant\n",
    "\n",
    "The determinant of a matrix is it's magnitude. Just like |v| for a vector v. Or, the total area scaled by a matrix during linear transformation.\n"
   ]
  },
  {
   "cell_type": "code",
   "execution_count": 145,
   "metadata": {},
   "outputs": [
    {
     "name": "stdout",
     "output_type": "stream",
     "text": [
      "Matrix A:\n",
      "[[1 2 3]\n",
      " [4 5 6]\n",
      " [7 8 9]]\n",
      "Determinant of A:  0\n"
     ]
    }
   ],
   "source": [
    "# Calculating the determinant\n",
    "import numpy as np\n",
    "\n",
    "\n",
    "A = np.arange(1, 10).reshape(3, 3)\n",
    "print(\"Matrix A:\")\n",
    "print(A)\n",
    "\n",
    "detA = int(np.linalg.det(A)) # gives a number with e not an int so convert the determinant to an int\n",
    "print(\"Determinant of A: \", detA)"
   ]
  },
  {
   "cell_type": "markdown",
   "id": "11f99a75",
   "metadata": {},
   "source": [
    "## Minors and CoFactors\n",
    "\n",
    "Let a 3 x 3 Matrix A = [[1, 2, 3], [4, 5, 6], [7, 8, 9]]. The minor of each element A(i, j) is the determinant of the matrix made by discarding ith row and jth column.</br>\n",
    "Example - M(0, 0), minor of the first element would be det([[5, 6], [8, 9]]). And the cofactor C(i, j) = -1^(i + j) \\* M(i, j)</br>\n",
    "</br>\n",
    "Minors can be calcuated for each element of the matrix and hence, they can be a matrix of Minors where M(i, j) = minor(A(i, j)).</br>\n",
    "</br>\n",
    "Cofactors can be calcuated for each element of the matrix and hence, they can be a matrix of Cofactors where C(i, j) = -1^(i + j) \\* M(i, j).</br>\n"
   ]
  },
  {
   "cell_type": "code",
   "execution_count": 152,
   "id": "0e301747",
   "metadata": {},
   "outputs": [
    {
     "name": "stdout",
     "output_type": "stream",
     "text": [
      "Matrix A:\n",
      "Matrix([[1, 2, 3], [4, 5, 6], [7, 8, 9]])\n",
      "\n",
      "\n",
      "Minors of Matrix A:\n",
      "Matrix([[-3, -6, -3], [-6, -12, -6], [-3, -6, -3]])\n"
     ]
    }
   ],
   "source": [
    "# Calculating minors of a matrix\n",
    "from sympy import Matrix # numpy doesn't provide functions to calculate minors. We can create our own functions but sympy is more simple\n",
    "\n",
    "# Create a function to calculate the minor matrix\n",
    "def get_minor_matrix(A):\n",
    "    rows, cols = A.shape\n",
    "    minor_ls = [[A.minor(i, j) for j in range(cols)] for i in range(rows)] # calculate the minor of each element\n",
    "\n",
    "    return Matrix(minor_ls)\n",
    "\n",
    "# Create a symbolic matrix\n",
    "A = Matrix([[1, 2, 3],\n",
    "            [4, 5, 6],\n",
    "            [7, 8, 9]])\n",
    "\n",
    "# Calculate the minors matrix\n",
    "minors_A = get_minor_matrix(A)\n",
    "\n",
    "# Print the result\n",
    "print(\"Matrix A:\")\n",
    "print(A)\n",
    "print(\"\\n\")\n",
    "\n",
    "print(\"Minors of Matrix A:\")\n",
    "print(minors_A)"
   ]
  },
  {
   "cell_type": "code",
   "execution_count": 154,
   "id": "69ac9981",
   "metadata": {},
   "outputs": [
    {
     "name": "stdout",
     "output_type": "stream",
     "text": [
      "Matrix A:\n",
      "Matrix([[1, 2, 3], [4, 5, 6], [7, 8, 9]])\n",
      "\n",
      "\n",
      "Cofactors of Matrix A:\n",
      "Matrix([[-3, 6, -3], [6, -12, 6], [-3, 6, -3]])\n"
     ]
    }
   ],
   "source": [
    "# Calculating cofactors of a matrix\n",
    "from sympy import Matrix\n",
    "\n",
    "# Create a symbolic matrix\n",
    "A = Matrix([[1, 2, 3],\n",
    "            [4, 5, 6],\n",
    "            [7, 8, 9]])\n",
    "\n",
    "# Calculate the cofactor matrix\n",
    "cofactor_A = A.cofactor_matrix()\n",
    "\n",
    "# Print the result\n",
    "print(\"Matrix A:\")\n",
    "print(A)\n",
    "print(\"\\n\")\n",
    "\n",
    "print(\"Cofactors of Matrix A:\")\n",
    "print(cofactor_A)"
   ]
  },
  {
   "cell_type": "markdown",
   "id": "6869f1dc",
   "metadata": {},
   "source": [
    "## Adjoint or Adjugate of a matrix\n",
    "\n",
    "Adjoint matrix of matrix A is Adj(A). Let a matrix K created by using A such that K(i, j) = Cofactor(A(i, j)). The transpose of this matrix K is called adjoint matrix.\n"
   ]
  },
  {
   "cell_type": "code",
   "execution_count": 155,
   "id": "0ef92ec6",
   "metadata": {},
   "outputs": [
    {
     "name": "stdout",
     "output_type": "stream",
     "text": [
      "Matrix A:\n",
      "Matrix([[1, 2, 3], [4, 5, 6], [7, 8, 9]])\n",
      "\n",
      "\n",
      "Adjoint of Matrix A:\n",
      "Matrix([[-3, 6, -3], [6, -12, 6], [-3, 6, -3]])\n"
     ]
    }
   ],
   "source": [
    "# Calculating adjoint of a matrix\n",
    "from sympy import Matrix\n",
    "\n",
    "# Create a symbolic matrix\n",
    "A = Matrix([[1, 2, 3],\n",
    "            [4, 5, 6],\n",
    "            [7, 8, 9]])\n",
    "\n",
    "# Calculate the adjoint matrix\n",
    "adjointA = A.adjugate()\n",
    "\n",
    "# Print the result\n",
    "print(\"Matrix A:\")\n",
    "print(A)\n",
    "print(\"\\n\")\n",
    "\n",
    "print(\"Adjoint of Matrix A:\")\n",
    "print(adjointA)"
   ]
  },
  {
   "cell_type": "markdown",
   "id": "d39f69e4",
   "metadata": {},
   "source": [
    "## Inverses\n",
    "\n",
    "The inverse of a m x n matrix A is denoted by A^-1 such that A \\* A^-1 = I, where I is the identity matrix.\n",
    "\n",
    "- Not all matrices has inverses.\n",
    "- Inverse of a matrix A only exists if det(A) != 0 (The matrix should not be singular).\n",
    "- Inv(A) = Adj(A) / det(A).\n",
    "\n",
    "Some properties of inverse of matrices:\n",
    "\n",
    "1. A . inv(A) == inv(A) . A == I\n",
    "2. I == inv(I)\n",
    "3. (inv(A))t == inv(At)\n",
    "4. inv(A . B) == inv(B) . inv(A)\n",
    "5. inv(k . A) == 1/k . inv(A)\n"
   ]
  },
  {
   "cell_type": "code",
   "execution_count": 157,
   "id": "bb0dbec2",
   "metadata": {},
   "outputs": [
    {
     "name": "stdout",
     "output_type": "stream",
     "text": [
      "[[ 2  3  4]\n",
      " [ 5  6  7]\n",
      " [ 8  9 10]]\n",
      "Determinant: 0\n",
      "Inverse: \n"
     ]
    },
    {
     "ename": "LinAlgError",
     "evalue": "Singular matrix",
     "output_type": "error",
     "traceback": [
      "\u001b[0;31m---------------------------------------------------------------------------\u001b[0m",
      "\u001b[0;31mLinAlgError\u001b[0m                               Traceback (most recent call last)",
      "Cell \u001b[0;32mIn[157], line 12\u001b[0m\n\u001b[1;32m      9\u001b[0m \u001b[38;5;28mprint\u001b[39m(\u001b[38;5;124m\"\u001b[39m\u001b[38;5;124mDeterminant:\u001b[39m\u001b[38;5;124m\"\u001b[39m, detA)\n\u001b[1;32m     11\u001b[0m \u001b[38;5;28mprint\u001b[39m(\u001b[38;5;124m\"\u001b[39m\u001b[38;5;124mInverse: \u001b[39m\u001b[38;5;124m\"\u001b[39m)\n\u001b[0;32m---> 12\u001b[0m \u001b[38;5;28mprint\u001b[39m(\u001b[43mnp\u001b[49m\u001b[38;5;241;43m.\u001b[39;49m\u001b[43mlinalg\u001b[49m\u001b[38;5;241;43m.\u001b[39;49m\u001b[43minv\u001b[49m\u001b[43m(\u001b[49m\u001b[43mA\u001b[49m\u001b[43m)\u001b[49m)\n",
      "File \u001b[0;32m~/Desktop/Ojaswi/Courses/ml-course/ml-python/lib/python3.12/site-packages/numpy/linalg/linalg.py:561\u001b[0m, in \u001b[0;36minv\u001b[0;34m(a)\u001b[0m\n\u001b[1;32m    559\u001b[0m signature \u001b[38;5;241m=\u001b[39m \u001b[38;5;124m'\u001b[39m\u001b[38;5;124mD->D\u001b[39m\u001b[38;5;124m'\u001b[39m \u001b[38;5;28;01mif\u001b[39;00m isComplexType(t) \u001b[38;5;28;01melse\u001b[39;00m \u001b[38;5;124m'\u001b[39m\u001b[38;5;124md->d\u001b[39m\u001b[38;5;124m'\u001b[39m\n\u001b[1;32m    560\u001b[0m extobj \u001b[38;5;241m=\u001b[39m get_linalg_error_extobj(_raise_linalgerror_singular)\n\u001b[0;32m--> 561\u001b[0m ainv \u001b[38;5;241m=\u001b[39m \u001b[43m_umath_linalg\u001b[49m\u001b[38;5;241;43m.\u001b[39;49m\u001b[43minv\u001b[49m\u001b[43m(\u001b[49m\u001b[43ma\u001b[49m\u001b[43m,\u001b[49m\u001b[43m \u001b[49m\u001b[43msignature\u001b[49m\u001b[38;5;241;43m=\u001b[39;49m\u001b[43msignature\u001b[49m\u001b[43m,\u001b[49m\u001b[43m \u001b[49m\u001b[43mextobj\u001b[49m\u001b[38;5;241;43m=\u001b[39;49m\u001b[43mextobj\u001b[49m\u001b[43m)\u001b[49m\n\u001b[1;32m    562\u001b[0m \u001b[38;5;28;01mreturn\u001b[39;00m wrap(ainv\u001b[38;5;241m.\u001b[39mastype(result_t, copy\u001b[38;5;241m=\u001b[39m\u001b[38;5;28;01mFalse\u001b[39;00m))\n",
      "File \u001b[0;32m~/Desktop/Ojaswi/Courses/ml-course/ml-python/lib/python3.12/site-packages/numpy/linalg/linalg.py:112\u001b[0m, in \u001b[0;36m_raise_linalgerror_singular\u001b[0;34m(err, flag)\u001b[0m\n\u001b[1;32m    111\u001b[0m \u001b[38;5;28;01mdef\u001b[39;00m \u001b[38;5;21m_raise_linalgerror_singular\u001b[39m(err, flag):\n\u001b[0;32m--> 112\u001b[0m     \u001b[38;5;28;01mraise\u001b[39;00m LinAlgError(\u001b[38;5;124m\"\u001b[39m\u001b[38;5;124mSingular matrix\u001b[39m\u001b[38;5;124m\"\u001b[39m)\n",
      "\u001b[0;31mLinAlgError\u001b[0m: Singular matrix"
     ]
    }
   ],
   "source": [
    "# Finding the non existent inverse of a matrix ---> the matrix is singular i.e, det(A) = 0\n",
    "import numpy as np\n",
    "\n",
    "A = np.arange(2, 11).reshape(3, 3)\n",
    "print(A)\n",
    "\n",
    "# A = np.array([[1, 3], [4, 5]])\n",
    "detA = int(np.linalg.det(A))\n",
    "print(\"Determinant:\", detA)\n",
    "\n",
    "print(\"Inverse: \")\n",
    "print(np.linalg.inv(A))"
   ]
  },
  {
   "cell_type": "code",
   "execution_count": 158,
   "id": "e3eea3c8",
   "metadata": {},
   "outputs": [
    {
     "name": "stdout",
     "output_type": "stream",
     "text": [
      "[[2 4]\n",
      " [1 3]]\n",
      "\n",
      "\n",
      "Determinant: 2\n",
      "Inverse: \n",
      "[[ 1.5 -2. ]\n",
      " [-0.5  1. ]]\n"
     ]
    }
   ],
   "source": [
    "# Finding the inverse of a non-singular matrix, i.e, determinant is not 0\n",
    "A = np.array([[2, 4], [1, 3]])\n",
    "print(A)\n",
    "print(\"\\n\")\n",
    "\n",
    "detA = int(np.linalg.det(A))\n",
    "print(\"Determinant:\", detA)\n",
    "\n",
    "print(\"Inverse: \")\n",
    "print(np.linalg.inv(A))"
   ]
  },
  {
   "cell_type": "markdown",
   "id": "8867c4d0",
   "metadata": {},
   "source": [
    "## Echelon Form (Row Echelon Form) and Rank of a Matrix\n",
    "\n",
    "The Row Echelon Form of a matrix A is an upper right triangle matrix. It's a special form of a matrix that gives us how much information it has.\n"
   ]
  },
  {
   "cell_type": "code",
   "execution_count": 161,
   "id": "9a9b9afb",
   "metadata": {},
   "outputs": [
    {
     "name": "stdout",
     "output_type": "stream",
     "text": [
      "Matrix A:\n",
      "Matrix([[2, 0, 2, 6], [2, 3, 4, 7], [1, 0, 1, 3]])\n",
      "\n",
      "\n",
      "Row Echelon Form of the matrix A:\n",
      "(Matrix([\n",
      "[1, 0,   1,   3],\n",
      "[0, 1, 2/3, 1/3],\n",
      "[0, 0,   0,   0]]), (0, 1))\n",
      "\n",
      "\n",
      "Rank of the matrix A: 2\n"
     ]
    }
   ],
   "source": [
    "# Calculating the Row Echelon form of a matrix\n",
    "from sympy import Matrix\n",
    "\n",
    "A = Matrix([\n",
    "    [2, 0, 2, 6],    # nothing but 2 * R3 (row 3) of the matrix\n",
    "    [2, 3, 4, 7],\n",
    "    [1, 0, 1, 3],\n",
    "])\n",
    "RRefA = A.rref() # calculates the row echelon form of the matrix\n",
    "\n",
    "print(\"Matrix A:\")\n",
    "print(A)\n",
    "print(\"\\n\")\n",
    "\n",
    "print(\"Row Echelon Form of the matrix A:\")\n",
    "print(RRefA)\n",
    "print(\"\\n\")\n",
    "\n",
    "print(\"Rank of the matrix A:\", A.rank())"
   ]
  },
  {
   "cell_type": "markdown",
   "id": "a35ae0f4",
   "metadata": {},
   "source": [
    "## Eigen Values and Eigen Vectors\n",
    "\n",
    "For a matrix A, such that (A - pI) \\* v = 0, if there exists at lease one value of p, and one vector v to satisfy the equation. The value p is called Eigen Value and the corresponding vector v is called Eigen Vector.\n",
    "\n",
    "- For an Eigen Vector to exist for a matrix A det(A - pI) == 0.\n",
    "- There can be more than one Eigen Values and correspoding Vectors for which the condition is satisfied.\n",
    "- The maximum number of Eigen Value and Eigen Vectors is the number or rows of the square matrix.\n",
    "- An identity matrix has only one eigen value and that is 1\n"
   ]
  },
  {
   "cell_type": "code",
   "execution_count": 165,
   "id": "7d73c2e8",
   "metadata": {},
   "outputs": [
    {
     "name": "stdout",
     "output_type": "stream",
     "text": [
      "Eigen Values: 3 1\n",
      "Eigen Vector:\n",
      "[Matrix([\n",
      "[1],\n",
      "[1]])]\n",
      "\n",
      "\n",
      "Eigen Values: 5 1\n",
      "Eigen Vector:\n",
      "[Matrix([\n",
      "[1/3],\n",
      "[  1]])]\n",
      "\n",
      "\n"
     ]
    }
   ],
   "source": [
    "# Calculating Eigen values and Eigen Vectors of a matrix\n",
    "from sympy import Matrix\n",
    "A = Matrix([[2, 1], [-3, 6]])\n",
    "\n",
    "evecs = A.eigenvects() # --> prints [(scaleX, scaleY), Eigen Vectors] --> scaleX and scaleY is nothing but the eigen values along x and y\n",
    "\n",
    "for scaleX, scaleY, vector in evecs:\n",
    "    print(\"Eigen Values:\", scaleX, scaleY)\n",
    "    print(\"Eigen Vector:\")\n",
    "    print(vector)\n",
    "    print(\"\\n\")"
   ]
  },
  {
   "cell_type": "markdown",
   "id": "16340e05",
   "metadata": {},
   "source": [
    "# Linear Algebra\n",
    "\n",
    "Now we go through some linear algebra concepts used in machine learning\n"
   ]
  },
  {
   "cell_type": "markdown",
   "id": "ae83db95",
   "metadata": {},
   "source": [
    "# System of Linear Equations\n",
    "\n",
    "There are 2 types of Equations\n"
   ]
  },
  {
   "cell_type": "markdown",
   "id": "500317ee",
   "metadata": {},
   "source": [
    "## Two types of Linear Equations\n",
    "\n",
    "1. Singular - The determinant of this type of system is always 0.\n",
    "2. Non-singular - The determinant of this type of system is always a real number other than 0.\n"
   ]
  },
  {
   "cell_type": "markdown",
   "id": "2d7c2d8d",
   "metadata": {},
   "source": [
    "### Singular\n",
    "\n",
    "A set of equations which has infite number of solutions or no solution is called a singular system.\n",
    "\n",
    "1. Infinite solutions - 2x + 3y = 1, 4x + 6y = 2\n",
    "2. No Solution - 2x + 3y = 1, 2x + 3y = 0\n"
   ]
  },
  {
   "cell_type": "code",
   "execution_count": 167,
   "id": "33f3bd75",
   "metadata": {},
   "outputs": [
    {
     "name": "stdout",
     "output_type": "stream",
     "text": [
      "Matrix A:\n",
      "[[2 3]\n",
      " [4 6]]\n",
      "Determinant of A:  0\n"
     ]
    }
   ],
   "source": [
    "# Representing a singular system and calcualating the determinant\n",
    "import numpy as np\n",
    "\n",
    "A = np.asmatrix(np.array([\n",
    "    [2, 3], # --> 2x + 3y\n",
    "    [4, 6], # --> 4x + 6y\n",
    "]))\n",
    "detA = int(np.linalg.det(A))\n",
    "\n",
    "print(\"Matrix A:\")\n",
    "print(A)\n",
    "print(\"Determinant of A: \", detA)"
   ]
  },
  {
   "cell_type": "markdown",
   "id": "55d45dbe",
   "metadata": {},
   "source": [
    "### Non-singular\n",
    "\n",
    "A set of equations which can be solved and has a unique solution is called a non-singular system.</br>\n",
    "Ex: 2x + 3y = 13, 4x + y = 11 where x = 2 and y = 3.</br>\n",
    "The determinant of this system will always be a real number.</br>\n"
   ]
  },
  {
   "cell_type": "code",
   "execution_count": 168,
   "id": "d336b63a",
   "metadata": {},
   "outputs": [
    {
     "name": "stdout",
     "output_type": "stream",
     "text": [
      "Matrix A:\n",
      "[[2 3]\n",
      " [4 1]]\n",
      "Determinant of A:  -10\n"
     ]
    }
   ],
   "source": [
    "# Representing a non-singular system and calcualating the determinant\n",
    "import numpy as np\n",
    "\n",
    "A = np.asmatrix(np.array([\n",
    "    [2, 3], # --> 2x + 3y\n",
    "    [4, 1], # --> 4x + y\n",
    "]))\n",
    "detA = int(np.linalg.det(A))\n",
    "\n",
    "print(\"Matrix A:\")\n",
    "print(A)\n",
    "print(\"Determinant of A: \", detA)"
   ]
  },
  {
   "cell_type": "markdown",
   "id": "d1880c2f",
   "metadata": {},
   "source": [
    "## Matrix Representation\n",
    "\n",
    "All the linear system of equations can be represented as matrices.</br>\n"
   ]
  },
  {
   "cell_type": "markdown",
   "id": "373e9d61",
   "metadata": {},
   "source": [
    "2x + 3y = 13, 4x + y = 11 can be represented by:</br>\n",
    "</br>\n",
    "\n",
    "- A = [[2, 3], [4, 1]]\n",
    "- X = [[x], [y]]\n",
    "- Y = [[13], [11]]\n",
    "\n",
    "Here the equation translates to AX = Y\n",
    "\n",
    "1. Multiply both sides by inv(A) or inverse(A) -> inv(A) x A x X = inv(A) x Y\n",
    "2. We get -> X = inv(A) x Y\n",
    "3. We know how det(A) is used to calculate inv(A). Hence, for the system to be solvable the determinant != 0 and the inverse must exist.\n"
   ]
  },
  {
   "cell_type": "markdown",
   "id": "1787e56d",
   "metadata": {},
   "source": [
    "Question: Calculate the Solution for</br>\n",
    "2x + 3y = 13</br>\n",
    "4x + y = 11 </br>\n",
    "</br>\n",
    "Answer:\n",
    "\n",
    "1. Represent this in matrix form: A = [[2, 3], [4, 1]], X = [[x], [y]], Y = [[13], [11]]\n",
    "2. The solution for the system is X = inv(A) x Y\n",
    "\n",
    "Calulations below\n"
   ]
  },
  {
   "cell_type": "code",
   "execution_count": 169,
   "id": "c007e17f",
   "metadata": {},
   "outputs": [
    {
     "name": "stdout",
     "output_type": "stream",
     "text": [
      "[[2.]\n",
      " [3.]]\n"
     ]
    }
   ],
   "source": [
    "import numpy as np\n",
    "\n",
    "A = np.array([[2, 3], [4, 1]])\n",
    "# X = [[x], [y]]\n",
    "Y = np.array([[13], [11]])\n",
    "\n",
    "X = np.matmul(np.linalg.inv(A), Y)\n",
    "print(X)"
   ]
  },
  {
   "cell_type": "markdown",
   "id": "d04d29e7",
   "metadata": {},
   "source": [
    "Question: Calculate the Solution for</br>\n",
    "2x + 3y + z = 11</br>\n",
    "4x + y + 2z = 12</br>\n",
    "3x + 2y = 7 </br>\n",
    "</br>\n",
    "Answer:\n",
    "\n",
    "1. Represent this in matrix form: A = [[2, 3, 1], [4, 1, 2], [3, 2, 0]], X = [[x], [y], [z]], Y = [[11], [12], [7]]\n",
    "2. The solution for the system is X = inv(A) x Y\n",
    "\n",
    "Calulations below\n"
   ]
  },
  {
   "cell_type": "code",
   "execution_count": 170,
   "id": "9a9e8450",
   "metadata": {},
   "outputs": [
    {
     "name": "stdout",
     "output_type": "stream",
     "text": [
      "[[1.]\n",
      " [2.]\n",
      " [3.]]\n"
     ]
    }
   ],
   "source": [
    "import numpy as np\n",
    "\n",
    "A = np.array([[2, 3, 1], [4, 1, 2], [3, 2, 0]])\n",
    "# X = [[x], [y], [z]]\n",
    "Y = np.array([[11], [12], [7]])\n",
    "\n",
    "X = np.matmul(np.linalg.inv(A), Y)\n",
    "print(X)"
   ]
  },
  {
   "cell_type": "markdown",
   "id": "4fb933de",
   "metadata": {},
   "source": [
    "## Linear Dependence and Indpendence\n"
   ]
  },
  {
   "cell_type": "markdown",
   "id": "4964cb89",
   "metadata": {},
   "source": [
    "For a system of equations say E1, E2, and E3\n",
    "\n",
    "1. If there exists a value such that a \\* E1 = E2, the we say E2 is dependent on E1 - they both are the same equations and hence, infinite solutions exist.\n",
    "   </br>\n",
    "   Example:</br>\n",
    "   E1 -> 2x + 4y = 10</br>\n",
    "   E2 -> 4x + 8y = 20</br>\n",
    "   </br>\n",
    "   Here E2 = 2 x E1. Hence the system is linearly dependent.\n",
    "\n",
    "2. Or, E3 = a \\* (E1 + E2) -> E3 is dependent on both E1 and E2.\n",
    "   </br>\n",
    "   Example:</br>\n",
    "   E1 -> x + y = 5</br>\n",
    "   E2 -> x + 2y = 8</br>\n",
    "   E3 -> 4x + 6y = 26</br>\n",
    "   </br>\n",
    "   Here E3 = 2 x (E1 + E2). Hence the system is linearly dependent.</br>\n",
    "   </br>\n",
    "   <strong>Note: </strong> The determinant of a linearly dependent system of equations will always be 0\n"
   ]
  },
  {
   "cell_type": "markdown",
   "id": "5a965a62",
   "metadata": {},
   "source": [
    "## Rank of a Matrix and Echelon Form\n",
    "\n",
    "The Echelon Form (Row Echelon and Column Echelon) of a matrix tells us how much information it has.\n",
    "\n",
    "- Rank of a matrix means how much information it has. For ex, if there are 3 equations (e1, e2, e3) but 2 (e2 and e3) are similar then only one of them (either e2 or e3) is actually useful to us, hence the rank of the matrix is 2.\n",
    "- Applications include compressing images (SVD method) to store the same information but in a reduced way - blurred or low quality image.\n"
   ]
  },
  {
   "cell_type": "markdown",
   "id": "a9b73d13",
   "metadata": {},
   "source": [
    "### Echelon Form of a Matrix - Row Echelon Form\n",
    "\n",
    "The Echelon form of a Matrix A is a special type of upper-right triangle matrix which has following properties:\n",
    "\n",
    "1. A(0, 0) == 1 holds true.\n",
    "2. A(1, 0) == 0 and A(1, 1) == 0 or 1 (usually 1)\n",
    "   </br></br>\n",
    "3. In general for an element at position (i, j) of a matrix:\n",
    "   </br></br>\n",
    "   1. A(i, j) == 0 for (i > j).\n",
    "   2. A(i, j) == a where a is the first element of row i. a can be 0. a != 1 if it is row echelon form of the matrix. a == 1 if it is <strong>reduced</strong> row echelon form of the matrix.\n",
    "   3. A(i, j) == b for (i < j) where b is any real number.\n",
    "   4. If A(i, j) == 0 for any i the i must be equal to m-1 (last row).\n"
   ]
  },
  {
   "cell_type": "markdown",
   "id": "52282812",
   "metadata": {},
   "source": [
    "#### Pivot\n",
    "\n",
    "A pivot of a row is the first non-zero value in the row.\n",
    "</br></br>\n",
    "Apply sclar, row, or column (either row or column only) operations on all the elements of a matrix to get it's Echelon form.</br>\n",
    "</br>\n",
    "Given a matrix A:</br>\n",
    "[[1, 2, 3, 1],</br>\n",
    " [2, 4, 6, 2],</br>\n",
    " [1, 2, 2, 2]]</br>\n",
    "</br>\n",
    "Apply following transformations in order to get Row Echelon Form:</br>\n",
    "\n",
    "1. R1 -> R1 - 2R0 This will get 0 on A(1, 0), i > j (condition 1) but will result in 0, 0, 0, 0 on R1\n",
    "2. R2 -> R2 - R0 This will get 0 on A(2, 0) and A(2, 1), i > j (condition 1)\n",
    "3. R1 <-> R2 This will make R2 all 0s (condition 4)\n",
    "4. R1 -> (-1)\\*R1 This will make A(1, 2) as 1 (condition 2)\n",
    "   </br>\n",
    "   </br>\n",
    "\n",
    "It will result in the following matrix:\n",
    "</br></br>\n",
    "[[1, 2, 3, 1],</br>\n",
    " [0, 0, 1, -1],</br>\n",
    " [0, 0, 0, 0]]</br>\n",
    "\n",
    "</br>\n",
    "This is the Reduced Row Echelon form of the Matrix A where all pivots are 1.\n"
   ]
  },
  {
   "cell_type": "code",
   "execution_count": 171,
   "id": "f5f57fce",
   "metadata": {},
   "outputs": [
    {
     "name": "stdout",
     "output_type": "stream",
     "text": [
      "(Matrix([\n",
      "[1, 2, 0,  4],\n",
      "[0, 0, 1, -1],\n",
      "[0, 0, 0,  0]]), (0, 2))\n"
     ]
    }
   ],
   "source": [
    "# finding the echelon form of a matrix - we use sympy module for this\n",
    "from sympy import Matrix\n",
    "\n",
    "A = Matrix([\n",
    "    [1, 2, 3, 1],\n",
    "    [2, 4, 6, 2],\n",
    "    [1, 2, 2, 2]\n",
    "])\n",
    "\n",
    "rE = A.rref()\n",
    "print(rE)"
   ]
  },
  {
   "cell_type": "markdown",
   "id": "f2e87c7c",
   "metadata": {},
   "source": [
    "### Rank of the Matrix A\n",
    "\n",
    "Rank means how many unique information does the system have.\n"
   ]
  },
  {
   "cell_type": "markdown",
   "id": "829e0f53",
   "metadata": {},
   "source": [
    "#### Order of a Matrix A\n",
    "\n",
    "1. If m == n then the order of the matrix ord(A) = m. Else, the order of the matrix ord(A) = m x n.\n",
    "2. Order is represented as m x n and it is not a product or m and n.\n",
    "3. For all the below examples we are considering only the row order i.e., the value of m.\n",
    "\n",
    "#### Rank and Order\n",
    "\n",
    "If det(A) != 0 the the rank(A) = ordr(A) - This means all the information about the equations are unique.</br>\n",
    "</br>\n",
    "If det(A) == 0 then:\n",
    "\n",
    "1. rank(A) <= ordr(A) for all A whose det(A) == 0\n",
    "2. rank(A) = number of non-zero rows in the row echelon form of the matrix\n"
   ]
  },
  {
   "cell_type": "code",
   "execution_count": 4,
   "id": "983a159e",
   "metadata": {},
   "outputs": [
    {
     "name": "stdout",
     "output_type": "stream",
     "text": [
      "2\n"
     ]
    }
   ],
   "source": [
    "# Find the rank of the matrix\n",
    "import numpy as np\n",
    "A = np.array([\n",
    "    [1, 2, 3, 1],\n",
    "    [2, 4, 6, 2],\n",
    "    [1, 2, 2, 2]\n",
    "])\n",
    "\n",
    "rank = np.linalg.matrix_rank(A)\n",
    "print(rank)"
   ]
  },
  {
   "cell_type": "markdown",
   "id": "18d74ea3",
   "metadata": {},
   "source": [
    "## Matrices as Linear Transformations\n",
    "\n",
    "### Some Key Terms\n",
    "\n",
    "<strong>Basis: </strong>The square formed by the points (0, 0), (0, 1), (1, 0), and (1, 1) is called the basis.</br>\n",
    "<strong>Transformation: </strong>When one plane system is translated into another via a transformation matrix it is called Transformation</br>\n",
    "<strong>Transformation Matrix: </strong>A matrix translates one basis to another.</br>\n",
    "<strong>Span: </strong>The span of a vector is a line passing through origin and the vector i.e., the line on which the vector lies.\n",
    "\n",
    "- The span has two components, a line and the angle.\n",
    "- The line equation can be calulated by y = mx + b where m is the slope and b is the y intercept. Put (0, 0) in the equation to get the value of b.\n",
    "- The angle can be calculated by using tan-1(m).\n"
   ]
  },
  {
   "cell_type": "markdown",
   "id": "0e0bd135",
   "metadata": {},
   "source": [
    "### How transformation works.\n"
   ]
  },
  {
   "cell_type": "markdown",
   "id": "652bc333",
   "metadata": {},
   "source": [
    "Original Basis = (0, 0), (0, 1), (1, 0), and (1, 1)\n",
    "Transformation Matrix = [[3, 1], [1, 2]]\n",
    "\n",
    "We multiply the transformation matrix with each point in the Original Basis to get a new basis.\n",
    "\n",
    "- (0, 0) -> [[3, 1], [1, 2]] x [[0], [0]] = [[0], [0]] = (0, 0) ---> origin always gets translated to origin.\n",
    "- (0, 1) -> [[3, 1], [1, 2]] x [[0], [1]] = [[1], [2]] = (1, 2)\n",
    "- (1, 0) -> [[3, 1], [1, 2]] x [[1], [0]] = [[3], [1]] = (3, 1)\n",
    "- (1, 1) -> [[3, 1], [1, 2]] x [[1], [1]] = [[4], [3]] = (4, 3)\n",
    "\n",
    "These are the co-ordinates of the new basis.</br>\n",
    "Similarly any vector (a, b) can be translated to the new basis by:</br>\n",
    "\n",
    "- (a, b) -> [[3, 1], [1, 2]] x [[a], [b]] = [[p], [q]] = (p, q)\n"
   ]
  },
  {
   "cell_type": "markdown",
   "id": "24db04c8",
   "metadata": {},
   "source": [
    "### Matrix to Vector Multiplication as Tranformations\n"
   ]
  },
  {
   "cell_type": "markdown",
   "id": "830461b5",
   "metadata": {},
   "source": [
    "We only need two vectors u = (0, 1) and v = (1, 0) and a Transformation matrix A to get the new Matrix.\n",
    "\n",
    "- We multiply A and u to get the tu (transformed u: the (0, 1) in the new plane)\n",
    "- We multiply A and v to get the tv (transformed v: the (1, 0) in the new plane)\n",
    "- Then we add tu and tv to get the (1, 1) in the new plane.\n",
    "- The (0, 0) remains at origin.\n",
    "\n",
    "By using these 4 points we get the new basis.\n",
    "<br/></br>\n",
    "Let's say we have a matrix A and a matrix B. The matrix A transforms the original space to sA (some abstract notation to denote transformation) then we use the matrix B to further transform the sA to sB. Is there any matrix C such that it directly transforms the space s to sB? Yes, the C is A x B.</br>\n",
    "</br>\n",
    "i.e., C = np.matmul(A, B)\n"
   ]
  },
  {
   "cell_type": "markdown",
   "id": "5b0baedc",
   "metadata": {},
   "source": [
    "### Intuition behind Eigen Values and Eigen Vectors\n"
   ]
  },
  {
   "cell_type": "markdown",
   "id": "44644898",
   "metadata": {},
   "source": [
    "After transforming a vector to a new basis using the transformation matrix (i.e., multiplying the matrix with the vector), the original vector will no longer follow its span. It will get knocked off.</br>\n",
    "However, for a particular transformation matrix, some vectors do follow their own span and just get scaled down or up in the new basis.</br>\n",
    "</br>\n",
    "Example 1: For a transformation matrix A = [[3, 1], [0, 2]] the vector u = (1, 0) translates to (3, 0) i.e., A x u = (3, 0).</br>\n",
    "It is obvious that the vector span remains the same (i.e., along the x-axis) but it is scaled by a factor of 3.\n",
    "</br></br>\n",
    "Example 2: For the same transformation matrix A = [[3, 1], [0, 2]] the vector v = (-1, 1) translates to (-2, 2) i.e., A x v = (-2, 2).</br>\n",
    "Clearly, the span remains the same but the vector is scaled by a factor of 2.\n",
    "\n",
    "#### Eigen Vectors\n",
    "\n",
    "The special vectors for a particular transformation matrix for which the span remains the same are called Eigen Vectors.\n",
    "\n",
    "#### Eigen Values\n",
    "\n",
    "The factor by which the Eigen Vectors are scaled (stretched or squished) is called Eigen Values.</br>\n",
    "\n",
    "#### Eigen Basis\n",
    "\n",
    "The basis after the transformation. It is the matrix formed by stacking the eigen vectors together.</br>\n",
    "</br>\n",
    "<strong>Note: </strong>For an nD space, the span will be line only. The span represents a line that extends from origin to infinity in an nD space on which the vector lies.\n",
    "[Know More](https://www.youtube.com/watch?v=PFDu9oVAE-g&t=50s)\n",
    "</br></br>\n",
    "Below code demonstrates this with the same transformation matrix A.\n"
   ]
  },
  {
   "cell_type": "code",
   "execution_count": 174,
   "id": "fef91edc",
   "metadata": {},
   "outputs": [
    {
     "name": "stdout",
     "output_type": "stream",
     "text": [
      "Eigen Values: 1 1\n",
      "Eigen Vector:\n",
      "[Matrix([\n",
      "[ 0],\n",
      "[-1],\n",
      "[ 1]])]\n",
      "\n",
      "\n",
      "Eigen Values: 2 2\n",
      "Eigen Vector:\n",
      "[Matrix([\n",
      "[0],\n",
      "[1],\n",
      "[0]]), Matrix([\n",
      "[-1],\n",
      "[ 0],\n",
      "[ 1]])]\n",
      "\n",
      "\n"
     ]
    }
   ],
   "source": [
    "# Printing Eigen Values and Vectors \n",
    "from sympy import Matrix\n",
    "A = Matrix([\n",
    "    [2, 0, 0],\n",
    "    [1, 2, 1],\n",
    "    [-1, 0, 1]\n",
    "])\n",
    "\n",
    "evecs = A.eigenvects() # --> prints [(scaleX, scaleY), Eigen Vectors] --> scaleX and scaleY is nothing but the eigen values along x and y\n",
    "\n",
    "for scaleX, scaleY, vector in evecs:\n",
    "    print(\"Eigen Values:\", scaleX, scaleY)\n",
    "    print(\"Eigen Vector:\")\n",
    "    print(vector)\n",
    "    print(\"\\n\")"
   ]
  },
  {
   "cell_type": "markdown",
   "id": "26fc96ae",
   "metadata": {},
   "source": [
    "### Intuition behind Determinants\n"
   ]
  },
  {
   "cell_type": "markdown",
   "id": "255f006b",
   "metadata": {},
   "source": [
    "[Watch this for Clarity](https://www.youtube.com/watch?v=Ip3X9LOh2dk)\n",
    "\n",
    "The determinant of a matrix is the final number by which the area of the basis of a space is scaled after applying the transformation matrix or (simple matrix) to it.</br>\n",
    "</br>\n",
    "In simpler terms, determinant is the factor by which the area covered by rectangle (0, 0), (0, 1), (1, 0), (1, 1) [basis] is scaled by the matrix.</br>\n",
    "</br>\n",
    "If a matrix A scales the basis by 5 (i.e., det(A) is 5), and det(B) is 3 then it is clear that the matrix A will scale area by 5 and then matrix B will further scale the area by 3 so the total scaling would be det(A) x det(B).</br>\n",
    "</br>\n",
    "When we multiply (cross-product) two matrices we essentially calculating a matrix C to go from initial space P to final space R directly without doing P to Q by applying A and then Q to R by applying B. Therefore, the matrix C will have the same scaling as scaling of A then B. Hence, the det(AxB) = det(A) x det(B).\n",
    "\n",
    "- The scaling of a singular matrix A i.e., det(A) == 0.\n",
    "- Therefore det(AB) = det(A) x det(B) == 0. Hence, total scaling is also 0.\n",
    "  </br></br>\n",
    "\n",
    "<strong>Note: </strong>The scaling of an inverse matrix is 1/scaling of the original matrix. i.e. det(inv(A)) = 1/det(A)\n"
   ]
  },
  {
   "cell_type": "markdown",
   "id": "5f7254f5",
   "metadata": {},
   "source": [
    "### Intuition behind Singularity and Rank (and Echelon Form)\n"
   ]
  },
  {
   "cell_type": "markdown",
   "id": "d64c0191",
   "metadata": {},
   "source": [
    "If a matrix (or transormation matrix) is singular (i.e., the determinant is 0), the transformation matrix actually reduces the number of dimensions in the space.</br>\n",
    "Example: If a determinant of the matrix A is 0, then it can reduce a 3D space to a 2D or a 1D space.</br>\n",
    "</br>\n",
    "The number of dimensions that we will get after reduction is determined by the rank of the matrix (which can be easily calculated by Row Echelon form of the matrix).\n"
   ]
  },
  {
   "cell_type": "markdown",
   "id": "cc42a859",
   "metadata": {},
   "source": [
    "### Another way to find inverse of a Matrix\n"
   ]
  },
  {
   "cell_type": "markdown",
   "id": "e817b45c",
   "metadata": {},
   "source": [
    "Let A = [[1, 3], [4, 5]]</br>\n",
    "inv(A) = [[a, b], [c, d]]</br>\n",
    "</br>\n",
    "Now we know that inv(A)_A = I (i.e., [[1, 0], [0, 1]]). inv(A) _ A gives us following equations:\n",
    "\n",
    "1. a + 3c = 1\n",
    "2. b + 3d = 0\n",
    "3. 4a + 5c = 0\n",
    "4. 4b + 5d = 1\n",
    "   </br></br>\n",
    "\n",
    "We get a = 1.5, b = -2, c = -0.5, and d = 1\n"
   ]
  },
  {
   "cell_type": "markdown",
   "id": "b2ed5a00",
   "metadata": {},
   "source": [
    "### PCA - Principal Component Analysis\n",
    "\n",
    "Dimensionality Reduction\n"
   ]
  },
  {
   "cell_type": "markdown",
   "id": "f4759e63",
   "metadata": {},
   "source": [
    "In a dataset we often get some rows or columns that are linearly dependent. We can remove such rows or columns from the data set to make our training more efficient and fast.</br></br>\n",
    "The second way to reduce our data such that it still contains useful information is by doing Principal Component Analysis. Suppose we have a dataset of two points (x, y) that lies approximately in the line L => y = mx + b. We can approximate those points to exactly fit the line L, so that we can calculate y from x thereby reducing one row/column of the data.</br>\n",
    "</br>\n",
    "This method is called dimensionality reduction and it is done via PCA algorithm and it works on the principles of Eigen Values and Eigen Vectors. The dimensionality reduction is done to make the manipulation and training of model easier with retaining as much information as we can.\n"
   ]
  },
  {
   "cell_type": "markdown",
   "id": "d7b8bfd0",
   "metadata": {},
   "source": [
    "# Simple Machine Learning Classifier with Matrices\n",
    "\n",
    "Spam Mail Classification\n"
   ]
  },
  {
   "cell_type": "markdown",
   "id": "b5c1cc68",
   "metadata": {},
   "source": [
    "## Dataset\n",
    "\n",
    "We create the following table to determine (by ourselves, this is training data) that a mail is spam or not based on the count of the two words i.e., \"Lottery\" and \"Win\".</br>\n",
    "| Lottery | Win | Total Score? | Spam |\n",
    "| ------- | --- | ------------ | ---- |\n",
    "| 1 | 1 | 2 | Yes |\n",
    "| 2 | 1 | 3 | Yes |\n",
    "| 0 | 0 | 0 | No |\n",
    "| 0 | 2 | 2 | Yes |\n",
    "| 0 | 1 | 1 | No |\n",
    "| 1 | 0 | 1 | No |\n",
    "| 2 | 2 | 4 | Yes |\n",
    "| 2 | 0 | 2 | Yes |\n",
    "| 1 | 2 | 3 | Yes |\n",
    "\n",
    "Then we determine a threshold that satisfy all these conditions. For ex: a <strong>threshold of 1.5</strong> will satisfy all conditions. If the score is above 1.5, the email maked as spam. By looking at the data available to us above, we can also use 1.9 as the threshold as it will also cover the same conditions. Choosing threshold is an attentive tasks and most libraries have internal formulas to choose it automatically.</br>\n"
   ]
  },
  {
   "cell_type": "markdown",
   "id": "4eef8cad",
   "metadata": {},
   "source": [
    "## The Model\n",
    "\n",
    "In the training process the model comes up with the following matrix (we are not actually training the model, just for demonstration purposes)\n",
    "\n",
    "- [[1], [1]] - result matrix (we are giving equal weights to both the words)\n",
    "- The model calculates a threshold of 1.5 (or 1.9, 1.7, etc)\n",
    "- The model accepts two inputs \"Win\" count and \"Lottery\" count in the form of a vector [L, W] from the processed natural languages.\n",
    "- Then the model calculates the score of the input [L, W] \\* [[1], [1]], compares it with the threshold, and outputs with (1, 0) (spam, no spam).\n",
    "\n",
    "Example:</br>\n",
    "Row 1 -> [1, 1] x [[1], [1]] = 1x1 + 1x1 = 2 > Threshold (i.e., 1.5) ---> Spam</br>\n",
    "Row 6 -> [1, 0] x [[1], [1]] = 1x1 + 1x0 = 1 < Threshold (i.e., 1.5) ---> Not Spam\n",
    "\n",
    "#### In reality, we ourselves need to train the models and they are much more complicated.\n"
   ]
  },
  {
   "cell_type": "markdown",
   "id": "e305af98",
   "metadata": {},
   "source": [
    "## The Bias\n",
    "\n",
    "Let's say we apply a bias of -1.5 to the score of the model. Then we only need to check if the resultant score (actual score from model - 1.5) is positive or negative.\n",
    "\n",
    "- Positive? Spam\n",
    "- Negative? Not spam\n"
   ]
  }
 ],
 "metadata": {
  "kernelspec": {
   "display_name": "Python 3 (ipykernel)",
   "language": "python",
   "name": "python3"
  },
  "language_info": {
   "codemirror_mode": {
    "name": "ipython",
    "version": 3
   },
   "file_extension": ".py",
   "mimetype": "text/x-python",
   "name": "python",
   "nbconvert_exporter": "python",
   "pygments_lexer": "ipython3",
   "version": "3.12.1"
  }
 },
 "nbformat": 4,
 "nbformat_minor": 5
}
