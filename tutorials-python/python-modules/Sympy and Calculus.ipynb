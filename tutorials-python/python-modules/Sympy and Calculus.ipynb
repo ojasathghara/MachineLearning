{
 "cells": [
  {
   "cell_type": "markdown",
   "metadata": {},
   "source": [
    "# Introduction to Sympy\n",
    "\n",
    "A library for scintific computation in Python. Sympy has most of the mathematical formula if not all. [Also Check Numpy Here.](https://numpy.org/doc/stable/index.html)\n",
    "\n",
    "### Disclaimer\n",
    "\n",
    "1. We don't need to import the modules everytime. This is just for demonstration purposes.\n",
    "2. This notebook contains just enough features of sympy and calculus to get started with machine learning fundamentals.\n",
    "3. These notes do not serve as an alternative to a full course in university, school, or college. These notes only work as refresher guide for those who want to learn machine learning.\n",
    "4. Expand each section to see more.\n"
   ]
  },
  {
   "cell_type": "markdown",
   "metadata": {},
   "source": [
    "## Importing the modules and some basic info\n"
   ]
  },
  {
   "cell_type": "code",
   "execution_count": 4,
   "metadata": {},
   "outputs": [],
   "source": [
    "# Importing the module as sp (generally accepted abbreviations)\n",
    "import sympy as sp\n",
    "\n",
    "# Set printing options\n",
    "x, y, z = sp.symbols('x y z')\n",
    "sp.init_printing(use_unicode=True)"
   ]
  },
  {
   "cell_type": "code",
   "execution_count": 6,
   "metadata": {},
   "outputs": [
    {
     "name": "stdout",
     "output_type": "stream",
     "text": [
      "Sympy Version: 1.12\n"
     ]
    }
   ],
   "source": [
    "# Print Sympy Version\n",
    "import sympy as sp\n",
    "\n",
    "print(\"Sympy Version:\",sp.__version__)"
   ]
  },
  {
   "cell_type": "markdown",
   "metadata": {},
   "source": [
    "## Derivatives\n",
    "\n",
    "Get derivatives of some basic funtions. [Find Some Basic Functions Here.](https://www.mathsisfun.com/calculus/derivatives-rules.html)\n"
   ]
  },
  {
   "cell_type": "code",
   "execution_count": 17,
   "metadata": {},
   "outputs": [
    {
     "name": "stdout",
     "output_type": "stream",
     "text": [
      "Deriviative of cos(x): -sin(x)\n",
      "Deriviative of x^2: 2*x\n",
      "Deriviative of e^x: exp(x)\n"
     ]
    }
   ],
   "source": [
    "# Derivatives\n",
    "from sympy import diff, cos, exp\n",
    "\n",
    "expression1 = cos(x)\n",
    "derivative1 = diff(expression1, x)   # diff(expression, symbol with respect to find the derivative)\n",
    "print(\"derivative of cos(x):\", derivative1)\n",
    "\n",
    "expression2 = x**2\n",
    "derivative2 = diff(expression2, x)\n",
    "print(\"derivative of x^2:\", derivative2)\n",
    "\n",
    "expression3 = exp(x)\n",
    "derivative3 = diff(expression3, x)\n",
    "print(\"derivative of e^x:\", derivative3)"
   ]
  },
  {
   "cell_type": "markdown",
   "metadata": {},
   "source": [
    "## Integrals\n",
    "\n",
    "Get integrals of some basic functions. There are two types of integrals indefinite and definite.\n",
    "\n",
    "- Indefinite integral is just an expression with no definite value.\n",
    "- Definite integral is a value after putting the value of the variable.\n"
   ]
  },
  {
   "cell_type": "code",
   "execution_count": 17,
   "metadata": {},
   "outputs": [
    {
     "name": "stdout",
     "output_type": "stream",
     "text": [
      "Integral of cos(x): Poly(1/2*(cos(x))**2, cos(x), domain='QQ')\n",
      "Integral of x^2: Poly(1/3*x**3, x, domain='QQ')\n",
      "Integral of e^x: Poly(1/2*(exp(x))**2, exp(x), domain='QQ')\n"
     ]
    }
   ],
   "source": [
    "# Indefinite integrals\n",
    "from sympy import Poly, Symbol, cos, exp\n",
    "\n",
    "x = Symbol(\"x\") # set the variable with which you want to integrate.\n",
    "\n",
    "expression1 = cos(x)\n",
    "integral1 = Poly(expression1).integrate() # Poly(expression).integrate()\n",
    "print(\"Integral of cos(x):\", integral1)\n",
    "\n",
    "expression2 = x**2\n",
    "integral2 = Poly(expression2).integrate()\n",
    "print(\"Integral of x^2:\", integral2)\n",
    "\n",
    "expression3 = exp(x)\n",
    "integral3 = Poly(expression3).integrate()\n",
    "print(\"Integral of e^x:\", integral3)"
   ]
  },
  {
   "cell_type": "code",
   "execution_count": 20,
   "metadata": {},
   "outputs": [
    {
     "name": "stdout",
     "output_type": "stream",
     "text": [
      "Integral of cos(x): sin(1)\n",
      "Integral of x^2: 63\n",
      "Integral of e^x: -1 + E\n"
     ]
    }
   ],
   "source": [
    "# Definite integrals\n",
    "from sympy import Symbol, cos, exp, integrate\n",
    "\n",
    "x = Symbol(\"x\") # set the variable with which you want to integrate.\n",
    "\n",
    "expression1 = cos(x)\n",
    "integral1 = integrate(expression1, (x, 0, 1)) # integrate(expression, (symbol, lower limit, upper limit))\n",
    "print(\"Integral of cos(x):\", integral1)\n",
    "\n",
    "expression2 = x**2\n",
    "integral2 = integrate(expression2, (x, 3, 6))\n",
    "print(\"Integral of x^2:\", integral2)\n",
    "\n",
    "expression3 = exp(x)\n",
    "integral3 = integrate(expression3, (x, 0, 1))\n",
    "print(\"Integral of e^x:\", integral3)"
   ]
  },
  {
   "cell_type": "markdown",
   "metadata": {},
   "source": [
    "# Introduction to Calculus\n",
    "\n",
    "Calculus is used in Machine Learning to find the minimum and maximum values of a function. In machine learning model, there are loss functions (just a kind of function) which we need to minimize. Therefore, calculus is important in machine learning.</br>\n",
    "</br>\n",
    "If you want to find the maximum or minimum value of any function f(x) then find a point x for which the functions's derivative f'(x) is 0.\n"
   ]
  },
  {
   "cell_type": "markdown",
   "metadata": {},
   "source": [
    "## Notations\n",
    "\n",
    "1. Lagrange's Notation - f'(x).\n",
    "2. Leibniz's Notation - d(f(x))/dx\n"
   ]
  },
  {
   "cell_type": "markdown",
   "metadata": {},
   "source": [
    "## Inverse Function\n",
    "\n",
    "An inverse function is a function which undo the operations of a function. Example, if f(x) is a function that changes x to y then an inverse function inv(f(x)) or g(y), denoted by f^-1(y) changes y back to x. [More information and rules about inverse functions.](https://www.mathsisfun.com/calculus/derivatives-rules.html)\n",
    "\n",
    "### derivative of an Inverse Function\n",
    "\n",
    "g'(y) = 1 / f'(x) -> The derivative of the inverse function g(y) of f(x) is the reciprocal of the derivative of the original function.\n"
   ]
  },
  {
   "cell_type": "markdown",
   "metadata": {},
   "source": [
    "## Non-Differentiable Functions\n",
    "\n",
    "Just like there are some functions whose inverses don't exist (at least at certain points), there are functions whose derivatives doesn't exist at all points. These functions are called non-differentiable functions.</br>\n",
    "If a function has a discontinuity, sharp corner, or a vertical tangent in the graph, it is non-differntiable since no slope exists at a corner or sharp point.\n"
   ]
  },
  {
   "cell_type": "markdown",
   "metadata": {},
   "source": [
    "## Derivative Arithmetic\n"
   ]
  },
  {
   "cell_type": "markdown",
   "metadata": {},
   "source": [
    "### Multiplication by a Scalar\n",
    "\n",
    "When a function is multiplied by a scalar (i.e., a constant) the it is multiplied to the derivative as well. Example, diff(3 _ f(x)) == 3 _ diff(f(x)).\n"
   ]
  },
  {
   "cell_type": "code",
   "execution_count": 23,
   "metadata": {},
   "outputs": [
    {
     "name": "stdout",
     "output_type": "stream",
     "text": [
      "3*cos(x)\n"
     ]
    }
   ],
   "source": [
    "# Multiplication by a scalar\n",
    "from sympy import Symbol, diff, sin\n",
    "\n",
    "x = Symbol(\"x\")\n",
    "\n",
    "exp = 3 * sin(x)\n",
    "diff = diff(exp)\n",
    "\n",
    "print(\"Derivative of the expression is:\", diff)"
   ]
  },
  {
   "cell_type": "markdown",
   "metadata": {},
   "source": [
    "### Addition - The Sum Rule\n",
    "\n",
    "(f + g)'(x) == f'(x) + g'(x)</br>\n",
    "Means the derivative of the sum of the functions f(x) and g(x) is equal to the sum of individual derivatives.\n"
   ]
  },
  {
   "cell_type": "code",
   "execution_count": 25,
   "metadata": {},
   "outputs": [
    {
     "name": "stdout",
     "output_type": "stream",
     "text": [
      "Observe that both derivatives are equal:\n",
      "Derivative of the sum of fx and gx: 2*x + 3*cos(x)\n",
      "Sum of the individual derivatives of fx and gx: 2*x + 3*cos(x)\n"
     ]
    }
   ],
   "source": [
    "# The sum rule\n",
    "from sympy import Symbol, diff, sin\n",
    "\n",
    "x = Symbol(\"x\")\n",
    "\n",
    "fx = 3 * sin(x)\n",
    "gx = x ** 2\n",
    "\n",
    "diff1 = diff(fx + gx)\n",
    "diff2 = diff(fx) + diff(gx)\n",
    "\n",
    "print(\"Observe that both derivatives are equal:\")\n",
    "print(\"Derivative of the sum of fx and gx:\", diff1)\n",
    "print(\"Sum of the individual derivatives of fx and gx:\", diff2)"
   ]
  },
  {
   "cell_type": "markdown",
   "metadata": {},
   "source": [
    "### Multiplication - The Product Rule\n",
    "\n",
    "(f _ g)'(x) == f'(x) _ g(x) + f(x) \\* g'(x). Pretty straight forward.\n"
   ]
  },
  {
   "cell_type": "code",
   "execution_count": 28,
   "metadata": {},
   "outputs": [
    {
     "name": "stdout",
     "output_type": "stream",
     "text": [
      "The derivative of the product of the functions is: x**2*cos(x) + 2*x*sin(x)\n"
     ]
    }
   ],
   "source": [
    "# The product rule\n",
    "from sympy import Symbol, sin\n",
    "\n",
    "x = Symbol(\"x\")\n",
    "\n",
    "fx = x ** 2\n",
    "gx = sin(x)\n",
    "\n",
    "derivative = diff(fx * gx)\n",
    "print(\"The derivative of the product of the functions is:\", derivative)"
   ]
  },
  {
   "cell_type": "markdown",
   "metadata": {},
   "source": [
    "### Chain Rule\n",
    "\n",
    "diff(f(g(x))) == f'(x) \\* g'(x)\n"
   ]
  },
  {
   "cell_type": "code",
   "execution_count": null,
   "metadata": {},
   "outputs": [],
   "source": []
  }
 ],
 "metadata": {
  "kernelspec": {
   "display_name": "Python 3 (ipykernel)",
   "language": "python",
   "name": "python3"
  },
  "language_info": {
   "codemirror_mode": {
    "name": "ipython",
    "version": 3
   },
   "file_extension": ".py",
   "mimetype": "text/x-python",
   "name": "python",
   "nbconvert_exporter": "python",
   "pygments_lexer": "ipython3",
   "version": "3.12.1"
  }
 },
 "nbformat": 4,
 "nbformat_minor": 2
}
