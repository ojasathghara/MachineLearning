{
 "cells": [
  {
   "cell_type": "markdown",
   "id": "e8c808c6-968e-4826-b4de-d63f3b313cd5",
   "metadata": {},
   "source": [
    "# Math\n",
    "[Python Buil-in Math](https://www.w3schools.com/python/python_math.asp)</br>\n",
    "[Python Math Module](https://www.w3schools.com/python/module_math.asp)"
   ]
  },
  {
   "cell_type": "markdown",
   "id": "df9402cd-b2ae-42b8-86bb-53bd0a3d3f5e",
   "metadata": {},
   "source": [
    "# Date\n",
    "[See More](https://www.w3schools.com/python/python_datetime.asp)"
   ]
  },
  {
   "cell_type": "markdown",
   "id": "15a7bd6e",
   "metadata": {},
   "source": [
    "## Creating and Reading Date Objects"
   ]
  },
  {
   "cell_type": "code",
   "execution_count": 2,
   "id": "d61597bc",
   "metadata": {},
   "outputs": [
    {
     "name": "stdout",
     "output_type": "stream",
     "text": [
      "2023-12-24 14:18:20.157438 <class 'datetime.datetime'>\n"
     ]
    }
   ],
   "source": [
    "# get current data\n",
    "import datetime\n",
    "\n",
    "date = datetime.datetime.now()\n",
    "print(date, type(date))"
   ]
  },
  {
   "cell_type": "code",
   "execution_count": 3,
   "id": "70989658",
   "metadata": {},
   "outputs": [
    {
     "name": "stdout",
     "output_type": "stream",
     "text": [
      "2023\n",
      "12\n",
      "24\n",
      "14 21 43\n"
     ]
    }
   ],
   "source": [
    "# date object has multiple fields to get info\n",
    "\n",
    "date = datetime.datetime.now()\n",
    "\n",
    "print(date.year)\n",
    "print(date.month)\n",
    "print(date.day)\n",
    "print(date.hour, date.minute, date.second)"
   ]
  },
  {
   "cell_type": "markdown",
   "id": "9869e115",
   "metadata": {},
   "source": [
    "## Formatting Dates\n",
    "The strftime() function is used for formatting the data</br>\n",
    "[Check most used formatters here](https://www.w3schools.com/python/python_datetime.asp)"
   ]
  },
  {
   "cell_type": "code",
   "execution_count": 11,
   "id": "e8c1950e",
   "metadata": {},
   "outputs": [
    {
     "name": "stdout",
     "output_type": "stream",
     "text": [
      "Sun Dec 24 14:33:41 2023\n",
      "02:33:41 PM\n",
      "02:33:41 PM Sun Dec 24 IST\n"
     ]
    }
   ],
   "source": [
    "date = datetime.datetime.now()\n",
    "\n",
    "\n",
    "print(date.strftime(\"%c\")) # local version of date and time\n",
    "print(date.strftime(\"%r\")) # 12 hour clock time\n",
    "\n",
    "# combining multiple date time formats\n",
    "def getFormattedTimestamp(time: datetime.date) -> str:\n",
    "    return f\"{time.strftime(\"%r\")} {time.strftime(\"%a\")} {time.strftime(\"%b\")} {time.day } IST\"\n",
    "\n",
    "print(getFormattedTimestamp(date))"
   ]
  },
  {
   "cell_type": "markdown",
   "id": "615e7901-7a59-4893-aa91-4afe93811b93",
   "metadata": {},
   "source": [
    "# Random"
   ]
  },
  {
   "cell_type": "markdown",
   "id": "7f83fa48-48d0-44f8-add3-1fd720fc8d98",
   "metadata": {},
   "source": [
    "# JSON"
   ]
  },
  {
   "cell_type": "markdown",
   "id": "c019007d-de65-4163-b1e0-a6cff0a41d7a",
   "metadata": {},
   "source": [
    "## Convert JSON to Python Dictionary"
   ]
  },
  {
   "cell_type": "code",
   "execution_count": 14,
   "id": "945e90a4",
   "metadata": {},
   "outputs": [
    {
     "name": "stdout",
     "output_type": "stream",
     "text": [
      "{'name': 'John', 'age': 30, 'city': 'New York'} <class 'dict'>\n"
     ]
    }
   ],
   "source": [
    "import json\n",
    "from typing import TypedDict\n",
    "\n",
    "class TPerson(TypedDict):\n",
    "    name: str\n",
    "    age: int\n",
    "    city: str\n",
    "\n",
    "# some JSON:\n",
    "personjson =  '{ \"name\":\"John\", \"age\":30, \"city\":\"New York\"}'\n",
    "\n",
    "# parse x:\n",
    "person: TPerson = json.loads(personjson)\n",
    "\n",
    "# the result is a Python dictionary:\n",
    "print(person, type(person))"
   ]
  },
  {
   "cell_type": "markdown",
   "id": "1066eeb8",
   "metadata": {},
   "source": [
    "## Convert Python Objects to JSON"
   ]
  },
  {
   "cell_type": "code",
   "execution_count": 15,
   "id": "9e147ccf",
   "metadata": {},
   "outputs": [
    {
     "name": "stdout",
     "output_type": "stream",
     "text": [
      "{\"name\": \"Ojas\", \"age\": 25, \"city\": \"Bangalore\"} <class 'str'>\n"
     ]
    }
   ],
   "source": [
    "import json\n",
    "from typing import TypedDict\n",
    "\n",
    "class TPerson(TypedDict):\n",
    "    name: str\n",
    "    age: int\n",
    "    city: str\n",
    "\n",
    "person: TPerson = {\n",
    "    \"name\": \"Ojas\",\n",
    "    \"age\": 25,\n",
    "    \"city\": \"Bangalore\"\n",
    "}\n",
    "\n",
    "jsn: str = json.dumps(person)\n",
    "print(jsn, type(jsn))"
   ]
  }
 ],
 "metadata": {
  "kernelspec": {
   "display_name": "Python 3 (ipykernel)",
   "language": "python",
   "name": "python3"
  },
  "language_info": {
   "codemirror_mode": {
    "name": "ipython",
    "version": 3
   },
   "file_extension": ".py",
   "mimetype": "text/x-python",
   "name": "python",
   "nbconvert_exporter": "python",
   "pygments_lexer": "ipython3",
   "version": "3.12.1"
  }
 },
 "nbformat": 4,
 "nbformat_minor": 5
}
