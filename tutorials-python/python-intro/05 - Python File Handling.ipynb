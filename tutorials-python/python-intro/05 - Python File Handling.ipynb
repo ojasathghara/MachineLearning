{
 "cells": [
  {
   "cell_type": "markdown",
   "id": "9a2e90db-38a1-4e78-aeb8-a2a9690f45a5",
   "metadata": {},
   "source": [
    "# Modes\n",
    "\n",
    "\"r\" - Read - Default value. Opens a file for reading, error if the file does not exist.</br>\n",
    "\"a\" - Append - Opens a file for appending, creates the file if it does not exist.</br>\n",
    "\"w\" - Write - Opens a file for writing, creates the file if it does not exist.</br>\n",
    "\"x\" - Create - Creates the specified file, returns an error if the file exists.</br>\n"
   ]
  },
  {
   "cell_type": "markdown",
   "id": "be9687e9",
   "metadata": {},
   "source": [
    "# Open Type\n",
    "\n",
    "\"t\" - Text - Default value. Text mode.</br>\n",
    "\"b\" - Binary - Binary mode (e.g. images).</br>\n",
    "</br>\n",
    "Notes \"rt\" means read as text is the default value of options\n"
   ]
  },
  {
   "cell_type": "markdown",
   "id": "c06afcdc",
   "metadata": {},
   "source": [
    "# Operations\n"
   ]
  },
  {
   "cell_type": "markdown",
   "id": "bf923a79",
   "metadata": {},
   "source": [
    "## Opening a file"
   ]
  },
  {
   "cell_type": "code",
   "execution_count": 1,
   "id": "d050701d",
   "metadata": {},
   "outputs": [],
   "source": [
    "# open a non existing file as text file\n",
    "f = open(\"newFile1.txt\", \"wt\")\n",
    "\n",
    "# close the file\n",
    "f.close()"
   ]
  },
  {
   "cell_type": "code",
   "execution_count": 6,
   "id": "85de9d82",
   "metadata": {},
   "outputs": [
    {
     "name": "stdout",
     "output_type": "stream",
     "text": [
      "The specified file already exists. Please use a different file name.\n"
     ]
    }
   ],
   "source": [
    "# create a new file with x mode, throws error if it already exists\n",
    "try:\n",
    "    f = open(\"newFile1.txt\", \"xt\")\n",
    "except FileExistsError:\n",
    "    print(\"The specified file already exists. Please use a different file name.\")\n"
   ]
  },
  {
   "cell_type": "code",
   "execution_count": 1,
   "id": "86334871",
   "metadata": {},
   "outputs": [],
   "source": [
    "# open an file write text mode, write to the file and save it. -- Overwrites the file\n",
    "f = open(\"newFile1.txt\", \"wt\")\n",
    "f.write(\"This is a file test.\\nThis is a line 2 in the same file.\\nThis is line 3.\")\n",
    "f.close()"
   ]
  },
  {
   "cell_type": "markdown",
   "id": "71ddce7e",
   "metadata": {},
   "source": [
    "## Reading the entire file at once\n",
    "The read() reads the entire file as it is and puts the cursor to the end of the file."
   ]
  },
  {
   "cell_type": "code",
   "execution_count": 18,
   "id": "95f329c1",
   "metadata": {},
   "outputs": [
    {
     "name": "stdout",
     "output_type": "stream",
     "text": [
      "This is a file test.\n",
      "This is a line 2 in the same file.\n",
      "This is line 3.\n"
     ]
    }
   ],
   "source": [
    "# open a file in read text mode, throws error if the file doesn't exist\n",
    "try:\n",
    "    f = open(\"newFile1.txt\", 'rt')\n",
    "except FileNotFoundError:\n",
    "    print(\"File not found. Make sure you have entered the correct file name.\")\n",
    "else:\n",
    "    print(f.read())\n",
    "finally:\n",
    "    f.close()   # close the file"
   ]
  },
  {
   "cell_type": "markdown",
   "id": "1d984f42",
   "metadata": {},
   "source": [
    "## Reading one line at a time\n",
    "The readline() reads one line at a time and moves the cursor to the end of the line."
   ]
  },
  {
   "cell_type": "code",
   "execution_count": 19,
   "id": "4532c5ea",
   "metadata": {},
   "outputs": [
    {
     "name": "stdout",
     "output_type": "stream",
     "text": [
      "This is a file test.\n",
      "\n",
      "This is a line 2 in the same file.\n",
      "\n",
      "This is line 3.\n"
     ]
    }
   ],
   "source": [
    "# open a file in read text mode, throws error if the file doesn't exist\n",
    "try:\n",
    "    f = open(\"newFile1.txt\", 'rt')\n",
    "except FileNotFoundError:\n",
    "    print(\"File not found. Make sure you have entered the correct file name.\")\n",
    "else:\n",
    "    print(f.readline())\n",
    "    print(f.readline())\n",
    "    print(f.readline())\n",
    "finally:\n",
    "    f.close()   # close the file"
   ]
  },
  {
   "cell_type": "markdown",
   "id": "60508ac6",
   "metadata": {},
   "source": [
    "## Storing all the lines into a list\n",
    "The readlines() function takes all the lines and put them in a list."
   ]
  },
  {
   "cell_type": "code",
   "execution_count": 20,
   "id": "1967b0e6",
   "metadata": {},
   "outputs": [
    {
     "name": "stdout",
     "output_type": "stream",
     "text": [
      "['This is a file test.\\n', 'This is a line 2 in the same file.\\n', 'This is line 3.']\n"
     ]
    }
   ],
   "source": [
    "# open a file in read text mode, throws error if the file doesn't exist\n",
    "try:\n",
    "    f = open(\"newFile1.txt\", 'rt')\n",
    "except FileNotFoundError:\n",
    "    print(\"File not found. Make sure you have entered the correct file name.\")\n",
    "else:\n",
    "    lst: list[str] = f.readlines()\n",
    "    print(lst)\n",
    "finally:\n",
    "    f.close()   # close the file"
   ]
  },
  {
   "cell_type": "markdown",
   "id": "71e07624",
   "metadata": {},
   "source": [
    "## Seeking\n",
    "Allows to modify cursor position"
   ]
  },
  {
   "cell_type": "code",
   "execution_count": 3,
   "id": "585926dc",
   "metadata": {},
   "outputs": [
    {
     "name": "stdout",
     "output_type": "stream",
     "text": [
      "This is a file test.\n",
      "\n",
      "This is a file test.\n",
      "\n"
     ]
    }
   ],
   "source": [
    "try:\n",
    "    f = open(\"newFile1.txt\", 'rt')\n",
    "except FileNotFoundError:\n",
    "    print(\"File not found. Make sure you have entered the correct file name.\")\n",
    "else:\n",
    "    print(f.readline()) # sets the cursor to the next line\n",
    "    if f.seekable():\n",
    "        f.seek(0)   # sets the cursor position back to 0\n",
    "    print(f.readline())\n",
    "finally:\n",
    "    f.close()   # close the file"
   ]
  },
  {
   "cell_type": "markdown",
   "id": "7ad37611",
   "metadata": {},
   "source": [
    "# Deleting a file\n",
    "Use the os module to delete the file from the current path"
   ]
  },
  {
   "cell_type": "code",
   "execution_count": 23,
   "id": "64833301",
   "metadata": {},
   "outputs": [
    {
     "name": "stdout",
     "output_type": "stream",
     "text": [
      "File not found. Make sure you have entered the correct file name.\n"
     ]
    }
   ],
   "source": [
    "from os import remove\n",
    "\n",
    "try:\n",
    "    remove(\"newFile1.txt\")\n",
    "except FileNotFoundError:\n",
    "    print(\"File not found. Make sure you have entered the correct file name.\")"
   ]
  },
  {
   "cell_type": "markdown",
   "id": "9673da97",
   "metadata": {},
   "source": [
    "# Footnotes\n",
    "[See more functions here!](https://www.w3schools.com/python/python_ref_file.asp)"
   ]
  }
 ],
 "metadata": {
  "kernelspec": {
   "display_name": "Python 3 (ipykernel)",
   "language": "python",
   "name": "python3"
  },
  "language_info": {
   "codemirror_mode": {
    "name": "ipython",
    "version": 3
   },
   "file_extension": ".py",
   "mimetype": "text/x-python",
   "name": "python",
   "nbconvert_exporter": "python",
   "pygments_lexer": "ipython3",
   "version": "3.12.1"
  }
 },
 "nbformat": 4,
 "nbformat_minor": 5
}
