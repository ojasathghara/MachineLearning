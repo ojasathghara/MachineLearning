{
 "cells": [
  {
   "cell_type": "markdown",
   "id": "e730fcda-8d2f-45c5-b59b-3908547521f6",
   "metadata": {
    "jp-MarkdownHeadingCollapsed": true
   },
   "source": [
    "# Primitive Data Types\n"
   ]
  },
  {
   "cell_type": "code",
   "execution_count": 2,
   "id": "3d1f240c-fded-4c1c-b3ff-da6c120224f0",
   "metadata": {},
   "outputs": [
    {
     "name": "stdout",
     "output_type": "stream",
     "text": [
      "hello test\n",
      "test hello\n",
      "False False False\n"
     ]
    }
   ],
   "source": [
    "a = 5 # number\n",
    "b = True # boolean\n",
    "c = \"Hello world\" #string\n",
    "\n",
    "p, q = \"hello\", \"test\" # multiple assignment\n",
    "print(p, q) # prints the data\n",
    "\n",
    "p, q = q, p # swapping the variables\n",
    "print(p, q)\n",
    "\n",
    "# initializing bulk variables\n",
    "[x, y, z] = [False for x in range(3)]\n",
    "print(x, y, z)"
   ]
  },
  {
   "cell_type": "markdown",
   "id": "082c035b-34d7-425e-869d-92d34d0b3f72",
   "metadata": {
    "jp-MarkdownHeadingCollapsed": true
   },
   "source": [
    "# Printing the Data (Output)\n"
   ]
  },
  {
   "cell_type": "code",
   "execution_count": 3,
   "id": "da8b350a-0af3-4505-82a2-52f7d46b5c99",
   "metadata": {},
   "outputs": [
    {
     "name": "stdout",
     "output_type": "stream",
     "text": [
      "5\n",
      "Hello world 5 is True\n",
      "This is a 'single quote' example\n",
      "\n",
      "This is \"double quote\" example\n",
      "\n",
      "This is \n",
      "a multi\n",
      "line print with formatting hello\n"
     ]
    }
   ],
   "source": [
    "print(a) # simple print\n",
    "print(f'{c} {a} is {b}') # formatted printing\n",
    "\n",
    "# special printing\n",
    "print(\"This is a 'single quote' example\\n\");\n",
    "print(\"This is \\\"double quote\\\" example\\n\");\n",
    "print(f\"\"\"This is \n",
    "a multi\n",
    "line print with formatting {q}\"\"\")"
   ]
  },
  {
   "cell_type": "markdown",
   "id": "60bd9039-eb94-4cf9-b932-6632eb10f0a8",
   "metadata": {
    "jp-MarkdownHeadingCollapsed": true
   },
   "source": [
    "# Input the Data (Input)\n"
   ]
  },
  {
   "cell_type": "code",
   "execution_count": 3,
   "id": "eab492ff-451d-40f4-b9c4-559559e52aaf",
   "metadata": {},
   "outputs": [
    {
     "name": "stdout",
     "output_type": "stream",
     "text": [
      "Enter your name Ojaswi\n"
     ]
    },
    {
     "name": "stdout",
     "output_type": "stream",
     "text": [
      "Your name is Ojaswi\n"
     ]
    }
   ],
   "source": [
    "# simple input\n",
    "\n",
    "inp = input(\"Enter your name\") \n",
    "print(f'Your name is {inp}');"
   ]
  },
  {
   "cell_type": "code",
   "execution_count": 4,
   "id": "fc7b7bf0-39d3-40e7-8d5c-c53f172a53d9",
   "metadata": {},
   "outputs": [
    {
     "name": "stdout",
     "output_type": "stream",
     "text": [
      "Enter your name and age separated by space Ojaswi 25\n"
     ]
    },
    {
     "name": "stdout",
     "output_type": "stream",
     "text": [
      "Your name is Ojaswi and you are 25 years old.\n"
     ]
    }
   ],
   "source": [
    "# formatted input, space separated, etc\n",
    "\n",
    "name, age = input(\"Enter your name and age separated by space\").split() # split string function takes a parameter to split the string\n",
    "print(f'Your name is {name} and you are {age} years old.')"
   ]
  },
  {
   "cell_type": "code",
   "execution_count": 3,
   "id": "be35e061",
   "metadata": {},
   "outputs": [
    {
     "name": "stdout",
     "output_type": "stream",
     "text": [
      "5 4 <class 'int'> <class 'int'>\n"
     ]
    }
   ],
   "source": [
    "# space separated integers\n",
    "rows, cols = list(map(int, input(\"Enter rows and columns\").split(\" \")))\n",
    "print(rows, cols, type(rows), type(cols))"
   ]
  },
  {
   "cell_type": "code",
   "execution_count": 5,
   "id": "26f76c93-9e79-488b-aa43-cecdebac9f90",
   "metadata": {},
   "outputs": [
    {
     "name": "stdout",
     "output_type": "stream",
     "text": [
      "Enter your name and age separated by space Ojaswi 25\n"
     ]
    },
    {
     "name": "stdout",
     "output_type": "stream",
     "text": [
      "['Ojaswi', '25'] <class 'list'>\n"
     ]
    }
   ],
   "source": [
    "# let's see what happens when we assign it to one variable\n",
    "\n",
    "details = input(\"Enter your name and age separated by space\").split()\n",
    "print(details, type(details)) # printing the variable and the type"
   ]
  },
  {
   "cell_type": "code",
   "execution_count": 6,
   "id": "c18048af-7325-4744-8593-1dc6f40fb3df",
   "metadata": {},
   "outputs": [
    {
     "name": "stdout",
     "output_type": "stream",
     "text": [
      "5 8 <class 'int'> <class 'int'>\n"
     ]
    }
   ],
   "source": [
    "# above code means you can destructure the data from a list directly\n",
    "\n",
    "x, y = [5, 8]\n",
    "print(x, y, type(x), type(y))"
   ]
  },
  {
   "cell_type": "code",
   "execution_count": 7,
   "id": "a79adf6c-1614-4651-ba9f-26c004ea248e",
   "metadata": {},
   "outputs": [
    {
     "name": "stdout",
     "output_type": "stream",
     "text": [
      "Enter the number 0:  4\n",
      "Enter the number 1:  3\n",
      "Enter the number 2:  1\n"
     ]
    },
    {
     "name": "stdout",
     "output_type": "stream",
     "text": [
      "['4', '3', '1']\n"
     ]
    }
   ],
   "source": [
    "# input in a list using for loop\n",
    "\n",
    "n, inputs = 3, []\n",
    "for i in range(n):\n",
    "    inputs.append(input(f'Enter the number {i}: '))\n",
    "print(inputs)"
   ]
  },
  {
   "cell_type": "markdown",
   "id": "d68405cc-7455-44b2-9a59-fb948b0309bc",
   "metadata": {
    "jp-MarkdownHeadingCollapsed": true
   },
   "source": [
    "# Number Arithmetic\n"
   ]
  },
  {
   "cell_type": "code",
   "execution_count": 8,
   "id": "9e721060-04d0-4e23-925a-8220d37dcb05",
   "metadata": {},
   "outputs": [
    {
     "name": "stdout",
     "output_type": "stream",
     "text": [
      "7 3 10 2.5\n"
     ]
    }
   ],
   "source": [
    "a, b = 5, 2\n",
    "\n",
    "#basics\n",
    "c = a + b # addition\n",
    "d = a - b # subtraction\n",
    "e = a * b # multiplication\n",
    "f = a / b # division\n",
    "\n",
    "print(c, d, e, f)"
   ]
  },
  {
   "cell_type": "code",
   "execution_count": 9,
   "id": "bc9d8c10-e88e-44cc-b551-f41b0b0a6508",
   "metadata": {},
   "outputs": [
    {
     "name": "stdout",
     "output_type": "stream",
     "text": [
      "1 2 25\n"
     ]
    }
   ],
   "source": [
    "#special\n",
    "x = a % b # modulo\n",
    "y = a // b # floor division (without floating point)\n",
    "z = a ** b # exponentiation\n",
    "\n",
    "print(x, y, z)"
   ]
  },
  {
   "cell_type": "markdown",
   "id": "2a00a721-17d3-4865-8d10-f4fdb7a75286",
   "metadata": {
    "jp-MarkdownHeadingCollapsed": true
   },
   "source": [
    "# Boolean\n"
   ]
  },
  {
   "cell_type": "code",
   "execution_count": 10,
   "id": "e0319091-460a-4957-b9c0-042707b64549",
   "metadata": {},
   "outputs": [
    {
     "name": "stdout",
     "output_type": "stream",
     "text": [
      "True False\n"
     ]
    }
   ],
   "source": [
    "a = True\n",
    "b = False\n",
    "\n",
    "# using 'or' and 'and'\n",
    "print(a or b, a and b)"
   ]
  },
  {
   "cell_type": "markdown",
   "id": "87581bce-908d-4a4a-94ed-f600829a0ff3",
   "metadata": {
    "jp-MarkdownHeadingCollapsed": true
   },
   "source": [
    "# Bitwise operations\n"
   ]
  },
  {
   "cell_type": "code",
   "execution_count": 11,
   "id": "f29ffb9f-3a28-4ec7-9e5f-4e68543a5cf3",
   "metadata": {},
   "outputs": [
    {
     "name": "stdout",
     "output_type": "stream",
     "text": [
      "4\n",
      "5\n",
      "-5\n",
      "1\n",
      "10\n",
      "2\n"
     ]
    }
   ],
   "source": [
    "a, b = 5, 4 # a is 101 and b is 100 in bits\n",
    "\n",
    "print(a & b) # and - 100 -- 4\n",
    "print(a | b) # or - 101 -- 5\n",
    "print(~b) # not - 011 -- 3 (not correct answer since there are more bits than just three in a number)\n",
    "print(a ^ b) # xor - 001 -- 1\n",
    "print(a << 1) # left shift - 1010 -- 10\n",
    "print(a >> 1) # right shift - 010 -- 2"
   ]
  },
  {
   "cell_type": "markdown",
   "id": "26b88b32-8450-4a08-8e08-3a98eb704413",
   "metadata": {
    "jp-MarkdownHeadingCollapsed": true
   },
   "source": [
    "# Conditional Statements\n"
   ]
  },
  {
   "cell_type": "markdown",
   "id": "2b1b8b7a-11ce-422e-a11b-6ac492553029",
   "metadata": {
    "jp-MarkdownHeadingCollapsed": true
   },
   "source": [
    "## If, Else, Elif\n"
   ]
  },
  {
   "cell_type": "code",
   "execution_count": null,
   "id": "31a74f46-caab-48d5-bbe0-1f3b28f46653",
   "metadata": {},
   "outputs": [
    {
     "name": "stdout",
     "output_type": "stream",
     "text": [
      "Enter your age:  25\n"
     ]
    },
    {
     "name": "stdout",
     "output_type": "stream",
     "text": [
      "Please vote!\n"
     ]
    }
   ],
   "source": [
    "age = int(input(\"Enter your age: \"), base=10) # takes a string and converts into decimal int\n",
    "\n",
    "if age < 16:\n",
    "    print(\"You cannot vote!\");\n",
    "elif age < 18:\n",
    "    print(\"Wait till you are 18!\")\n",
    "else:\n",
    "    print(\"Please vote!\")"
   ]
  },
  {
   "cell_type": "markdown",
   "id": "4006ef7e-b2c9-4a53-b8ea-8eca178db7d0",
   "metadata": {
    "jp-MarkdownHeadingCollapsed": true
   },
   "source": [
    "## Match (Switch)\n"
   ]
  },
  {
   "cell_type": "code",
   "execution_count": 2,
   "id": "682e977f-8a38-4ad3-857c-77859d4b7701",
   "metadata": {},
   "outputs": [
    {
     "name": "stdout",
     "output_type": "stream",
     "text": [
      "The language doesn't matter, what matters is solving problems.\n"
     ]
    }
   ],
   "source": [
    "lang = input(\"What's the programming language you want to learn? \")\n",
    "\n",
    "match lang:\n",
    "    case \"JavaScript\":\n",
    "        print(\"You can become a web developer.\")\n",
    "\n",
    "    case \"Python\":\n",
    "        print(\"You can become a Data Scientist\")\n",
    "\n",
    "    case \"PHP\":\n",
    "        print(\"You can become a backend developer\")\n",
    "    \n",
    "    case \"Solidity\":\n",
    "        print(\"You can become a Blockchain developer\")\n",
    "\n",
    "    case \"Java\":\n",
    "        print(\"You can become a mobile app developer\")\n",
    "    case _: # default\n",
    "        print(\"The language doesn't matter, what matters is solving problems.\")"
   ]
  },
  {
   "cell_type": "markdown",
   "id": "6276a4ec-eafd-4bca-9e34-b4f9f96fd67a",
   "metadata": {
    "jp-MarkdownHeadingCollapsed": true
   },
   "source": [
    "# Loops\n"
   ]
  },
  {
   "cell_type": "markdown",
   "id": "ead13cfd-6940-403d-bfeb-f1d4d5cf0f69",
   "metadata": {},
   "source": [
    "## For Loop\n"
   ]
  },
  {
   "cell_type": "code",
   "execution_count": 3,
   "id": "baacf0d2-4e48-4fb9-8d7d-634634338fb4",
   "metadata": {},
   "outputs": [
    {
     "name": "stdout",
     "output_type": "stream",
     "text": [
      "0\n",
      "1\n",
      "2\n",
      "3\n",
      "4\n",
      "4\n",
      "range(0, 5) <class 'range'>\n",
      "4\n",
      "5\n",
      "6\n",
      "1\n",
      "8\n",
      "O\n",
      "j\n",
      "a\n",
      "s\n",
      "w\n",
      "i\n"
     ]
    }
   ],
   "source": [
    "for i in range(5):\n",
    "    print(i)\n",
    "    \n",
    "print(i) # not scoped\n",
    "\n",
    "# range function\n",
    "ran = range(5)\n",
    "print(ran, type(ran))\n",
    "\n",
    "# for loops in list\n",
    "list = [4, 5, 6, 1, 8]\n",
    "for i in list:\n",
    "    print(i)\n",
    "\n",
    "# for in string\n",
    "name = \"Ojaswi\"\n",
    "for c in name:\n",
    "    print(c)"
   ]
  },
  {
   "cell_type": "markdown",
   "id": "d868e7de-9cc4-492d-a408-3f29caddce01",
   "metadata": {},
   "source": [
    "## While Loop\n"
   ]
  },
  {
   "cell_type": "code",
   "execution_count": 2,
   "id": "9ca79afd-68ef-4b71-883e-2760a5fb16a5",
   "metadata": {},
   "outputs": [
    {
     "name": "stdout",
     "output_type": "stream",
     "text": [
      "3\n",
      "2\n",
      "1\n"
     ]
    }
   ],
   "source": [
    "i = 3\n",
    "while i > 0:\n",
    "    print(i)\n",
    "    i -= 1;"
   ]
  },
  {
   "cell_type": "markdown",
   "id": "4675392c-6d89-4f94-9fd6-675ea49ee0d0",
   "metadata": {
    "jp-MarkdownHeadingCollapsed": true
   },
   "source": [
    "# Error (Exception) Handling\n"
   ]
  },
  {
   "cell_type": "code",
   "execution_count": 25,
   "id": "d0e128b6-31af-47b4-a794-52e5f7286415",
   "metadata": {},
   "outputs": [
    {
     "name": "stdout",
     "output_type": "stream",
     "text": [
      "TypeError occured\n",
      "This is finally block\n"
     ]
    }
   ],
   "source": [
    "# hadling errors\n",
    "\n",
    "x = \"ojas\"\n",
    "try:\n",
    "    x + 45\n",
    "except TypeError:  # will only catch TypeErrors\n",
    "    print(\"TypeError occured\")\n",
    "except ValueError: # will only catch ValueErrors\n",
    "    print(\"ValueError occured\")\n",
    "except:\n",
    "    print(\"Unclassified Error occured\") # catch all errors only when no other errors are caught\n",
    "finally:\n",
    "    print(\"This is finally block\")"
   ]
  },
  {
   "cell_type": "code",
   "execution_count": 32,
   "id": "b0c4df81-a84a-4677-892e-999805009feb",
   "metadata": {},
   "outputs": [
    {
     "name": "stdout",
     "output_type": "stream",
     "text": [
      "Inside Try\n",
      "Else executed when there was no error...\n",
      "Finally will execute no matter what!\n"
     ]
    }
   ],
   "source": [
    "# throwing or raising errors\n",
    "\n",
    "x = 6\n",
    "try: # you try to open a file\n",
    "    print(\"Inside Try\")\n",
    "    if x < 5:\n",
    "        raise ValueError(\"Value cannot be less than 5!\")\n",
    "\n",
    "except ValueError as error: # catching the error (if file doesn't exist, you gracefully tell the user)\n",
    "    print(error)\n",
    "\n",
    "else: # if file exists then do the operation (this could've been done in the try block itself but whatever)\n",
    "    print(\"Else executed when there was no error...\")\n",
    "    \n",
    "finally:\n",
    "    print(\"Finally will execute no matter what!\")"
   ]
  },
  {
   "cell_type": "markdown",
   "id": "1d33ee74-a769-4908-82f3-2cd631540e5e",
   "metadata": {
    "jp-MarkdownHeadingCollapsed": true
   },
   "source": [
    "# Typecasting\n"
   ]
  },
  {
   "cell_type": "code",
   "execution_count": 8,
   "id": "2a851356-2ccd-4e7f-9678-bb2efcc5f21e",
   "metadata": {},
   "outputs": [
    {
     "name": "stdout",
     "output_type": "stream",
     "text": [
      "5 <class 'str'>\n"
     ]
    }
   ],
   "source": [
    "# number to string\n",
    "\n",
    "num = 5\n",
    "five = str(num)\n",
    "print(five, type(five))"
   ]
  },
  {
   "cell_type": "code",
   "execution_count": 5,
   "id": "914d1e96-dd45-4b55-a527-60eaff183172",
   "metadata": {},
   "outputs": [
    {
     "name": "stdout",
     "output_type": "stream",
     "text": [
      "5.2 <class 'float'>\n",
      "6 <class 'int'>\n",
      "5 <class 'int'>\n"
     ]
    }
   ],
   "source": [
    "# string to float and int\n",
    "\n",
    "five = '5.2'\n",
    "deci = float(five)\n",
    "print(deci, type(deci))\n",
    "\n",
    "six = '6' # cannot convert 6.0 to int directly\n",
    "num = int(six)\n",
    "print(num, type(num))\n",
    "\n",
    "num = int(float(five)) # can convert floats to int and vice versa\n",
    "print(num, type(num))"
   ]
  }
 ],
 "metadata": {
  "kernelspec": {
   "display_name": "Python 3 (ipykernel)",
   "language": "python",
   "name": "python3"
  },
  "language_info": {
   "codemirror_mode": {
    "name": "ipython",
    "version": 3
   },
   "file_extension": ".py",
   "mimetype": "text/x-python",
   "name": "python",
   "nbconvert_exporter": "python",
   "pygments_lexer": "ipython3",
   "version": "3.11.3"
  }
 },
 "nbformat": 4,
 "nbformat_minor": 5
}
