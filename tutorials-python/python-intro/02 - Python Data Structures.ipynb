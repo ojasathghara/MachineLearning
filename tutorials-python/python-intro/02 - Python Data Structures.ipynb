{
 "cells": [
  {
   "cell_type": "markdown",
   "id": "94232eb4-81b1-4f6a-9c26-648bf52fe2e4",
   "metadata": {},
   "source": [
    "# Python Data Structures\n",
    "\n",
    "[Also See Python Collections](https://docs.python.org/3/library/collections.html)\n"
   ]
  },
  {
   "cell_type": "markdown",
   "id": "8186951f-71e3-400f-8009-d9e743808dea",
   "metadata": {
    "jp-MarkdownHeadingCollapsed": true
   },
   "source": [
    "## String and Operations\n",
    "\n",
    "[See All String Operations](https://www.w3schools.com/python/python_ref_string.asp)\n"
   ]
  },
  {
   "cell_type": "code",
   "execution_count": 1,
   "id": "0c882122-1a8d-46e7-b4c6-b51deea0b13b",
   "metadata": {},
   "outputs": [
    {
     "name": "stdout",
     "output_type": "stream",
     "text": [
      "15\n"
     ]
    }
   ],
   "source": [
    "# define a string and print the length\n",
    "\n",
    "name = \"Ojaswi Athghara\"\n",
    "print(len(name)) # length of any sequence"
   ]
  },
  {
   "cell_type": "code",
   "execution_count": 2,
   "id": "616ee575-adb6-4c89-864e-500291018fbf",
   "metadata": {},
   "outputs": [
    {
     "name": "stdout",
     "output_type": "stream",
     "text": [
      "First a: 2\n",
      "First a: 2\n",
      "Last a: 14\n",
      "Last a: 14\n",
      "X there?: -1\n"
     ]
    }
   ],
   "source": [
    "# find a character in the string\n",
    "\n",
    "print(\"First a:\", name.find('a')) # returns the first position of 'a'\n",
    "print(\"First a:\", name.index('a')) # returns the first position of 'a'\n",
    "print(\"Last a:\", name.rfind('a')) # returns the last position of 'a'\n",
    "print(\"Last a:\", name.rindex('a')) # returns the last position of 'a'\n",
    "print(\"X there?:\", name.find('x')) # returns -1 for not found."
   ]
  },
  {
   "cell_type": "code",
   "execution_count": 3,
   "id": "e0a8865a-0261-497b-a579-cd2112648acd",
   "metadata": {},
   "outputs": [
    {
     "name": "stdout",
     "output_type": "stream",
     "text": [
      "ls: this0needs0to0be0a0string0list\n"
     ]
    }
   ],
   "source": [
    "# join a list with a given string\n",
    "\n",
    "joinee = \"0\"\n",
    "ls = joinee.join([\"this\", \"needs\", \"to\", \"be\", \"a\", \"string\", \"list\"])\n",
    "print(\"ls:\", ls)"
   ]
  },
  {
   "cell_type": "code",
   "execution_count": 4,
   "id": "15474dde-247c-470a-b672-fbc2705f6bbb",
   "metadata": {},
   "outputs": [
    {
     "name": "stdout",
     "output_type": "stream",
     "text": [
      "name2: Ojxswi Athghxrx\n",
      "name3: Ojxswi Athghxra\n",
      "name4: Ojaswi Athghxra\n"
     ]
    }
   ],
   "source": [
    "# replace\n",
    "\n",
    "name2 = name.replace('a', 'x') # replace all\n",
    "print(\"name2:\", name2)\n",
    "\n",
    "n = 2\n",
    "name3 = name.replace('a', 'x', n) # replace n number of occurences\n",
    "print(\"name3:\", name3)\n",
    "\n",
    "# replacing only the nth occurrence of a character in the string\n",
    "n = 2\n",
    "sub = \"a\" # substring to replace\n",
    "rep = \"x\" # substring to replace with\n",
    "\n",
    "nameList = name.split('a');\n",
    "name4 = sub.join(nameList[:n]) + rep + sub.join(nameList[n:])\n",
    "print(\"name4:\", name4)"
   ]
  },
  {
   "cell_type": "code",
   "execution_count": 5,
   "id": "baca3efc-a254-44f5-ac74-f55eed437975",
   "metadata": {},
   "outputs": [
    {
     "name": "stdout",
     "output_type": "stream",
     "text": [
      "['Oj', 'swi Athgh', 'r', '']\n",
      "['Oj', 'swi Athgh', 'r', '']\n"
     ]
    }
   ],
   "source": [
    "# split\n",
    "\n",
    "print(name.split('a')) # splits wherever 'a' is there\n",
    "print(name.rsplit('a'))"
   ]
  },
  {
   "cell_type": "code",
   "execution_count": 6,
   "id": "c5c158b4-6ffb-4d98-ab27-7090167fef8a",
   "metadata": {},
   "outputs": [
    {
     "name": "stdout",
     "output_type": "stream",
     "text": [
      "Count of As: 3\n",
      "Does it ends with 'a'?: True\n",
      "Does it starts with 'a'?: False\n"
     ]
    }
   ],
   "source": [
    "# misc\n",
    "\n",
    "print(\"Count of As:\", name.count('a')) # returns count\n",
    "print(\"Does it ends with 'a'?:\", name.endswith('a'))\n",
    "print(\"Does it starts with 'a'?:\", name.startswith('a'))"
   ]
  },
  {
   "cell_type": "code",
   "execution_count": 6,
   "id": "809a3806",
   "metadata": {},
   "outputs": [
    {
     "name": "stdout",
     "output_type": "stream",
     "text": [
      "This\n",
      "is a\n",
      "very\n",
      "long\n",
      "text\n",
      "crea\n",
      "ted\n",
      "for \n",
      "exam\n",
      "ple \n",
      "purp\n",
      "ose!\n"
     ]
    }
   ],
   "source": [
    "# text wrap\n",
    "from textwrap import wrap\n",
    "\n",
    "longtext = \"This is a very long text created for example purpose!\"\n",
    "wrapList: list[str] = wrap(longtext, 4) # string, length to be wrapped\n",
    "print(\"\\n\".join(wrapList))"
   ]
  },
  {
   "cell_type": "code",
   "execution_count": 8,
   "id": "de6bf03a",
   "metadata": {},
   "outputs": [
    {
     "name": "stdout",
     "output_type": "stream",
     "text": [
      "foo   \n",
      "   foo\n",
      " foo  \n"
     ]
    }
   ],
   "source": [
    "# justify ---> takes a length param to insert the required number of spaces.\n",
    "print(\"foo\".ljust(6))\n",
    "print(\"foo\".rjust(6))\n",
    "print(\"foo\".center(6))"
   ]
  },
  {
   "cell_type": "markdown",
   "id": "fb1e8a77-c86f-4b4c-b688-c58c15fc54a7",
   "metadata": {
    "jp-MarkdownHeadingCollapsed": true
   },
   "source": [
    "## List\n",
    "\n",
    "[See All List Operations](https://www.w3schools.com/python/python_ref_list.asp) <br/>\n",
    "[See List Comprehension](https://www.w3schools.com/python/python_lists_comprehension.asp)\n"
   ]
  },
  {
   "cell_type": "markdown",
   "id": "5e7d514f-e8c5-439d-8fe2-b26e3103268b",
   "metadata": {
    "jp-MarkdownHeadingCollapsed": true
   },
   "source": [
    "### List Operations\n"
   ]
  },
  {
   "cell_type": "code",
   "execution_count": 7,
   "id": "d299e6c4-8950-4d78-a70b-86baf58c1696",
   "metadata": {},
   "outputs": [
    {
     "name": "stdout",
     "output_type": "stream",
     "text": [
      "Length of the list: 5\n",
      "List after appending: [32, 89, 65, 29, 18, 4]\n",
      "List after inserting 789 at index 2: [32, 89, 789, 65, 29, 18, 4]\n",
      "List after removing last: [32, 89, 789, 65, 29, 18]\n",
      "List after popping 2 index: [32, 89, 65, 29, 18]\n",
      "Number of 32 in the List: 1\n"
     ]
    }
   ],
   "source": [
    "# basic operations\n",
    "\n",
    "list = [32, 89, 65, 29, 18]\n",
    "\n",
    "print(\"Length of the list:\", len(list)) # length of the list\n",
    "\n",
    "list.append(4) # add element to the last of the list\n",
    "print(\"List after appending:\", list)\n",
    "\n",
    "list.insert(2, 789)\n",
    "print(\"List after inserting 789 at index 2:\", list)\n",
    "\n",
    "list.pop() # remove last element from the list\n",
    "print(\"List after removing last:\", list)\n",
    "\n",
    "list.pop(2) # remove element at index 2\n",
    "print(\"List after popping 2 index:\", list)\n",
    "\n",
    "print(\"Number of 32 in the List:\", list.count(32)) # count the number of 32 in the list"
   ]
  },
  {
   "cell_type": "code",
   "execution_count": 8,
   "id": "19ab765b-f2b6-4942-82c3-9378c7be5676",
   "metadata": {},
   "outputs": [
    {
     "name": "stdout",
     "output_type": "stream",
     "text": [
      "Original list: [32, 89, 65, 29, 18] \n",
      "Copied and modified list: [999, 89, 65, 29, 18]\n",
      "After shallow copying and modifying: [666, 89, 65, 29, 18]\n"
     ]
    }
   ],
   "source": [
    "# deep and shallow copy\n",
    "\n",
    "list2 = list.copy();\n",
    "list2[0] = 999\n",
    "print(\"Original list:\", list, \"\\nCopied and modified list:\", list2)\n",
    "\n",
    "#shallow copy\n",
    "copySh = list\n",
    "copySh[0] = 666\n",
    "print(\"After shallow copying and modifying:\", list)"
   ]
  },
  {
   "cell_type": "code",
   "execution_count": 9,
   "id": "861fd3c2-038b-4b28-88b9-eeb26544a5e0",
   "metadata": {},
   "outputs": [
    {
     "name": "stdout",
     "output_type": "stream",
     "text": [
      "Extended List: [666, 89, 65, 29, 18, 8, 2, 3, 5]\n",
      "First occurrence of 29 in the list: 3\n"
     ]
    }
   ],
   "source": [
    "# extensions\n",
    "\n",
    "list.extend({5, 8, 3, 2, 2, 2, 2}) # extends with any sequence, in this case, a set\n",
    "print(\"Extended List:\", list)\n",
    "\n",
    "print(\"First occurrence of 29 in the list:\", list.index(29))"
   ]
  },
  {
   "cell_type": "code",
   "execution_count": 16,
   "id": "d79001fd-51f7-4514-813b-8f0457b5bde8",
   "metadata": {},
   "outputs": [
    {
     "name": "stdout",
     "output_type": "stream",
     "text": [
      "Sorted Copy: [666, 89, 65, 29, 18, 8, 5, 3, 2] \n",
      "Original Copy: [666, 89, 65, 29, 18, 8, 5, 3, 2]\n",
      "Inplace sorted list: [666, 89, 65, 29, 18, 8, 5, 3, 2]\n"
     ]
    }
   ],
   "source": [
    "# sort\n",
    "\n",
    "sortCopy = sorted(list, reverse = True)\n",
    "print(\"Sorted Copy:\", sortCopy, \"\\nOriginal Copy:\", list)\n",
    "\n",
    "# inplace sort \n",
    "list.sort(reverse = True) # remove reverse argument to sort ascending\n",
    "print(\"Inplace sorted list:\", list) \n",
    "\n",
    "# reverse\n",
    "list.reverse();"
   ]
  },
  {
   "cell_type": "code",
   "execution_count": 19,
   "id": "3817a74a-222d-4c61-874c-a0ce7173e15d",
   "metadata": {},
   "outputs": [
    {
     "name": "stdout",
     "output_type": "stream",
     "text": [
      "List after clearing: []\n",
      "Brand new list: [2]\n"
     ]
    }
   ],
   "source": [
    "# clear the list\n",
    "\n",
    "list.clear()\n",
    "print(\"List after clearing:\", list)\n",
    "\n",
    "list.append(2)\n",
    "print(\"Brand new list:\", list)"
   ]
  },
  {
   "cell_type": "code",
   "execution_count": 30,
   "id": "a99dae97-df60-4d62-b367-82c9073d1230",
   "metadata": {},
   "outputs": [
    {
     "name": "stdout",
     "output_type": "stream",
     "text": [
      "2 5 3\n"
     ]
    }
   ],
   "source": [
    "# unpack the list\n",
    "\n",
    "list = [2, 5, 3]\n",
    "[a, b, c] = list # you need to unpack all the values in the list\n",
    "print(a, b, c)"
   ]
  },
  {
   "cell_type": "markdown",
   "id": "83c2c31e-d9ba-4411-8a7d-279b5d884395",
   "metadata": {
    "jp-MarkdownHeadingCollapsed": true
   },
   "source": [
    "### List Comprehension\n"
   ]
  },
  {
   "cell_type": "markdown",
   "id": "b3409c97",
   "metadata": {},
   "source": [
    "#### Simple Comprehensions\n"
   ]
  },
  {
   "cell_type": "code",
   "execution_count": 11,
   "id": "e6de48ca-543b-449b-9937-021dea9e0c94",
   "metadata": {},
   "outputs": [
    {
     "name": "stdout",
     "output_type": "stream",
     "text": [
      "Fruits only with 'o': ['mango', 'tomato']\n",
      "Fruits all caps: ['APPLE', 'MANGO', 'GUAVA', 'TOMATO']\n",
      "Fruits only banana: ['banana', 'banana', 'banana', 'banana']\n",
      "Replaced Apple with Orange: ['orange', 'mango', 'guava', 'tomato']\n",
      "Generated List: [6, 7, 8, 9]\n",
      "I don't like Apples: ['mango', 'guava', 'tomato']\n"
     ]
    }
   ],
   "source": [
    "fruits = [\"apple\", \"mango\", \"guava\", \"tomato\"]\n",
    "\n",
    "fruitsWithO = [f for f in fruits if 'o' in f] # only fruit names containing 'o'\n",
    "print(\"Fruits only with 'o':\", fruitsWithO)\n",
    "\n",
    "fruitsCaps = [f.upper() for f in fruits] # converts all to upper case\n",
    "print(\"Fruits all caps:\", fruitsCaps)\n",
    "\n",
    "onlyBanana = [\"banana\" for f in fruits] # banana x len(fruits)\n",
    "print(\"Fruits only banana:\", onlyBanana)\n",
    "\n",
    "replaceAppleWithOrange = [f if f != 'apple' else 'orange' for f in fruits]\n",
    "print(\"Replaced Apple with Orange:\", replaceAppleWithOrange)\n",
    "\n",
    "genList = [x for x in range(10) if x > 5] # generates a new list\n",
    "print(\"Generated List:\", genList)\n",
    "\n",
    "noApple = [f for f in fruits if f != \"apple\"]\n",
    "print(\"I don't like Apples:\", noApple)"
   ]
  },
  {
   "cell_type": "markdown",
   "id": "c10b0fae",
   "metadata": {},
   "source": [
    "#### Nested Comprehensions\n",
    "\n",
    "[This is a HackerRank Problem](https://www.hackerrank.com/challenges/list-comprehensions/problem?isFullScreen=true)\n"
   ]
  },
  {
   "cell_type": "code",
   "execution_count": 2,
   "id": "789b7336",
   "metadata": {},
   "outputs": [
    {
     "name": "stdout",
     "output_type": "stream",
     "text": [
      "[[0, 0, 0], [0, 0, 1], [0, 0, 2], [0, 1, 0], [0, 1, 1], [0, 2, 0], [0, 2, 2], [1, 0, 0], [1, 0, 1], [1, 1, 0], [1, 1, 2], [1, 2, 1], [1, 2, 2], [2, 0, 0], [2, 0, 2], [2, 1, 1], [2, 1, 2], [2, 2, 0], [2, 2, 1], [2, 2, 2]]\n"
     ]
    }
   ],
   "source": [
    "# print all the co-ordinates combinations such that i <= x, j <= y, k <= z where (i + j + k) ! = n\n",
    "\n",
    "x = 2\n",
    "y = 2\n",
    "z = 2\n",
    "n = 3\n",
    "\n",
    "coords: list[list[int]] = [[i, j, k] for i in range(x+1) for j in range(y+1) for k in range(z+1) if (i+j+k) != n]\n",
    "print(coords)"
   ]
  },
  {
   "cell_type": "markdown",
   "id": "1565a48a",
   "metadata": {},
   "source": [
    "#### Any Function\n"
   ]
  },
  {
   "cell_type": "code",
   "execution_count": 5,
   "id": "e321c575",
   "metadata": {},
   "outputs": [
    {
     "name": "stdout",
     "output_type": "stream",
     "text": [
      "False\n",
      "True\n"
     ]
    }
   ],
   "source": [
    "noUppercase = \"hello\"\n",
    "uppercase = \"heLLo\"\n",
    "\n",
    "hasUppercase = any([c.isupper() for c in noUppercase])  # converts the string into a list of boolean based on isUppercase\n",
    "print(hasUppercase)\n",
    "\n",
    "hasUppercase = any([c.isupper() for c in uppercase])\n",
    "print(hasUppercase)"
   ]
  },
  {
   "cell_type": "markdown",
   "id": "830c92b2-dade-4c9e-ae36-083e353c75c4",
   "metadata": {
    "jp-MarkdownHeadingCollapsed": true
   },
   "source": [
    "## Tuples\n",
    "\n",
    "[Nothing Fancy, check here](https://www.w3schools.com/python/python_tuples.asp)\n"
   ]
  },
  {
   "cell_type": "code",
   "execution_count": 26,
   "id": "1dcacab7-37d2-497d-a882-221e439a3a47",
   "metadata": {},
   "outputs": [
    {
     "name": "stdout",
     "output_type": "stream",
     "text": [
      "('apple', 'banana', 'cherry')\n",
      "3\n",
      "cherry\n",
      "('apple', 'banana', 'orange')\n",
      "apple banana cherry\n"
     ]
    }
   ],
   "source": [
    "# tuples are immutable\n",
    "\n",
    "fruits = (\"apple\", \"banana\", \"cherry\")\n",
    "print(fruits)\n",
    "\n",
    "print(len(fruits))\n",
    "\n",
    "# to update a value first convert it into a list\n",
    "print(fruits[2])\n",
    "newFruits = list(fruits)\n",
    "newFruits[2] = \"orange\"\n",
    "print(tuple(newFruits))\n",
    "\n",
    "# unpacking\n",
    "(red, yellow, pink) = fruits # unpacks and assign -> you must unpack all the values\n",
    "print(red, yellow, pink)"
   ]
  },
  {
   "cell_type": "code",
   "execution_count": 32,
   "id": "9a484f1e-1759-4ed5-9cb8-07ff5fe88841",
   "metadata": {},
   "outputs": [
    {
     "name": "stdout",
     "output_type": "stream",
     "text": [
      "apple\n",
      "banana\n",
      "cherry\n"
     ]
    }
   ],
   "source": [
    "# loop tuples\n",
    "for f in fruits:\n",
    "    print(f)"
   ]
  },
  {
   "cell_type": "code",
   "execution_count": 34,
   "id": "4f299ca2-5bd7-4358-824f-1133e8f5ec52",
   "metadata": {},
   "outputs": [
    {
     "name": "stdout",
     "output_type": "stream",
     "text": [
      "('ojas', 'ayush', 'tiwari', 1, 3, 4)\n"
     ]
    }
   ],
   "source": [
    "# join tuples\n",
    "names = (\"ojas\", \"ayush\", \"tiwari\")\n",
    "numbs = (1, 3, 4)\n",
    "\n",
    "print(names + numbs)"
   ]
  },
  {
   "cell_type": "code",
   "execution_count": 36,
   "id": "9abe872a-540a-43d3-8b1d-cd32f3d41fb2",
   "metadata": {},
   "outputs": [
    {
     "name": "stdout",
     "output_type": "stream",
     "text": [
      "4\n",
      "2\n"
     ]
    }
   ],
   "source": [
    "# methods\n",
    "\n",
    "nums = (1, 1, 4, 5, 3, 1, 4, 1, 8)\n",
    "\n",
    "print(nums.count(1)) # count the number of occurrences of 1\n",
    "\n",
    "print(nums.index(4)) # returns the first index of 4"
   ]
  },
  {
   "cell_type": "markdown",
   "id": "53a21578-a087-4db8-8faa-f0c9d613756b",
   "metadata": {
    "jp-MarkdownHeadingCollapsed": true
   },
   "source": [
    "## Sets\n",
    "\n",
    "[Check out sets here](https://www.w3schools.com/python/python_sets.asp)\n"
   ]
  },
  {
   "cell_type": "markdown",
   "id": "b11a8e03-d2f6-472f-a273-2f20f0be7230",
   "metadata": {
    "jp-MarkdownHeadingCollapsed": true
   },
   "source": [
    "### Set Operations\n"
   ]
  },
  {
   "cell_type": "code",
   "execution_count": 79,
   "id": "d3cda8ed-4a5a-46c5-a443-c135dc329a5b",
   "metadata": {},
   "outputs": [
    {
     "name": "stdout",
     "output_type": "stream",
     "text": [
      "{1, 2, 4, 5, 6, 9}\n",
      "{1, 2, 4, 5, 6}\n",
      "{False, True, 'cherry', 'apple', 'banana'}\n"
     ]
    }
   ],
   "source": [
    "# sets are unordered, you won't know in which order the item would appear\n",
    "\n",
    "nums = {4, 5, 6, 1, 1, 2, 2, 6, 9, 2}\n",
    "print(nums) # only unique values are stored\n",
    "\n",
    "numList = [4, 5, 2, 6, 2 ,2 ,1, 5, 6]\n",
    "nums = set(numList) # construct a set from a list\n",
    "print(nums)\n",
    "\n",
    "misc = {\"apple\", \"banana\", \"cherry\", False, True, 0} # False and 0 are considered same so only False is there\n",
    "print(misc)"
   ]
  },
  {
   "cell_type": "code",
   "execution_count": 55,
   "id": "576093d2-7d4d-4cfe-b86b-18fc6dbc7257",
   "metadata": {},
   "outputs": [
    {
     "name": "stdout",
     "output_type": "stream",
     "text": [
      "{1, 2, 4, 5, 6, 7}\n",
      "{0, 1, 2, 4, 5, 6, 7, 9}\n",
      "{0, 1, 2, 4, 5, 6, 7}\n",
      "{1, 2, 4, 5, 6, 7}\n"
     ]
    }
   ],
   "source": [
    "# sets are immutable, individual elements can't be accessed\n",
    "\n",
    "nums.add(7) # adds one element to the set\n",
    "print(nums)\n",
    "\n",
    "nums.update([5, 2, 5, 4, 9, 0]) # update the set with multiple numbers\n",
    "print(nums)\n",
    "\n",
    "nums.discard(9) # remove 9 from the set\n",
    "print(nums)\n",
    "\n",
    "nums.pop() # removes a random element from the set\n",
    "print(nums)\n"
   ]
  },
  {
   "cell_type": "code",
   "execution_count": 56,
   "id": "db75c07c-f5b1-46e6-a1a7-a5ad9c22ba2e",
   "metadata": {},
   "outputs": [
    {
     "name": "stdout",
     "output_type": "stream",
     "text": [
      "1\n",
      "2\n",
      "4\n",
      "5\n",
      "6\n",
      "7\n"
     ]
    }
   ],
   "source": [
    "# print individual elements\n",
    "\n",
    "for el in nums:\n",
    "    print(el)"
   ]
  },
  {
   "cell_type": "markdown",
   "id": "d2147711-4950-4484-9439-c05093c274d3",
   "metadata": {
    "jp-MarkdownHeadingCollapsed": true
   },
   "source": [
    "### Set Methods\n"
   ]
  },
  {
   "cell_type": "code",
   "execution_count": 58,
   "id": "ddd5c3d9-ce8d-4445-90dd-f95f1c081921",
   "metadata": {},
   "outputs": [
    {
     "name": "stdout",
     "output_type": "stream",
     "text": [
      "{0, 2, 4, 5, 7, 8, 9}\n",
      "{0, 2, 4, 5, 6, 7, 8, 9}\n",
      "{0, 2, 4, 5, 7, 8, 9}\n",
      "{0, 2, 4, 5, 7, 8, 9}\n",
      "{0, 2, 4, 5, 7, 8}\n"
     ]
    }
   ],
   "source": [
    "nums = set([4, 5, 7, 2, 2, 2, 2, 7, 8, 9, 0])\n",
    "print(nums)\n",
    "\n",
    "nums.add(6) # add a number\n",
    "print(nums)\n",
    "\n",
    "nums.discard(6) # removes a number\n",
    "print(nums)\n",
    "\n",
    "nums2 = nums.copy() # returns a copy of the set\n",
    "print(nums2)\n",
    "\n",
    "nums.remove(9) # removes the number from the set\n",
    "print(nums)"
   ]
  },
  {
   "cell_type": "code",
   "execution_count": 68,
   "id": "3cfb703b-287e-48d4-8083-83336ed9cc90",
   "metadata": {},
   "outputs": [
    {
     "name": "stdout",
     "output_type": "stream",
     "text": [
      "{1, 2, 3, 5, 6, 7, 8, 9}\n",
      "{1, 3, 5, 7}\n",
      "{1, 3, 5, 7}\n",
      "{9, 6}\n",
      "{6, 9}\n"
     ]
    }
   ],
   "source": [
    "nums1 = {1, 3, 5, 7, 9, 6}\n",
    "nums2 = {1, 2, 3, 5, 7, 8}\n",
    "\n",
    "uni = nums2.union(nums1) # union of two sets\n",
    "print(uni)\n",
    "\n",
    "ins = nums2.intersection(nums1) # intersection of two sets\n",
    "print(ins)\n",
    "\n",
    "nums1.intersection_update(nums2) # intersection of two sets, updates the same set and returns nothing\n",
    "print(nums1)\n",
    "\n",
    "nums1 = {1, 3, 5, 7, 9, 6}\n",
    "\n",
    "dif = nums1.difference(nums2) # difference of two sets ---> discards the extra elements in the second set | returns a new set\n",
    "print(dif)\n",
    "\n",
    "nums1.difference_update(nums2) # difference of two sets, updates the same set and returns nothing\n",
    "print(nums1)"
   ]
  },
  {
   "cell_type": "code",
   "execution_count": 74,
   "id": "86ccf4e0-9dd5-496b-96c1-5a476903a2ff",
   "metadata": {},
   "outputs": [
    {
     "name": "stdout",
     "output_type": "stream",
     "text": [
      "True\n",
      "False\n",
      "True\n"
     ]
    }
   ],
   "source": [
    "a = {'hello', 'world', 1, 2}\n",
    "b = {1, 2}\n",
    "c = {3, 4}\n",
    "\n",
    "print(c.isdisjoint(b)) # mutually exclusive?\n",
    "print(a.issubset(b)) # is a subset of b?\n",
    "print(a.issuperset(b)) # is a superset of b?"
   ]
  },
  {
   "cell_type": "code",
   "execution_count": 77,
   "id": "baa0f0d5-ceda-43e9-9116-4c4a792ecb73",
   "metadata": {},
   "outputs": [
    {
     "name": "stdout",
     "output_type": "stream",
     "text": [
      "{3, 4, 'hello', 'world'}\n",
      "{3, 4, 'hello', 'world'}\n"
     ]
    }
   ],
   "source": [
    "a = {'hello', 'world', 1, 2}\n",
    "b = {1, 2, 3, 4}\n",
    "\n",
    "symdif = a.symmetric_difference(b) # elements from both set not present in each other (A union B) - (A intersection B)\n",
    "print(symdif)\n",
    "\n",
    "a.symmetric_difference_update(b) # inplace symmetric difference\n",
    "print(a)"
   ]
  },
  {
   "cell_type": "markdown",
   "id": "b98dbc67-e4a3-4bb0-a229-6ece09dcafbb",
   "metadata": {},
   "source": [
    "### Set Deletion\n"
   ]
  },
  {
   "cell_type": "code",
   "execution_count": 80,
   "id": "b576e7b1-81dd-4162-bed3-a358f63fb97c",
   "metadata": {},
   "outputs": [
    {
     "name": "stdout",
     "output_type": "stream",
     "text": [
      "set()\n"
     ]
    }
   ],
   "source": [
    "nums.clear() # clears the set\n",
    "print(nums)\n",
    "\n",
    "del nums # deletes the set from the memory"
   ]
  },
  {
   "cell_type": "markdown",
   "id": "8c86367e-264a-4b3f-82a6-ff40868d8b8e",
   "metadata": {
    "jp-MarkdownHeadingCollapsed": true
   },
   "source": [
    "## Dictionary (Map)\n",
    "\n",
    "[Checkout Dictionary Here](https://www.w3schools.com/python/python_dictionaries_methods.asp)\n"
   ]
  },
  {
   "cell_type": "markdown",
   "id": "8c41d8c6-0479-4874-a75c-a0382970b526",
   "metadata": {},
   "source": [
    "### Dictionary Operations\n"
   ]
  },
  {
   "cell_type": "code",
   "execution_count": 13,
   "id": "ce723fac-e1c3-4d18-a336-9abfea596548",
   "metadata": {},
   "outputs": [
    {
     "name": "stdout",
     "output_type": "stream",
     "text": [
      "{'brand': 'Ford', 'model': 'Mustang', 'year': 2020}\n"
     ]
    }
   ],
   "source": [
    "car = { \n",
    "  \"brand\": \"Ford\",\n",
    "  \"model\": \"Mustang\",\n",
    "  \"year\": 1964,\n",
    "  \"year\": 2020 # only unique values are allowed\n",
    "}\n",
    "print(car)"
   ]
  },
  {
   "cell_type": "code",
   "execution_count": 14,
   "id": "2678f476-ccd6-4c02-a99a-aa6533dea91f",
   "metadata": {},
   "outputs": [
    {
     "name": "stdout",
     "output_type": "stream",
     "text": [
      "Ford\n",
      "Ford\n"
     ]
    }
   ],
   "source": [
    "# access items\n",
    "\n",
    "print(car['brand'])\n",
    "print(car.get('brand'))"
   ]
  },
  {
   "cell_type": "code",
   "execution_count": 15,
   "id": "51a505a9-6a6e-4b26-a8fa-9d65c1198842",
   "metadata": {},
   "outputs": [
    {
     "name": "stdout",
     "output_type": "stream",
     "text": [
      "{'brand': 'Mercedes', 'model': 'Mustang', 'year': 2020}\n",
      "{'brand': 'Mercedes', 'model': 'Mustang', 'year': 2020, 'color': 'Red'}\n",
      "{'brand': 'Mercedes', 'model': 'Mustang', 'year': 2020, 'color': 'Red', 'country': 'Germany', 'body': 'Carbon Fiber'}\n",
      "{'brand': 'Mercedes', 'model': 'Mustang', 'year': 2020, 'color': 'Red', 'country': 'Germany'}\n",
      "{'brand': 'Mercedes', 'model': 'Mustang', 'year': 2020, 'color': 'Red'}\n"
     ]
    }
   ],
   "source": [
    "# update item\n",
    "car['brand'] = \"Mercedes\"\n",
    "print(car)\n",
    "\n",
    "# add item\n",
    "car['color'] = \"Red\"\n",
    "print(car)\n",
    "\n",
    "# add multiple\n",
    "car.update({\n",
    "    \"country\": \"Germany\",\n",
    "    \"body\": \"Carbon Fiber\"\n",
    "})\n",
    "print(car)\n",
    "\n",
    "# remove item\n",
    "car.pop('body')\n",
    "print(car)\n",
    "\n",
    "# popItem will remove the last added item\n",
    "car.popitem()\n",
    "print(car)"
   ]
  },
  {
   "cell_type": "code",
   "execution_count": 29,
   "id": "d9ed1ea1-609b-471d-b745-a51d2f20dfdc",
   "metadata": {},
   "outputs": [
    {
     "name": "stdout",
     "output_type": "stream",
     "text": [
      "brand Mercedes\n",
      "model Mustang\n",
      "year 2020\n",
      "color Red\n",
      "================\n",
      "brand Mercedes\n",
      "model Mustang\n",
      "year 2020\n",
      "color Red\n"
     ]
    }
   ],
   "source": [
    "# looping items\n",
    "for key in car:\n",
    "    print(key, car[key])\n",
    "    \n",
    "print(\"================\")\n",
    "\n",
    "for key, value in car.items():\n",
    "    print(key, value)"
   ]
  },
  {
   "cell_type": "code",
   "execution_count": 25,
   "id": "48afd3c7-298b-4e75-83c9-ef389768ea3e",
   "metadata": {},
   "outputs": [
    {
     "name": "stdout",
     "output_type": "stream",
     "text": [
      "dict_keys(['brand', 'model', 'year', 'color'])\n",
      "['brand', 'model', 'year', 'color']\n",
      "============================================================\n",
      "dict_values(['Mercedes', 'Mustang', 2020, 'Red'])\n",
      "['Mercedes', 'Mustang', 2020, 'Red']\n",
      "============================================================\n",
      "dict_items([('brand', 'Mercedes'), ('model', 'Mustang'), ('year', 2020), ('color', 'Red')])\n",
      "[('brand', 'Mercedes'), ('model', 'Mustang'), ('year', 2020), ('color', 'Red')]\n"
     ]
    }
   ],
   "source": [
    "# get all the keys and values\n",
    "\n",
    "print(car.keys())\n",
    "print(list(car.keys()))\n",
    "\n",
    "print(\"============================================================\")\n",
    "\n",
    "print(car.values())\n",
    "print(list(car.values()))\n",
    "\n",
    "print(\"============================================================\")\n",
    "\n",
    "print(car.items()) # returns a list with tuples\n",
    "print(list(car.items())) # returns a list with tuples"
   ]
  },
  {
   "cell_type": "code",
   "execution_count": 40,
   "id": "1245da76-37dc-4ba6-b821-5b97ef26b2b3",
   "metadata": {},
   "outputs": [
    {
     "name": "stdout",
     "output_type": "stream",
     "text": [
      "{'brand': 'Mercedes', 'model': 'Mustang', 'year': 2020, 'color': 'Red'}\n",
      "{'brand': 'Ford', 'model': 'Mustang', 'year': 2020, 'color': 'Red'}\n",
      "{'brand': 'Chevrolet', 'model': 'Camaro', 'year': 2020, 'color': 'Red'}\n"
     ]
    }
   ],
   "source": [
    "# copy dictionary\n",
    "\n",
    "car2 = car.copy() # deep copy\n",
    "car2['brand']= \"Ford\"\n",
    "print(car)\n",
    "print(car2)\n",
    "\n",
    "car3 = dict(car) # deep copy\n",
    "car3['brand'] = \"Chevrolet\"\n",
    "car3['model'] = \"Camaro\"\n",
    "print(car3)"
   ]
  },
  {
   "cell_type": "markdown",
   "id": "e2fb8e4d-dd3a-470b-82e5-b91cbf51181e",
   "metadata": {},
   "source": [
    "### Dictionary Methods\n"
   ]
  },
  {
   "cell_type": "code",
   "execution_count": 47,
   "id": "58548663-779f-4044-8fd7-f0a52dfa2e50",
   "metadata": {},
   "outputs": [
    {
     "name": "stdout",
     "output_type": "stream",
     "text": [
      "{'make': 0, 'model': 0, 'year': 0}\n",
      "{'make': ('Lamborghini', 'Aventador', 1966), 'model': ('Lamborghini', 'Aventador', 1966), 'year': ('Lamborghini', 'Aventador', 1966)}\n"
     ]
    }
   ],
   "source": [
    "# create dictionary from keys\n",
    "keys = ('make', 'model', 'year')\n",
    "value = 0\n",
    "car = dict.fromkeys(keys, value)\n",
    "print(car)\n",
    "\n",
    "values = ('Lamborghini', 'Aventador', 1966) # won't work as expected, will assign this tuple to all keys\n",
    "lambo = dict.fromkeys(keys, values)\n",
    "print(lambo)"
   ]
  },
  {
   "cell_type": "code",
   "execution_count": 49,
   "id": "a2378f9c-63e9-4bb2-9e3f-ecc05f21f4ed",
   "metadata": {},
   "outputs": [
    {
     "name": "stdout",
     "output_type": "stream",
     "text": [
      "Red\n",
      "{'brand': 'Ferrari', 'color': 'Red', 'country': 'Italy'}\n"
     ]
    }
   ],
   "source": [
    "# setdefault\n",
    "\n",
    "car = {\n",
    "    \"brand\": \"Ferrari\",\n",
    "    \"color\": \"Red\"\n",
    "}\n",
    "\n",
    "color = car.setdefault(\"color\", \"Green\") # key already present then returns the value\n",
    "print(color)\n",
    "\n",
    "car.setdefault(\"country\", \"Italy\") # key not present then set the key with the value\n",
    "print(car)"
   ]
  },
  {
   "cell_type": "markdown",
   "id": "dad5ad7e-1922-462f-a38f-972ee127bc75",
   "metadata": {
    "jp-MarkdownHeadingCollapsed": true
   },
   "source": [
    "### Clear and Delete\n"
   ]
  },
  {
   "cell_type": "code",
   "execution_count": 12,
   "id": "9950d833-8d10-423f-8269-58d8d155391a",
   "metadata": {},
   "outputs": [
    {
     "name": "stdout",
     "output_type": "stream",
     "text": [
      "{}\n"
     ]
    }
   ],
   "source": [
    "# clear the dictionary\n",
    "car.clear()\n",
    "print(car)\n",
    "\n",
    "# deletes form memory\n",
    "del car "
   ]
  },
  {
   "cell_type": "markdown",
   "id": "0a13e430",
   "metadata": {},
   "source": [
    "## Slicing\n",
    "Applicable to Lists, Strings, Tuples, etc"
   ]
  },
  {
   "cell_type": "markdown",
   "id": "8e0061e5",
   "metadata": {},
   "source": [
    "### 1D Slicing"
   ]
  },
  {
   "cell_type": "code",
   "execution_count": 3,
   "id": "7027d13a",
   "metadata": {},
   "outputs": [
    {
     "name": "stdout",
     "output_type": "stream",
     "text": [
      "['0', '1', '2', '3', '4', '5', '6', '7', '8', '9']\n"
     ]
    }
   ],
   "source": [
    "ls: list[int] = list(\"0123456789\")\n",
    "print(ls)"
   ]
  },
  {
   "cell_type": "code",
   "execution_count": 6,
   "id": "a26b674e",
   "metadata": {},
   "outputs": [
    {
     "name": "stdout",
     "output_type": "stream",
     "text": [
      "['4', '5', '6', '7', '8']\n",
      "['4', '6', '8']\n",
      "['9', '8', '7', '6', '5']\n"
     ]
    }
   ],
   "source": [
    "# slice syntax = start, end (not included), step\n",
    "\n",
    "print(ls[4: 9])  # start, end(not included)\n",
    "\n",
    "print(ls[4: 9: 2]) # start, end, step every other element\n",
    "\n",
    "print(ls[9: 4: -1]) # start, end(not included) -1 means reverse"
   ]
  },
  {
   "cell_type": "markdown",
   "id": "95883ed4",
   "metadata": {},
   "source": [
    "### nD Slicing\n",
    "nD Slicing is not possible, use careful List Comprehensions with 1D slicing"
   ]
  },
  {
   "cell_type": "code",
   "execution_count": 14,
   "id": "f66d6271",
   "metadata": {},
   "outputs": [
    {
     "name": "stdout",
     "output_type": "stream",
     "text": [
      "[[0, 1, 2, 10, 20, 30], [3, 4, 5, 30, 40, 50], [6, 7, 8, 60, 70, 80], [11, 22, 33, 44, 55, 66]]\n"
     ]
    }
   ],
   "source": [
    "ls = [[0, 1, 2, 10, 20, 30], [3, 4, 5, 30, 40, 50], [6, 7, 8, 60, 70, 80], [11, 22, 33, 44, 55, 66]] # 2D list\n",
    "print(ls)"
   ]
  },
  {
   "cell_type": "code",
   "execution_count": 24,
   "id": "289e1eed",
   "metadata": {},
   "outputs": [
    {
     "name": "stdout",
     "output_type": "stream",
     "text": [
      "[[30, 20, 10], [50, 40, 30], [80, 70, 60], [66, 55, 44]]\n"
     ]
    }
   ],
   "source": [
    "newls = [x[5: 2: -1] for x in ls]\n",
    "print(newls)"
   ]
  }
 ],
 "metadata": {
  "kernelspec": {
   "display_name": "Python 3 (ipykernel)",
   "language": "python",
   "name": "python3"
  },
  "language_info": {
   "codemirror_mode": {
    "name": "ipython",
    "version": 3
   },
   "file_extension": ".py",
   "mimetype": "text/x-python",
   "name": "python",
   "nbconvert_exporter": "python",
   "pygments_lexer": "ipython3",
   "version": "3.12.1"
  }
 },
 "nbformat": 4,
 "nbformat_minor": 5
}
