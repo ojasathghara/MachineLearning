{
 "cells": [
  {
   "cell_type": "markdown",
   "id": "c87aeb33",
   "metadata": {},
   "source": [
    "# Class Definition\n"
   ]
  },
  {
   "cell_type": "code",
   "execution_count": 1,
   "id": "efc01df6",
   "metadata": {},
   "outputs": [],
   "source": [
    "# define a class and use the class as the type itself\n",
    "class TodoItem:\n",
    "    __counter: int = 0 # static variable and \"__\" for private\n",
    "\n",
    "    def __init__(self, title: str = \"\", description: str = \"\") -> None:\n",
    "        self.id: int = TodoItem.__counter\n",
    "        self.title: str = title\n",
    "        self.description: str = description\n",
    "        self.done: bool = False\n",
    "\n",
    "        TodoItem.__counter += 1\n",
    "\n",
    "    "
   ]
  },
  {
   "cell_type": "markdown",
   "id": "6990e239",
   "metadata": {},
   "source": [
    "# Creating Objects\n"
   ]
  },
  {
   "cell_type": "code",
   "execution_count": 18,
   "id": "5109d03c",
   "metadata": {},
   "outputs": [
    {
     "name": "stdout",
     "output_type": "stream",
     "text": [
      "2 Laundry I need to get laundry <class '__main__.TodoItem'>\n",
      "3 Food I need to get food <class '__main__.TodoItem'>\n",
      "Laundry True\n"
     ]
    }
   ],
   "source": [
    "todo1 = TodoItem(\"Laundry\", \"I need to get laundry\")\n",
    "print(todo1.id, todo1.title, todo1.description, type(todo1))\n",
    "\n",
    "todo2 = TodoItem(\"Food\", \"I need to get food\")\n",
    "print(todo2.id, todo2.title, todo2.description, type(todo2))\n",
    "\n",
    "# using functions with types\n",
    "def markAsCompleted(todo: TodoItem) -> None:\n",
    "    todo.done = True\n",
    "\n",
    "markAsCompleted(todo1)\n",
    "print(todo1.title, todo1.done)"
   ]
  },
  {
   "cell_type": "markdown",
   "id": "689112e8",
   "metadata": {},
   "source": [
    "# Different types of methods\n",
    "\n",
    "1. Dunder/Magic/Special methods: **init** or **str**\n",
    "2. Instance Methods: Methods that should be called via objects.\n",
    "3. Static Methods: Methods that should be called by class.\n",
    "4. Magic Methods: Static methods but first parameter is 'cls' - a reference to the Class itself.\n"
   ]
  },
  {
   "cell_type": "code",
   "execution_count": 24,
   "id": "2cbfb56c",
   "metadata": {},
   "outputs": [
    {
     "name": "stdout",
     "output_type": "stream",
     "text": [
      "My name is ojas and age is 25.\n",
      "My name is tiwari and age is 25.\n",
      "My name is ojas and age is 25.\n",
      "2\n",
      "2\n",
      "Name: tiwari and age: 25.\n"
     ]
    }
   ],
   "source": [
    "# Static and class methods are the same. Just differentiated by traditions of other programming languages.\n",
    "\n",
    "class Employee:\n",
    "    __counter = 0   # static variable\n",
    "\n",
    "    def __init__(self, name: str, age: int):\n",
    "        self.name: str = name\n",
    "        self.age: int = age\n",
    "\n",
    "        Employee.__counter += 1\n",
    "\n",
    "    @classmethod\n",
    "    def copy(cls, emp: 'Employee'):  # takes cls - clasObject (Class name itself) as a parameter.\n",
    "        e = cls(emp.name, emp.age)  # cls is nothing but a reference to the Employee class\n",
    "        return e\n",
    "    \n",
    "    @classmethod\n",
    "    def getCount(cls) -> int:\n",
    "        return cls.__counter\n",
    "    \n",
    "    @staticmethod   # satic method and class method are same.\n",
    "    def getCounter() -> int:\n",
    "        return Employee.__counter\n",
    "    \n",
    "    def printDetails(self) -> None:  # normal object methods\n",
    "        print(f\"My name is {self.name} and age is {self.age}.\")\n",
    "\n",
    "    def __str__(self) -> str: # return type str is necessary\n",
    "        # a special function to print object like string as we want to\n",
    "        return f\"Name: {self.name} and age: {self.age}.\"\n",
    "\n",
    "\n",
    "emp1 = Employee(\"ojas\", 25)\n",
    "emp1.printDetails()\n",
    "\n",
    "emp2 = Employee.copy(emp1)\n",
    "emp2.name = \"tiwari\"\n",
    "emp2.printDetails()\n",
    "emp1.printDetails()\n",
    "\n",
    "print(Employee.getCount())\n",
    "print(Employee.getCounter())\n",
    "\n",
    "print(emp2) # demonstrate the use of __str__"
   ]
  },
  {
   "cell_type": "markdown",
   "id": "eaf8a891",
   "metadata": {},
   "source": [
    "# Method Overloading\n",
    "\n",
    "UnionTypes can be defined in two ways:\n",
    "\n",
    "1. Use Union from typings ---> Union[int, CustomType]\n",
    "2. Using | with '' ---> 'int | Coin'\n",
    "\n",
    "Both have different Pylance bugs\n"
   ]
  },
  {
   "cell_type": "code",
   "execution_count": 2,
   "id": "b3f23553",
   "metadata": {},
   "outputs": [
    {
     "name": "stdout",
     "output_type": "stream",
     "text": [
      "I am 5 Rupees coin and I have 12 coins!\n",
      "I am 5 Rupees coin and I have 20 coins!\n"
     ]
    },
    {
     "ename": "TypeError",
     "evalue": "The count parameter must be of type int or Coin",
     "output_type": "error",
     "traceback": [
      "\u001b[1;31m---------------------------------------------------------------------------\u001b[0m",
      "\u001b[1;31mTypeError\u001b[0m                                 Traceback (most recent call last)",
      "Cell \u001b[1;32mIn[2], line 37\u001b[0m\n\u001b[0;32m     34\u001b[0m c1\u001b[38;5;241m.\u001b[39maddCoins(c2) \u001b[38;5;66;03m# Throws the error, means overloading is working fine\u001b[39;00m\n\u001b[0;32m     35\u001b[0m \u001b[38;5;28mprint\u001b[39m(c1)\n\u001b[1;32m---> 37\u001b[0m \u001b[43mc1\u001b[49m\u001b[38;5;241;43m.\u001b[39;49m\u001b[43maddCoins\u001b[49m\u001b[43m(\u001b[49m\u001b[38;5;124;43m'\u001b[39;49m\u001b[38;5;124;43madd coins\u001b[39;49m\u001b[38;5;124;43m'\u001b[39;49m\u001b[43m)\u001b[49m \u001b[38;5;66;03m# Throws the error, means overloading is working fine\u001b[39;00m\n",
      "Cell \u001b[1;32mIn[2], line 23\u001b[0m, in \u001b[0;36mCoin.addCoins\u001b[1;34m(self, count)\u001b[0m\n\u001b[0;32m     21\u001b[0m     \u001b[38;5;28mself\u001b[39m\u001b[38;5;241m.\u001b[39mcount \u001b[38;5;241m+\u001b[39m\u001b[38;5;241m=\u001b[39m count\u001b[38;5;241m.\u001b[39mcount\n\u001b[0;32m     22\u001b[0m \u001b[38;5;28;01melse\u001b[39;00m:\n\u001b[1;32m---> 23\u001b[0m     \u001b[38;5;28;01mraise\u001b[39;00m \u001b[38;5;167;01mTypeError\u001b[39;00m(\u001b[38;5;124m\"\u001b[39m\u001b[38;5;124mThe count parameter must be of type int or Coin\u001b[39m\u001b[38;5;124m\"\u001b[39m)\n",
      "\u001b[1;31mTypeError\u001b[0m: The count parameter must be of type int or Coin"
     ]
    }
   ],
   "source": [
    "from typing import overload\n",
    "\n",
    "\n",
    "class Coin:\n",
    "    def __init__(self, title: str, count: int):\n",
    "        self.title: str = title\n",
    "        self.count: int = count\n",
    "\n",
    "    @overload\n",
    "    def addCoins(self, count: int) -> None:\n",
    "        ...\n",
    "    \n",
    "    @overload\n",
    "    def addCoins(self, count: \"Coin\" ) -> None:\n",
    "        ...\n",
    "\n",
    "    def addCoins(self, count: 'int | Coin') -> None: # 'Coin' not defined is a Pylance bug and can be ignored\n",
    "        if isinstance(count, int):\n",
    "            self.count += count\n",
    "        elif isinstance(count, Coin): # Pylance bug, ignore\n",
    "            self.count += count.count\n",
    "        else:\n",
    "            raise TypeError(\"The count parameter must be of type int or Coin\")\n",
    "        \n",
    "    def __str__(self) -> str: \n",
    "       return f\"I am {self.title} coin and I have {self.count} coins!\"\n",
    "\n",
    "c1 = Coin(\"5 Rupees\", 5)\n",
    "c2 = Coin(\"7 Rupees\", 8)\n",
    "\n",
    "c1.addCoins(7)\n",
    "print(c1)\n",
    "\n",
    "c1.addCoins(c2) # Throws the error, means overloading is working fine\n",
    "print(c1)\n",
    "\n",
    "c1.addCoins('add coins') # Throws the error, means overloading is working fine\n"
   ]
  },
  {
   "cell_type": "markdown",
   "id": "1e896c9c",
   "metadata": {},
   "source": [
    "# Inheritance\n"
   ]
  },
  {
   "cell_type": "markdown",
   "id": "f2ec8497",
   "metadata": {},
   "source": [
    "## Basic Inheritance and Method Overriding\n"
   ]
  },
  {
   "cell_type": "code",
   "execution_count": 37,
   "id": "2106497d",
   "metadata": {},
   "outputs": [],
   "source": [
    "# create a parent class\n",
    "\n",
    "class Person:\n",
    "    def __init__(self, name: str, age: int) -> None:\n",
    "        self.name: str = name\n",
    "        self.age: int = age\n",
    "\n",
    "    def __str__(self) -> str:\n",
    "        return f\"Name: {self.name}, Age: {self.age}\"\n",
    "\n",
    "    # create a method to override\n",
    "    def introduce(self) -> None:\n",
    "        print(f\"My name is {self.name} and I am {self.age} years old.\")\n"
   ]
  },
  {
   "cell_type": "code",
   "execution_count": 45,
   "id": "7a864471",
   "metadata": {},
   "outputs": [
    {
     "name": "stdout",
     "output_type": "stream",
     "text": [
      "My name is ojas and my roll number is 54\n",
      "Name: ojas, Age: 24\n"
     ]
    }
   ],
   "source": [
    "# create inherited class\n",
    "\n",
    "class Student(Person):\n",
    "    def __init__(self, name: str, age: int, roll: int) -> None:\n",
    "        super().__init__(name, age) # call super to construct a parent object first\n",
    "        self.roll: int = roll\n",
    "\n",
    "    def __str__(self) -> str:\n",
    "        return f\"Name: {self.name}, Age: {self.age}\"\n",
    "    \n",
    "    # just define a method with same name\n",
    "    def introduce(self) -> None:\n",
    "        print(f\"My name is {self.name} and my roll number is {self.roll}\")\n",
    "\n",
    "s = Student(\"ojas\", 24, 54)\n",
    "s.introduce()\n",
    "print(s)"
   ]
  },
  {
   "cell_type": "markdown",
   "id": "cdba1508",
   "metadata": {},
   "source": [
    "## Abstract Classes\n",
    "\n",
    "There is no strict rule in python of abstract class. We can make a class Abstract by using 'pass' keyword in the init function. <br/>\n",
    "Remember, unlike other languages, Python allows objects to be created for Abstract Classes. </br>\n",
    "We use the ABC and @abstractmethod decorator to create abstract classes.\n"
   ]
  },
  {
   "cell_type": "code",
   "execution_count": 7,
   "id": "d1827355",
   "metadata": {},
   "outputs": [
    {
     "name": "stdout",
     "output_type": "stream",
     "text": [
      "<class '__main__.Shape'>\n",
      "{size: 5} <class '__main__.Polygon'>\n"
     ]
    }
   ],
   "source": [
    "from abc import ABC, abstractmethod\n",
    "\n",
    "# create a base class\n",
    "\n",
    "class Shape(ABC):\n",
    "    @abstractmethod\n",
    "    def __init__(self) -> None:\n",
    "        pass\n",
    "    \n",
    "    def __str__(self) -> str:\n",
    "        return f\"Abstact Class {type(self)}\"\n",
    "\n",
    "# create an inherited class\n",
    "class Polygon(Shape):\n",
    "    def __init__(self, sides: int) -> None:\n",
    "        super().__init__()\n",
    "        self.sides: int = sides\n",
    "\n",
    "    def __str__(self) -> str:\n",
    "        out: str = \"{{size: {0}}} {1}\"   # positional arguments for formatted strings\n",
    "        return out.format(self.sides, type(self))\n",
    "\n",
    "\n",
    "\n",
    "# create an object\n",
    "# s = Shape() #---> cannot create since init is an abstract method\n",
    "print(Shape)\n",
    "\n",
    "p = Polygon(5);\n",
    "print(p)"
   ]
  },
  {
   "cell_type": "markdown",
   "id": "14d322ed",
   "metadata": {},
   "source": [
    "## Abstract Methods\n",
    "\n",
    "Again in python, there is no concept of Abstract Methods, use the 'pass' keyword to define an abstract method. <br/>\n",
    "However, unlike other languages, the method definition won't be forced in the children class(es). </br>\n",
    "We use the ABC and @abstractmethod decorator to create abstract methods."
   ]
  },
  {
   "cell_type": "code",
   "execution_count": 3,
   "id": "f82f89cf",
   "metadata": {},
   "outputs": [
    {
     "name": "stdout",
     "output_type": "stream",
     "text": [
      "{type: brake, count: 4} <class '__main__.Brake'>\n",
      "4 brakes applied!\n"
     ]
    }
   ],
   "source": [
    "# import abstractMethod decorator\n",
    "from abc import ABC, abstractmethod\n",
    "\n",
    "class Gear(ABC):\n",
    "    def __init__(self, type: str) -> None:\n",
    "        self.type: str = type\n",
    "\n",
    "    @abstractmethod\n",
    "    def apply(self) -> None:    # abstract method not forced in the children objects\n",
    "        pass\n",
    "\n",
    "    def __str__(self) -> str:\n",
    "        out: str = \"{{type: {0}}} {1}\"\n",
    "        return out.format(self.type, type(self))\n",
    "    \n",
    "class Brake(Gear):\n",
    "    def __init__(self, type: str, count: int) -> None:\n",
    "        super().__init__(type)\n",
    "        self.count: int = count\n",
    "\n",
    "    def __str__(self) -> str:\n",
    "        out: str = \"{{type: {0}, count: {1}}} {2}\"\n",
    "        return out.format(self.type, self.count, type(self))\n",
    "    \n",
    "    def apply(self) -> None:\n",
    "        print(f\"{self.count} brakes applied!\")    # defining the abstract method\n",
    "\n",
    "b = Brake(\"brake\", 4)   # this will throw error if apply function is not implemented in the Brake class\n",
    "print(b)\n",
    "b.apply()"
   ]
  },
  {
   "cell_type": "markdown",
   "id": "108b5537",
   "metadata": {},
   "source": [
    "# Operator Overloading"
   ]
  },
  {
   "cell_type": "code",
   "execution_count": 16,
   "id": "87295340",
   "metadata": {},
   "outputs": [
    {
     "name": "stdout",
     "output_type": "stream",
     "text": [
      "{real: 4, img: 5}\n",
      "{real: 2, img: 1}\n",
      "{real: 6, img: 6}\n",
      "False\n"
     ]
    }
   ],
   "source": [
    "import math\n",
    "\n",
    "class Complex:\n",
    "    def __init__(self, real: int, img: int) -> None:\n",
    "        self.real = real\n",
    "        self.img = img\n",
    "\n",
    "    def __str__(self):\n",
    "        out: str = \"{{real: {0}, img: {1}}}\"\n",
    "        return out.format(self.real, self.img)\n",
    "\n",
    "\n",
    "    # Special function to overload add operator\n",
    "    def __add__(self, other):\n",
    "        return Complex(self.real + other.real, self.img + other.img)\n",
    "    \n",
    "    # Special function to overload greater than operator\n",
    "    def __gt__(self, other):\n",
    "        modSelf = math.sqrt(self.real ** 2 + self.img ** 2)\n",
    "        modOther = math.sqrt(other.real ** 2 + other.img ** 2)\n",
    "\n",
    "        return modSelf > modOther\n",
    "    \n",
    "\n",
    "c1 = Complex(4, 5)\n",
    "c2 = Complex(2, 1)\n",
    "\n",
    "print(c1)\n",
    "print(c2)\n",
    "\n",
    "c3 = c1 + c2\n",
    "print(c3)\n",
    "\n",
    "print(c2 > c1)"
   ]
  },
  {
   "cell_type": "markdown",
   "id": "bd0b2dfa",
   "metadata": {},
   "source": [
    "## Footnotes\n",
    "There are several more decorators like 'abstractclassmethod' to define an abstract class method in a base class.</br>\n",
    "Check different types of methods section."
   ]
  }
 ],
 "metadata": {
  "kernelspec": {
   "display_name": "Python 3 (ipykernel)",
   "language": "python",
   "name": "python3"
  },
  "language_info": {
   "codemirror_mode": {
    "name": "ipython",
    "version": 3
   },
   "file_extension": ".py",
   "mimetype": "text/x-python",
   "name": "python",
   "nbconvert_exporter": "python",
   "pygments_lexer": "ipython3",
   "version": "3.12.5"
  }
 },
 "nbformat": 4,
 "nbformat_minor": 5
}
