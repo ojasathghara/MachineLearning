{
 "cells": [
  {
   "cell_type": "markdown",
   "id": "8e3020fa-8483-4b10-9478-ac13e36374ca",
   "metadata": {},
   "source": [
    "# Python Functions\n"
   ]
  },
  {
   "cell_type": "code",
   "execution_count": 3,
   "id": "4856acb4-00e4-46c8-bf2a-ae3a472d227c",
   "metadata": {},
   "outputs": [],
   "source": [
    "# define a function\n",
    "def add(x, y):\n",
    "    return x + y"
   ]
  },
  {
   "cell_type": "code",
   "execution_count": 4,
   "id": "2a4dde45-3459-4150-8c83-1a37486c9bf3",
   "metadata": {},
   "outputs": [
    {
     "name": "stdout",
     "output_type": "stream",
     "text": [
      "9\n"
     ]
    }
   ],
   "source": [
    "# use that function\n",
    "print(add(4, 5))"
   ]
  },
  {
   "cell_type": "markdown",
   "id": "b351adad-a7cb-4d58-bc62-b5e9e7d97a3e",
   "metadata": {},
   "source": [
    "## Function as a Parameter to another function\n"
   ]
  },
  {
   "cell_type": "code",
   "execution_count": 23,
   "id": "3ce01442-caa1-489f-b264-333d9c108d96",
   "metadata": {},
   "outputs": [
    {
     "name": "stdout",
     "output_type": "stream",
     "text": [
      "9\n"
     ]
    }
   ],
   "source": [
    "from typing import Callable\n",
    "\n",
    "TOps = Callable[[int, int], int]\n",
    "\n",
    "def sum(x: int, y:int) -> int:\n",
    "    return x + y\n",
    "\n",
    "def operation(x: int, y: int, ops: TOps) -> int:\n",
    "    return ops(x, y);\n",
    "\n",
    "print(operation(4, 5, sum))"
   ]
  },
  {
   "cell_type": "markdown",
   "id": "a445199e-43d2-4610-8035-acdbddd444fa",
   "metadata": {},
   "source": [
    "## Overloading a function\n"
   ]
  },
  {
   "cell_type": "markdown",
   "id": "7b053dfb-a24e-4706-8956-ad2d2b3320b8",
   "metadata": {},
   "source": [
    "### Overloading Types\n",
    "\n",
    "Python doesn't support overloading of types in a traditional sense so we can use 'overload' and 'annotations'\n"
   ]
  },
  {
   "cell_type": "code",
   "execution_count": 25,
   "id": "a7486bb4-58ab-4dc7-92b0-f705bf11486a",
   "metadata": {},
   "outputs": [],
   "source": [
    "# type overloading using 'overload'\n",
    "from typing import overload\n",
    "\n",
    "# first we declare the overloads\n",
    "@overload\n",
    "def add(x: int, y: int) -> int:\n",
    "    ...\n",
    "    \n",
    "@overload\n",
    "def add(x: str, y: str) -> str:\n",
    "    ...\n",
    "\n",
    "@overload\n",
    "def add(x: str, y: int) -> str:\n",
    "    ...\n",
    "\n",
    "@overload\n",
    "def add(x: int, y: str) -> str:\n",
    "    ...\n",
    "\n",
    "# second we declare the actual function with the overloads\n",
    "def add(x: int | str, y: int | str) -> int | str:\n",
    "    if isinstance(x, int) and isinstance(y, int):\n",
    "        return x + y\n",
    "    elif isinstance(x, str) or isinstance(y, str):\n",
    "        return str(x) + str(y)\n",
    "    else:\n",
    "        raise TypeError(\"Arguments must be of type 'int' or 'str'\")"
   ]
  },
  {
   "cell_type": "code",
   "execution_count": null,
   "id": "96a4d3f4-edb9-44c6-aec2-589daf4263c4",
   "metadata": {},
   "outputs": [
    {
     "name": "stdout",
     "output_type": "stream",
     "text": [
      "Two Numbers: 6\n",
      "Two Strings: hello world\n",
      "A number and a string: 2hello\n"
     ]
    }
   ],
   "source": [
    "print(\"Two Numbers:\", add(2, 4))\n",
    "print(\"Two Strings:\", add(\"hello\", \" world\"))\n",
    "print(\"A number and a string:\", add(2, \"hello\"))"
   ]
  },
  {
   "cell_type": "markdown",
   "id": "c92f2570-7aab-48a3-a5b7-004bcc6f6710",
   "metadata": {},
   "source": [
    "### Overloading Number of Arguments\n"
   ]
  },
  {
   "cell_type": "markdown",
   "id": "04275017",
   "metadata": {},
   "source": [
    "#### Conventional way - using optional arguments\n"
   ]
  },
  {
   "cell_type": "code",
   "execution_count": null,
   "id": "fa97990f",
   "metadata": {},
   "outputs": [
    {
     "name": "stdout",
     "output_type": "stream",
     "text": [
      "a: 5\n",
      "b: 3\n",
      "c: 4\n",
      "12\n",
      "a: 3\n",
      "b: 4\n",
      "c: 0\n",
      "7\n",
      "a: 3\n",
      "b: 0\n",
      "c: 0\n",
      "3\n"
     ]
    }
   ],
   "source": [
    "\n",
    "def addition(a: int = 0, b: int = 0, c: int = 0) -> int:\n",
    "    print(\"a:\", a)\n",
    "    print(\"b:\", b)\n",
    "    print(\"c:\", c)\n",
    "    return a + b + c;\n",
    "    \n",
    "print(addition(b=3, c=4, a=5))  # if specified, will take values from here\n",
    "print(addition(3, 4))   # if not specified, the values will be taken from sequence\n",
    "print(addition(3))"
   ]
  },
  {
   "cell_type": "markdown",
   "id": "7651f187",
   "metadata": {},
   "source": [
    "#### Using args and kwargs - not encouraged unless required\n"
   ]
  },
  {
   "cell_type": "code",
   "execution_count": null,
   "id": "755926b0",
   "metadata": {},
   "outputs": [
    {
     "data": {
      "text/plain": [
       "6"
      ]
     },
     "execution_count": 7,
     "metadata": {},
     "output_type": "execute_result"
    }
   ],
   "source": [
    "# arbitrary arguments ---> use *args\n",
    "\n",
    "def addition(*args: int) -> int:\n",
    "    return sum(args, 0) # args is a tuple of passed arguments\n",
    "\n",
    "addition(1, 2, 3)"
   ]
  },
  {
   "cell_type": "code",
   "execution_count": null,
   "id": "1563fa42",
   "metadata": {},
   "outputs": [
    {
     "name": "stdout",
     "output_type": "stream",
     "text": [
      "Full name: Ojaswi Athghara\n"
     ]
    },
    {
     "data": {
      "text/plain": [
       "15"
      ]
     },
     "execution_count": 9,
     "metadata": {},
     "output_type": "execute_result"
    }
   ],
   "source": [
    "# arbitrary keyword arguments ---> use **kwargs\n",
    "\n",
    "def printFullName(**kwargs: str) -> int:\n",
    "    fullName = kwargs[\"firstName\"] + \" \" + kwargs[\"lastName\"]\n",
    "    print(\"Full name:\", fullName)\n",
    "    return len(fullName)\n",
    "\n",
    "printFullName(firstName=\"Ojaswi\", lastName=\"Athghara\")"
   ]
  },
  {
   "cell_type": "markdown",
   "id": "0c1675f7",
   "metadata": {},
   "source": [
    "# Lambdas\n",
    "\n",
    "Lambdas are one line short functions that can be used instead of functions.</br>\n",
    "For demonstration purposes the, lambdas are created separately and behaves like def (functions) only.</br>\n",
    "For optimized code, inject the lambda directly to the function.\n"
   ]
  },
  {
   "cell_type": "markdown",
   "id": "2bb487c8",
   "metadata": {},
   "source": []
  },
  {
   "cell_type": "code",
   "execution_count": null,
   "id": "b66bd07b",
   "metadata": {},
   "outputs": [
    {
     "name": "stdout",
     "output_type": "stream",
     "text": [
      "11\n"
     ]
    }
   ],
   "source": [
    "# define a lambda that sums two numbers\n",
    "from typing import Callable\n",
    "\n",
    "AddLambda = Callable[[int, int], int]  # define args and return type\n",
    "\n",
    "add: AddLambda = lambda x, y: x + y\n",
    "print(add(5, 6))"
   ]
  },
  {
   "cell_type": "code",
   "execution_count": null,
   "id": "45551c82",
   "metadata": {},
   "outputs": [
    {
     "name": "stdout",
     "output_type": "stream",
     "text": [
      "27\n"
     ]
    }
   ],
   "source": [
    "# example of a practical use case\n",
    "\n",
    "SquareLambda = Callable[[int], int]\n",
    "square: SquareLambda = lambda x: x ** 2\n",
    "\n",
    "def squareAdd2(n: int) -> int:\n",
    "    return 2 + square(n)\n",
    "\n",
    "print(squareAdd2(5))"
   ]
  },
  {
   "cell_type": "markdown",
   "id": "0596b22d",
   "metadata": {},
   "source": [
    "# Higher Order Functions\n"
   ]
  },
  {
   "cell_type": "markdown",
   "id": "e673a16c",
   "metadata": {},
   "source": [
    "## Map\n"
   ]
  },
  {
   "cell_type": "code",
   "execution_count": 8,
   "id": "e9ee1895",
   "metadata": {},
   "outputs": [
    {
     "name": "stdout",
     "output_type": "stream",
     "text": [
      "[1, 4, 9, 16, 25]\n"
     ]
    }
   ],
   "source": [
    "from typing import Callable\n",
    "\n",
    "# define a lambda and its type\n",
    "\n",
    "SuqaredLambda = Callable[[int], int]\n",
    "squared: SuqaredLambda = lambda x : x ** 2\n",
    "\n",
    "numbers: list[int] = [1, 2, 3, 4, 5]\n",
    "\n",
    "# use the map\n",
    "squaredNumbers = list(map(squared, numbers)) # converting to list is necessary\n",
    "\n",
    "print(squaredNumbers)"
   ]
  },
  {
   "cell_type": "code",
   "execution_count": 12,
   "id": "77403171",
   "metadata": {},
   "outputs": [
    {
     "name": "stdout",
     "output_type": "stream",
     "text": [
      "[{'code': 1, 'name': 'ojas'}, {'code': 2, 'name': 'jaso'}, {'code': 3, 'name': 'soja'}, {'code': 4, 'name': 'ajos'}]\n"
     ]
    }
   ],
   "source": [
    "# custom typings and map\n",
    "\n",
    "# define a custom type\n",
    "from typing import TypedDict\n",
    "class TEmployee(TypedDict):\n",
    "    code: int\n",
    "    name: str\n",
    "\n",
    "# define a lambda for the map operation\n",
    "EmployeeLambda = Callable[[int, str], TEmployee] # type\n",
    "empLambda: EmployeeLambda = lambda code, name: {\"code\": code, \"name\": name}\n",
    "\n",
    "\n",
    "codes: list[int] = [1, 2, 3, 4]\n",
    "names: list[str] = ['ojas', 'jaso', 'soja', 'ajos']\n",
    "\n",
    "employees = list(map(empLambda, codes, names))  # map can take multiple sequences \n",
    "print(employees)"
   ]
  },
  {
   "cell_type": "markdown",
   "id": "eb8d4bf6",
   "metadata": {},
   "source": [
    "## Reduce\n"
   ]
  },
  {
   "cell_type": "code",
   "execution_count": 17,
   "id": "611f4cfc",
   "metadata": {},
   "outputs": [
    {
     "name": "stdout",
     "output_type": "stream",
     "text": [
      "127000\n"
     ]
    }
   ],
   "source": [
    "from functools import reduce\n",
    "\n",
    "# define a type employee and create a list\n",
    "from typing import TypedDict\n",
    "class TEmployee(TypedDict):\n",
    "    name: str\n",
    "    salary: int\n",
    "\n",
    "# create a list of employees\n",
    "employees: list[TEmployee] = [{\"name\": 'ojas', \"salary\": 56000}, {\"name\": \"tiwari\", \"salary\": 71000}]\n",
    "\n",
    "# create a lambda to add salary of two employees\n",
    "TAddSalaryLambda = Callable[[int, TEmployee], int]    # type -> the sequence is important, first int then TEmployee\n",
    "addSalaryLambda: TAddSalaryLambda = lambda total, e1: e1[\"salary\"] + total\n",
    "\n",
    "totalSalary: int = reduce(addSalaryLambda, employees, 0) # lambda, list, initial value\n",
    "print(totalSalary)"
   ]
  },
  {
   "cell_type": "markdown",
   "id": "9557ef50",
   "metadata": {},
   "source": [
    "## Sort\n",
    "\n",
    "And demonstration of sublist lambda\n"
   ]
  },
  {
   "cell_type": "code",
   "execution_count": 18,
   "id": "1d400535",
   "metadata": {},
   "outputs": [
    {
     "name": "stdout",
     "output_type": "stream",
     "text": [
      "[['tiwari', 43], ['ojas', 49]]\n"
     ]
    }
   ],
   "source": [
    "# sort a list with sublists\n",
    "scores = [['ojas', 49], ['tiwari', 43]]\n",
    "\n",
    "TSortScoresLambda = Callable[[list[int | str]], int]\n",
    "sortScoreLambda: TSortScoresLambda = lambda score: score[1] # type: ignore\n",
    "\n",
    "scores.sort(key = sortScoreLambda)\n",
    "print(scores)"
   ]
  },
  {
   "cell_type": "markdown",
   "id": "22ec61fd",
   "metadata": {},
   "source": [
    "## Filter\n"
   ]
  },
  {
   "cell_type": "code",
   "execution_count": 21,
   "id": "0962899e",
   "metadata": {},
   "outputs": [
    {
     "name": "stdout",
     "output_type": "stream",
     "text": [
      "[28, 23, 45, 43]\n"
     ]
    }
   ],
   "source": [
    "ages: list[int] = [14, 28, 23, 12, 45, 15, 43]\n",
    "\n",
    "TFilterAgeLambda = Callable[[int], bool]\n",
    "filterAgeLambda: TFilterAgeLambda = lambda x : x > 18\n",
    "\n",
    "print(list(filter(filterAgeLambda, ages)))"
   ]
  }
 ],
 "metadata": {
  "kernelspec": {
   "display_name": "Python 3 (ipykernel)",
   "language": "python",
   "name": "python3"
  }
 },
 "nbformat": 4,
 "nbformat_minor": 5
}
